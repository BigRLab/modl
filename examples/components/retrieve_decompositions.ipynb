{
 "cells": [
  {
   "cell_type": "code",
   "execution_count": 58,
   "metadata": {},
   "outputs": [],
   "source": [
    "from pymongo import MongoClient, \n",
    "import pandas as pd\n",
    "\n",
    "client = MongoClient(host='localhost', port=27017)\n",
    "db = client['amensch']\n",
    "\n",
    "runs = db['runs']\n",
    "\n",
    "\n",
    "def first_trial():\n",
    "    # Build dataframe\n",
    "    results = runs.aggregate([{\"$match\": {'experiment.name': 'decomposition',\n",
    "                                          '_id': {\"$gte\": 374, \"$lte\": 380}}},\n",
    "                              {\"$sort\": {'_id': -1}},\n",
    "                              {\"$skip\": 1},\n",
    "                              {\"$limit\": 6},\n",
    "                              {\"$project\":\n",
    "                                  {\n",
    "                                      'alpha': '$config.alpha',\n",
    "                                      'n_components': '$config.n_components',\n",
    "                                      'dec_score': '$info.dec_score',\n",
    "                                      'dec_final_score': '$info.dec_final_score',\n",
    "                                      'artifacts': '$artifacts',\n",
    "                                  }\n",
    "                              },\n",
    "                              {\"$unwind\": \"$artifacts\"},\n",
    "                              {\"$match\": {'artifacts.name': {\"$regex\": \".*components.*.nii.gz\"}}},\n",
    "                              {\"$project\":\n",
    "                                  {\n",
    "                                      'components_name': '$artifacts.name',\n",
    "                                      'components_file_id': '$artifacts.file_id',\n",
    "                                      'alpha': 1,\n",
    "                                      'n_components': 1,\n",
    "                                      'dec_score': 1,\n",
    "                                      'dec_final_score': 1,\n",
    "                                  }\n",
    "                              },\n",
    "                              ])\n",
    "\n",
    "    return pd.DataFrame(list(results))"
   ]
  },
  {
   "cell_type": "code",
   "execution_count": 55,
   "metadata": {},
   "outputs": [],
   "source": [
    "df =first_trial()"
   ]
  },
  {
   "cell_type": "code",
   "execution_count": 57,
   "metadata": {
    "collapsed": false
   },
   "outputs": [
    {
     "data": {
      "text/plain": [
       "0    58a38d81611b0a5f8558e950\n1    58a38ac7611b0a5f8458e950\n2    58a38ac6611b0a5f8358e950\n3    58a38a3d611b0a5f8258e950\n4    58a4334f611b0a5f8258e966\n5    58a4336a611b0a5f8258e97b\n6    58a38a3c611b0a5f8158e950\n7    58a4334f611b0a5f8158e959\n8    58a4336a611b0a5f8158e961\nName: components_file_id, dtype: object"
      ]
     },
     "execution_count": 57,
     "metadata": {},
     "output_type": "execute_result"
    }
   ],
   "source": [
    "import os\n",
    "from os.path import expanduser\n",
    "\n",
    "ids = df['components_file_id']\n",
    "output_dir = expanduser('~/output/decomposition')\n",
    "if not os.path.exists(output_dir):\n",
    "    os.makedirs(output_dir)\n",
    "for this_id in ids:"
   ]
  },
  {
   "cell_type": "code",
   "execution_count": null,
   "metadata": {},
   "outputs": [],
   "source": [
    ""
   ]
  }
 ],
 "metadata": {},
 "nbformat": 4,
 "nbformat_minor": 0
}