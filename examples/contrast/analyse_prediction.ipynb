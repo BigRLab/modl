{
 "cells": [
  {
   "cell_type": "code",
   "execution_count": 1,
   "metadata": {
    "collapsed": false
   },
   "outputs": [
    {
     "name": "stdout",
     "output_type": "stream",
     "text": [
      "/storage/store/work/amensch/data/modl_data/pipeline/contrast/prediction/1\n"
     ]
    }
   ],
   "source": [
    "cd ~/data/modl_data/pipeline/contrast/prediction/1"
   ]
  },
  {
   "cell_type": "code",
   "execution_count": 2,
   "metadata": {
    "collapsed": false
   },
   "outputs": [
    {
     "name": "stdout",
     "output_type": "stream",
     "text": [
      "\u001b[0m\u001b[01;34m_artifacts\u001b[0m/  config.json  cout.txt  info.json  prediction.csv  run.json\r\n"
     ]
    }
   ],
   "source": [
    "ls"
   ]
  },
  {
   "cell_type": "code",
   "execution_count": 3,
   "metadata": {
    "collapsed": true
   },
   "outputs": [],
   "source": [
    "from sklearn.externals.joblib import load\n",
    "from sklearn.pipeline import Pipeline\n",
    "import pandas as pd\n",
    "\n",
    "from nilearn.input_data import MultiNiftiMasker\n",
    "from nilearn.datasets import load_mni152_brain_mask\n",
    "from modl.datasets.hcp import fetch_hcp"
   ]
  },
  {
   "cell_type": "code",
   "execution_count": 4,
   "metadata": {
    "collapsed": true
   },
   "outputs": [],
   "source": [
    "%matplotlib inline\n",
    "\n",
    "def plot_confusion_matrix(conf_arr, labels):\n",
    "\n",
    "    fig = plt.figure(figsize=(8, 8))\n",
    "    plt.clf()\n",
    "    ax = fig.add_subplot(111)\n",
    "    ax.set_aspect(1)\n",
    "    \n",
    "    S = conf_arr.sum(axis=0)\n",
    "    S[S == 0] = 1\n",
    "    conf_arr = conf_arr / S\n",
    "    \n",
    "    res = ax.imshow(conf_arr,\n",
    "                interpolation='nearest')\n",
    "\n",
    "    width, height = conf_arr.shape\n",
    "\n",
    "    plt.xticks(range(width))\n",
    "    plt.yticks(range(height))\n",
    "    ax.set_yticklabels(labels)\n",
    "    ax.set_xticklabels(labels, rotation=90)\n",
    "    fig.colorbar(res)\n",
    "    \n",
    "def plot_gram_matrix(G, labels):\n",
    "    fig = plt.figure(figsize=(8, 8))\n",
    "    plt.clf()\n",
    "    ax = fig.add_subplot(111)\n",
    "    ax.set_aspect(1)\n",
    "    res = ax.imshow(G,\n",
    "                interpolation='nearest')\n",
    "\n",
    "    width, height = G.shape\n",
    "\n",
    "    plt.xticks(range(width))\n",
    "    plt.yticks(range(height))\n",
    "    ax.set_yticklabels(labels)\n",
    "    ax.set_xticklabels(labels, rotation=90)\n",
    "    fig.colorbar(res)"
   ]
  },
  {
   "cell_type": "code",
   "execution_count": 5,
   "metadata": {
    "collapsed": false
   },
   "outputs": [
    {
     "name": "stdout",
     "output_type": "stream",
     "text": [
      "/storage/store/work/amensch/data/modl_data/pipeline/contrast/prediction/1/_artifacts\n"
     ]
    }
   ],
   "source": [
    "cd _artifacts"
   ]
  },
  {
   "cell_type": "code",
   "execution_count": 6,
   "metadata": {
    "collapsed": false
   },
   "outputs": [
    {
     "name": "stderr",
     "output_type": "stream",
     "text": [
      "Using TensorFlow backend.\n"
     ]
    }
   ],
   "source": [
    "from modl.fixes import OurModel\n",
    "estimator = load('estimator.pkl')\n",
    "label_encoder = load('label_encoder.pkl')\n",
    "prediction = pd.read_csv('prediction.csv')"
   ]
  },
  {
   "cell_type": "code",
   "execution_count": 7,
   "metadata": {
    "collapsed": false
   },
   "outputs": [
    {
     "data": {
      "text/plain": [
       "Pipeline(memory=Memory(cachedir='/home/parietal/amensch/cache/joblib'),\n",
       "     steps=[('classifier', LogisticRegression(C=4.761904761904762, class_weight=None, dual=False,\n",
       "          fit_intercept=True, intercept_scaling=1, max_iter=200,\n",
       "          multi_class='multinomial', n_jobs=24, penalty='l2',\n",
       "          random_state=890565552, solver='saga', tol=1e-07, verbose=2,\n",
       "          warm_start=False))])"
      ]
     },
     "execution_count": 7,
     "metadata": {},
     "output_type": "execute_result"
    }
   ],
   "source": []
  },
  {
   "cell_type": "code",
   "execution_count": null,
   "metadata": {
    "collapsed": false
   },
   "outputs": [],
   "source": [
    "estimator.named_steps['classifier']"
   ]
  },
  {
   "cell_type": "code",
   "execution_count": null,
   "metadata": {
    "collapsed": false
   },
   "outputs": [],
   "source": [
    "model = estimator.steps[-1][1].stacked_model_\n",
    "\n",
    "supervised_layers =  model.layers_by_depth[2]\n",
    "embedding_layer =  model.layers_by_depth[3][0]\n",
    "\n",
    "w0 = []\n",
    "for layer in supervised_layers:\n",
    "    this_w0, this_b0 = layer.get_weights()\n",
    "    w0.append(this_w0)\n",
    "w0 = np.concatenate(w0, axis=1)\n",
    "w1 = embedding_layer.get_weights()[0]\n",
    "\n",
    "coef = w1.dot(w0).T"
   ]
  },
  {
   "cell_type": "code",
   "execution_count": null,
   "metadata": {
    "collapsed": false
   },
   "outputs": [],
   "source": [
    "print('Sparsity', (coef == 0).sum() / coef.size)"
   ]
  },
  {
   "cell_type": "code",
   "execution_count": 8,
   "metadata": {
    "collapsed": false
   },
   "outputs": [],
   "source": [
    "match = prediction['true_label'] == prediction['predicted_label']\n",
    "prediction = prediction.assign(match=match)\n",
    "prediction.set_index(['fold', 'dataset', 'subject', 'task', 'contrast', 'direction'], inplace=True)\n",
    "prediction.sort_index(inplace=True)\n",
    "datasets = prediction.index.get_level_values('dataset').unique().values"
   ]
  },
  {
   "cell_type": "code",
   "execution_count": 9,
   "metadata": {
    "collapsed": false
   },
   "outputs": [
    {
     "data": {
      "text/plain": [
       "1890"
      ]
     },
     "execution_count": 9,
     "metadata": {},
     "output_type": "execute_result"
    }
   ],
   "source": [
    "len(prediction.loc['train'])"
   ]
  },
  {
   "cell_type": "code",
   "execution_count": 10,
   "metadata": {
    "collapsed": false
   },
   "outputs": [
    {
     "data": {
      "text/plain": [
       "dataset  subject  task       contrast              direction\n",
       "archi    1        emotional  expression_control    level1        True\n",
       "                             expression_intention  level1        True\n",
       "                             expression_sex        level1        True\n",
       "                             face_control          level1        True\n",
       "                             face_sex              level1        True\n",
       "                             face_trusty           level1        True\n",
       "                  localizer  audio                 level1        True\n",
       "                             calculaudio           level1        True\n",
       "                             calculvideo           level1        True\n",
       "                             clicDaudio            level1        True\n",
       "                             clicDvideo            level1        True\n",
       "                             clicGaudio            level1        True\n",
       "                             clicGvideo            level1        True\n",
       "                             computation           level1        True\n",
       "                             damier_H              level1        True\n",
       "                             damier_V              level1        True\n",
       "                             motor-cognitive       level1        True\n",
       "                  parietal   object_grasp          level1        True\n",
       "                             object_orientation    level1        True\n",
       "                             rotation_hand         level1        True\n",
       "                             rotation_side         level1        True\n",
       "                             saccade               level1        True\n",
       "                  social     false_belief_audio    level1        True\n",
       "                             false_belief_video    level1        True\n",
       "                             mecanistic_audio      level1        True\n",
       "                             mecanistic_video      level1        True\n",
       "                             non_speech            level1        True\n",
       "                             speech                level1        True\n",
       "                             triangle_intention    level1        True\n",
       "                             triangle_random       level1        True\n",
       "                                                                ...  \n",
       "         79       emotional  expression_control    level1       False\n",
       "                             expression_intention  level1        True\n",
       "                             expression_sex        level1        True\n",
       "                             face_control          level1        True\n",
       "                             face_sex              level1        True\n",
       "                             face_trusty           level1        True\n",
       "                  localizer  audio                 level1        True\n",
       "                             calculaudio           level1        True\n",
       "                             calculvideo           level1        True\n",
       "                             clicDaudio            level1        True\n",
       "                             clicDvideo            level1        True\n",
       "                             clicGaudio            level1        True\n",
       "                             clicGvideo            level1        True\n",
       "                             computation           level1        True\n",
       "                             damier_H              level1        True\n",
       "                             damier_V              level1        True\n",
       "                             motor-cognitive       level1        True\n",
       "                  parietal   object_grasp          level1        True\n",
       "                             object_orientation    level1        True\n",
       "                             rotation_hand         level1        True\n",
       "                             rotation_side         level1        True\n",
       "                             saccade               level1        True\n",
       "                  social     false_belief_audio    level1        True\n",
       "                             false_belief_video    level1        True\n",
       "                             mecanistic_audio      level1        True\n",
       "                             mecanistic_video      level1        True\n",
       "                             non_speech            level1        True\n",
       "                             speech                level1        True\n",
       "                             triangle_intention    level1        True\n",
       "                             triangle_random       level1        True\n",
       "Name: match, dtype: bool"
      ]
     },
     "execution_count": 10,
     "metadata": {},
     "output_type": "execute_result"
    }
   ],
   "source": [
    "prediction.loc['train', 'match']"
   ]
  },
  {
   "cell_type": "code",
   "execution_count": 11,
   "metadata": {
    "collapsed": false,
    "scrolled": true
   },
   "outputs": [],
   "source": [
    "labels_list = []\n",
    "tasks_list = []\n",
    "for dataset in datasets:\n",
    "    first_subject = prediction.loc['test', dataset].index.get_level_values('subject')[0]\n",
    "    data = prediction.loc[('test', dataset, first_subject)]\n",
    "    labels = data.index.get_level_values('contrast').values\n",
    "    tasks = data.index.get_level_values('task').values\n",
    "    labels_list.append(labels)\n",
    "    tasks_list.append(tasks)\n",
    "labels = np.concatenate(labels_list)\n",
    "tasks = np.concatenate(tasks_list)"
   ]
  },
  {
   "cell_type": "code",
   "execution_count": 12,
   "metadata": {
    "collapsed": true
   },
   "outputs": [],
   "source": [
    "from sklearn.metrics import confusion_matrix"
   ]
  },
  {
   "cell_type": "code",
   "execution_count": 13,
   "metadata": {
    "collapsed": false
   },
   "outputs": [],
   "source": [
    "train_conf = confusion_matrix(prediction.loc['train', 'true_label'],\n",
    "                        prediction.loc['train', 'predicted_label'], labels=labels)\n",
    "test_conf = confusion_matrix(prediction.loc['test', 'true_label'],\n",
    "                        prediction.loc['test', 'predicted_label'], labels=labels)"
   ]
  },
  {
   "cell_type": "code",
   "execution_count": 14,
   "metadata": {
    "collapsed": false,
    "scrolled": false
   },
   "outputs": [
    {
     "data": {
      "image/png": "[encoded data removed]",
      "text/plain": [
       "<matplotlib.figure.Figure at 0x7f18c4a09a90>"
      ]
     },
     "metadata": {},
     "output_type": "display_data"
    }
   ],
   "source": [
    "plot_confusion_matrix(test_conf, labels)"
   ]
  },
  {
   "cell_type": "code",
   "execution_count": 15,
   "metadata": {
    "collapsed": false,
    "scrolled": false
   },
   "outputs": [
    {
     "data": {
      "text/plain": [
       "dataset  task       contrast            \n",
       "archi    emotional  expression_control      0.625\n",
       "                    expression_intention    1.000\n",
       "                    expression_sex          0.375\n",
       "                    face_control            0.750\n",
       "                    face_sex                0.875\n",
       "                    face_trusty             0.875\n",
       "         localizer  audio                   1.000\n",
       "                    calculaudio             1.000\n",
       "                    calculvideo             1.000\n",
       "                    clicDaudio              0.875\n",
       "                    clicDvideo              1.000\n",
       "                    clicGaudio              1.000\n",
       "                    clicGvideo              1.000\n",
       "                    computation             1.000\n",
       "                    damier_H                0.750\n",
       "                    damier_V                0.750\n",
       "                    motor-cognitive         1.000\n",
       "         parietal   object_grasp            1.000\n",
       "                    object_orientation      0.625\n",
       "                    rotation_hand           1.000\n",
       "                    rotation_side           1.000\n",
       "                    saccade                 1.000\n",
       "         social     false_belief_audio      1.000\n",
       "                    false_belief_video      0.875\n",
       "                    mecanistic_audio        0.875\n",
       "                    mecanistic_video        0.875\n",
       "                    non_speech              1.000\n",
       "                    speech                  1.000\n",
       "                    triangle_intention      0.750\n",
       "                    triangle_random         0.875\n",
       "Name: match, dtype: float64"
      ]
     },
     "execution_count": 15,
     "metadata": {},
     "output_type": "execute_result"
    }
   ],
   "source": [
    "prediction['match'].groupby(level=['fold', 'dataset', 'task', 'contrast']).apply(np.mean)['test']"
   ]
  },
  {
   "cell_type": "code",
   "execution_count": null,
   "metadata": {
    "collapsed": true
   },
   "outputs": [],
   "source": []
  },
  {
   "cell_type": "code",
   "execution_count": 21,
   "metadata": {
    "collapsed": false
   },
   "outputs": [
    {
     "data": {
      "text/html": [
       "<div>\n",
       "<table border=\"1\" class=\"dataframe\">\n",
       "  <thead>\n",
       "    <tr style=\"text-align: right;\">\n",
       "      <th></th>\n",
       "      <th></th>\n",
       "      <th></th>\n",
       "      <th></th>\n",
       "      <th></th>\n",
       "      <th>predicted_label</th>\n",
       "      <th>true_label</th>\n",
       "      <th>match</th>\n",
       "    </tr>\n",
       "    <tr>\n",
       "      <th>dataset</th>\n",
       "      <th>subject</th>\n",
       "      <th>task</th>\n",
       "      <th>contrast</th>\n",
       "      <th>direction</th>\n",
       "      <th></th>\n",
       "      <th></th>\n",
       "      <th></th>\n",
       "    </tr>\n",
       "  </thead>\n",
       "  <tbody>\n",
       "    <tr>\n",
       "      <th rowspan=\"61\" valign=\"top\">archi</th>\n",
       "      <th rowspan=\"30\" valign=\"top\">2</th>\n",
       "      <th rowspan=\"6\" valign=\"top\">emotional</th>\n",
       "      <th>expression_control</th>\n",
       "      <th>level1</th>\n",
       "      <td>face_control</td>\n",
       "      <td>expression_control</td>\n",
       "      <td>False</td>\n",
       "    </tr>\n",
       "    <tr>\n",
       "      <th>expression_intention</th>\n",
       "      <th>level1</th>\n",
       "      <td>expression_intention</td>\n",
       "      <td>expression_intention</td>\n",
       "      <td>True</td>\n",
       "    </tr>\n",
       "    <tr>\n",
       "      <th>expression_sex</th>\n",
       "      <th>level1</th>\n",
       "      <td>mecanistic_video</td>\n",
       "      <td>expression_sex</td>\n",
       "      <td>False</td>\n",
       "    </tr>\n",
       "    <tr>\n",
       "      <th>face_control</th>\n",
       "      <th>level1</th>\n",
       "      <td>face_control</td>\n",
       "      <td>face_control</td>\n",
       "      <td>True</td>\n",
       "    </tr>\n",
       "    <tr>\n",
       "      <th>face_sex</th>\n",
       "      <th>level1</th>\n",
       "      <td>calculvideo</td>\n",
       "      <td>face_sex</td>\n",
       "      <td>False</td>\n",
       "    </tr>\n",
       "    <tr>\n",
       "      <th>face_trusty</th>\n",
       "      <th>level1</th>\n",
       "      <td>face_trusty</td>\n",
       "      <td>face_trusty</td>\n",
       "      <td>True</td>\n",
       "    </tr>\n",
       "    <tr>\n",
       "      <th rowspan=\"11\" valign=\"top\">localizer</th>\n",
       "      <th>audio</th>\n",
       "      <th>level1</th>\n",
       "      <td>audio</td>\n",
       "      <td>audio</td>\n",
       "      <td>True</td>\n",
       "    </tr>\n",
       "    <tr>\n",
       "      <th>calculaudio</th>\n",
       "      <th>level1</th>\n",
       "      <td>calculaudio</td>\n",
       "      <td>calculaudio</td>\n",
       "      <td>True</td>\n",
       "    </tr>\n",
       "    <tr>\n",
       "      <th>calculvideo</th>\n",
       "      <th>level1</th>\n",
       "      <td>calculvideo</td>\n",
       "      <td>calculvideo</td>\n",
       "      <td>True</td>\n",
       "    </tr>\n",
       "    <tr>\n",
       "      <th>clicDaudio</th>\n",
       "      <th>level1</th>\n",
       "      <td>clicDaudio</td>\n",
       "      <td>clicDaudio</td>\n",
       "      <td>True</td>\n",
       "    </tr>\n",
       "    <tr>\n",
       "      <th>clicDvideo</th>\n",
       "      <th>level1</th>\n",
       "      <td>clicDvideo</td>\n",
       "      <td>clicDvideo</td>\n",
       "      <td>True</td>\n",
       "    </tr>\n",
       "    <tr>\n",
       "      <th>clicGaudio</th>\n",
       "      <th>level1</th>\n",
       "      <td>clicGaudio</td>\n",
       "      <td>clicGaudio</td>\n",
       "      <td>True</td>\n",
       "    </tr>\n",
       "    <tr>\n",
       "      <th>clicGvideo</th>\n",
       "      <th>level1</th>\n",
       "      <td>clicGvideo</td>\n",
       "      <td>clicGvideo</td>\n",
       "      <td>True</td>\n",
       "    </tr>\n",
       "    <tr>\n",
       "      <th>computation</th>\n",
       "      <th>level1</th>\n",
       "      <td>computation</td>\n",
       "      <td>computation</td>\n",
       "      <td>True</td>\n",
       "    </tr>\n",
       "    <tr>\n",
       "      <th>damier_H</th>\n",
       "      <th>level1</th>\n",
       "      <td>damier_V</td>\n",
       "      <td>damier_H</td>\n",
       "      <td>False</td>\n",
       "    </tr>\n",
       "    <tr>\n",
       "      <th>damier_V</th>\n",
       "      <th>level1</th>\n",
       "      <td>damier_V</td>\n",
       "      <td>damier_V</td>\n",
       "      <td>True</td>\n",
       "    </tr>\n",
       "    <tr>\n",
       "      <th>motor-cognitive</th>\n",
       "      <th>level1</th>\n",
       "      <td>motor-cognitive</td>\n",
       "      <td>motor-cognitive</td>\n",
       "      <td>True</td>\n",
       "    </tr>\n",
       "    <tr>\n",
       "      <th rowspan=\"5\" valign=\"top\">parietal</th>\n",
       "      <th>object_grasp</th>\n",
       "      <th>level1</th>\n",
       "      <td>object_grasp</td>\n",
       "      <td>object_grasp</td>\n",
       "      <td>True</td>\n",
       "    </tr>\n",
       "    <tr>\n",
       "      <th>object_orientation</th>\n",
       "      <th>level1</th>\n",
       "      <td>clicDvideo</td>\n",
       "      <td>object_orientation</td>\n",
       "      <td>False</td>\n",
       "    </tr>\n",
       "    <tr>\n",
       "      <th>rotation_hand</th>\n",
       "      <th>level1</th>\n",
       "      <td>rotation_hand</td>\n",
       "      <td>rotation_hand</td>\n",
       "      <td>True</td>\n",
       "    </tr>\n",
       "    <tr>\n",
       "      <th>rotation_side</th>\n",
       "      <th>level1</th>\n",
       "      <td>rotation_side</td>\n",
       "      <td>rotation_side</td>\n",
       "      <td>True</td>\n",
       "    </tr>\n",
       "    <tr>\n",
       "      <th>saccade</th>\n",
       "      <th>level1</th>\n",
       "      <td>saccade</td>\n",
       "      <td>saccade</td>\n",
       "      <td>True</td>\n",
       "    </tr>\n",
       "    <tr>\n",
       "      <th rowspan=\"8\" valign=\"top\">social</th>\n",
       "      <th>false_belief_audio</th>\n",
       "      <th>level1</th>\n",
       "      <td>false_belief_audio</td>\n",
       "      <td>false_belief_audio</td>\n",
       "      <td>True</td>\n",
       "    </tr>\n",
       "    <tr>\n",
       "      <th>false_belief_video</th>\n",
       "      <th>level1</th>\n",
       "      <td>mecanistic_video</td>\n",
       "      <td>false_belief_video</td>\n",
       "      <td>False</td>\n",
       "    </tr>\n",
       "    <tr>\n",
       "      <th>mecanistic_audio</th>\n",
       "      <th>level1</th>\n",
       "      <td>mecanistic_audio</td>\n",
       "      <td>mecanistic_audio</td>\n",
       "      <td>True</td>\n",
       "    </tr>\n",
       "    <tr>\n",
       "      <th>mecanistic_video</th>\n",
       "      <th>level1</th>\n",
       "      <td>mecanistic_video</td>\n",
       "      <td>mecanistic_video</td>\n",
       "      <td>True</td>\n",
       "    </tr>\n",
       "    <tr>\n",
       "      <th>non_speech</th>\n",
       "      <th>level1</th>\n",
       "      <td>non_speech</td>\n",
       "      <td>non_speech</td>\n",
       "      <td>True</td>\n",
       "    </tr>\n",
       "    <tr>\n",
       "      <th>speech</th>\n",
       "      <th>level1</th>\n",
       "      <td>speech</td>\n",
       "      <td>speech</td>\n",
       "      <td>True</td>\n",
       "    </tr>\n",
       "    <tr>\n",
       "      <th>triangle_intention</th>\n",
       "      <th>level1</th>\n",
       "      <td>triangle_intention</td>\n",
       "      <td>triangle_intention</td>\n",
       "      <td>True</td>\n",
       "    </tr>\n",
       "    <tr>\n",
       "      <th>triangle_random</th>\n",
       "      <th>level1</th>\n",
       "      <td>triangle_random</td>\n",
       "      <td>triangle_random</td>\n",
       "      <td>True</td>\n",
       "    </tr>\n",
       "    <tr>\n",
       "      <th>2</th>\n",
       "      <th>social</th>\n",
       "      <th>triangle_random</th>\n",
       "      <th>...</th>\n",
       "      <td>...</td>\n",
       "      <td>...</td>\n",
       "      <td>...</td>\n",
       "    </tr>\n",
       "    <tr>\n",
       "      <th rowspan=\"30\" valign=\"top\">76</th>\n",
       "      <th rowspan=\"6\" valign=\"top\">emotional</th>\n",
       "      <th>expression_control</th>\n",
       "      <th>level1</th>\n",
       "      <td>expression_control</td>\n",
       "      <td>expression_control</td>\n",
       "      <td>True</td>\n",
       "    </tr>\n",
       "    <tr>\n",
       "      <th>expression_intention</th>\n",
       "      <th>level1</th>\n",
       "      <td>expression_intention</td>\n",
       "      <td>expression_intention</td>\n",
       "      <td>True</td>\n",
       "    </tr>\n",
       "    <tr>\n",
       "      <th>expression_sex</th>\n",
       "      <th>level1</th>\n",
       "      <td>expression_sex</td>\n",
       "      <td>expression_sex</td>\n",
       "      <td>True</td>\n",
       "    </tr>\n",
       "    <tr>\n",
       "      <th>face_control</th>\n",
       "      <th>level1</th>\n",
       "      <td>expression_control</td>\n",
       "      <td>face_control</td>\n",
       "      <td>False</td>\n",
       "    </tr>\n",
       "    <tr>\n",
       "      <th>face_sex</th>\n",
       "      <th>level1</th>\n",
       "      <td>face_sex</td>\n",
       "      <td>face_sex</td>\n",
       "      <td>True</td>\n",
       "    </tr>\n",
       "    <tr>\n",
       "      <th>face_trusty</th>\n",
       "      <th>level1</th>\n",
       "      <td>face_sex</td>\n",
       "      <td>face_trusty</td>\n",
       "      <td>False</td>\n",
       "    </tr>\n",
       "    <tr>\n",
       "      <th rowspan=\"11\" valign=\"top\">localizer</th>\n",
       "      <th>audio</th>\n",
       "      <th>level1</th>\n",
       "      <td>audio</td>\n",
       "      <td>audio</td>\n",
       "      <td>True</td>\n",
       "    </tr>\n",
       "    <tr>\n",
       "      <th>calculaudio</th>\n",
       "      <th>level1</th>\n",
       "      <td>calculaudio</td>\n",
       "      <td>calculaudio</td>\n",
       "      <td>True</td>\n",
       "    </tr>\n",
       "    <tr>\n",
       "      <th>calculvideo</th>\n",
       "      <th>level1</th>\n",
       "      <td>calculvideo</td>\n",
       "      <td>calculvideo</td>\n",
       "      <td>True</td>\n",
       "    </tr>\n",
       "    <tr>\n",
       "      <th>clicDaudio</th>\n",
       "      <th>level1</th>\n",
       "      <td>clicDaudio</td>\n",
       "      <td>clicDaudio</td>\n",
       "      <td>True</td>\n",
       "    </tr>\n",
       "    <tr>\n",
       "      <th>clicDvideo</th>\n",
       "      <th>level1</th>\n",
       "      <td>clicDvideo</td>\n",
       "      <td>clicDvideo</td>\n",
       "      <td>True</td>\n",
       "    </tr>\n",
       "    <tr>\n",
       "      <th>clicGaudio</th>\n",
       "      <th>level1</th>\n",
       "      <td>clicGaudio</td>\n",
       "      <td>clicGaudio</td>\n",
       "      <td>True</td>\n",
       "    </tr>\n",
       "    <tr>\n",
       "      <th>clicGvideo</th>\n",
       "      <th>level1</th>\n",
       "      <td>clicGvideo</td>\n",
       "      <td>clicGvideo</td>\n",
       "      <td>True</td>\n",
       "    </tr>\n",
       "    <tr>\n",
       "      <th>computation</th>\n",
       "      <th>level1</th>\n",
       "      <td>computation</td>\n",
       "      <td>computation</td>\n",
       "      <td>True</td>\n",
       "    </tr>\n",
       "    <tr>\n",
       "      <th>damier_H</th>\n",
       "      <th>level1</th>\n",
       "      <td>damier_H</td>\n",
       "      <td>damier_H</td>\n",
       "      <td>True</td>\n",
       "    </tr>\n",
       "    <tr>\n",
       "      <th>damier_V</th>\n",
       "      <th>level1</th>\n",
       "      <td>damier_V</td>\n",
       "      <td>damier_V</td>\n",
       "      <td>True</td>\n",
       "    </tr>\n",
       "    <tr>\n",
       "      <th>motor-cognitive</th>\n",
       "      <th>level1</th>\n",
       "      <td>motor-cognitive</td>\n",
       "      <td>motor-cognitive</td>\n",
       "      <td>True</td>\n",
       "    </tr>\n",
       "    <tr>\n",
       "      <th rowspan=\"5\" valign=\"top\">parietal</th>\n",
       "      <th>object_grasp</th>\n",
       "      <th>level1</th>\n",
       "      <td>object_grasp</td>\n",
       "      <td>object_grasp</td>\n",
       "      <td>True</td>\n",
       "    </tr>\n",
       "    <tr>\n",
       "      <th>object_orientation</th>\n",
       "      <th>level1</th>\n",
       "      <td>object_orientation</td>\n",
       "      <td>object_orientation</td>\n",
       "      <td>True</td>\n",
       "    </tr>\n",
       "    <tr>\n",
       "      <th>rotation_hand</th>\n",
       "      <th>level1</th>\n",
       "      <td>rotation_hand</td>\n",
       "      <td>rotation_hand</td>\n",
       "      <td>True</td>\n",
       "    </tr>\n",
       "    <tr>\n",
       "      <th>rotation_side</th>\n",
       "      <th>level1</th>\n",
       "      <td>rotation_side</td>\n",
       "      <td>rotation_side</td>\n",
       "      <td>True</td>\n",
       "    </tr>\n",
       "    <tr>\n",
       "      <th>saccade</th>\n",
       "      <th>level1</th>\n",
       "      <td>saccade</td>\n",
       "      <td>saccade</td>\n",
       "      <td>True</td>\n",
       "    </tr>\n",
       "    <tr>\n",
       "      <th rowspan=\"8\" valign=\"top\">social</th>\n",
       "      <th>false_belief_audio</th>\n",
       "      <th>level1</th>\n",
       "      <td>false_belief_audio</td>\n",
       "      <td>false_belief_audio</td>\n",
       "      <td>True</td>\n",
       "    </tr>\n",
       "    <tr>\n",
       "      <th>false_belief_video</th>\n",
       "      <th>level1</th>\n",
       "      <td>false_belief_video</td>\n",
       "      <td>false_belief_video</td>\n",
       "      <td>True</td>\n",
       "    </tr>\n",
       "    <tr>\n",
       "      <th>mecanistic_audio</th>\n",
       "      <th>level1</th>\n",
       "      <td>mecanistic_audio</td>\n",
       "      <td>mecanistic_audio</td>\n",
       "      <td>True</td>\n",
       "    </tr>\n",
       "    <tr>\n",
       "      <th>mecanistic_video</th>\n",
       "      <th>level1</th>\n",
       "      <td>mecanistic_video</td>\n",
       "      <td>mecanistic_video</td>\n",
       "      <td>True</td>\n",
       "    </tr>\n",
       "    <tr>\n",
       "      <th>non_speech</th>\n",
       "      <th>level1</th>\n",
       "      <td>non_speech</td>\n",
       "      <td>non_speech</td>\n",
       "      <td>True</td>\n",
       "    </tr>\n",
       "    <tr>\n",
       "      <th>speech</th>\n",
       "      <th>level1</th>\n",
       "      <td>speech</td>\n",
       "      <td>speech</td>\n",
       "      <td>True</td>\n",
       "    </tr>\n",
       "    <tr>\n",
       "      <th>triangle_intention</th>\n",
       "      <th>level1</th>\n",
       "      <td>triangle_random</td>\n",
       "      <td>triangle_intention</td>\n",
       "      <td>False</td>\n",
       "    </tr>\n",
       "    <tr>\n",
       "      <th>triangle_random</th>\n",
       "      <th>level1</th>\n",
       "      <td>triangle_random</td>\n",
       "      <td>triangle_random</td>\n",
       "      <td>True</td>\n",
       "    </tr>\n",
       "  </tbody>\n",
       "</table>\n",
       "<p>240 rows × 3 columns</p>\n",
       "</div>"
      ],
      "text/plain": [
       "                                                               predicted_label  \\\n",
       "dataset subject task      contrast             direction                         \n",
       "archi   2       emotional expression_control   level1             face_control   \n",
       "                          expression_intention level1     expression_intention   \n",
       "                          expression_sex       level1         mecanistic_video   \n",
       "                          face_control         level1             face_control   \n",
       "                          face_sex             level1              calculvideo   \n",
       "                          face_trusty          level1              face_trusty   \n",
       "                localizer audio                level1                    audio   \n",
       "                          calculaudio          level1              calculaudio   \n",
       "                          calculvideo          level1              calculvideo   \n",
       "                          clicDaudio           level1               clicDaudio   \n",
       "                          clicDvideo           level1               clicDvideo   \n",
       "                          clicGaudio           level1               clicGaudio   \n",
       "                          clicGvideo           level1               clicGvideo   \n",
       "                          computation          level1              computation   \n",
       "                          damier_H             level1                 damier_V   \n",
       "                          damier_V             level1                 damier_V   \n",
       "                          motor-cognitive      level1          motor-cognitive   \n",
       "                parietal  object_grasp         level1             object_grasp   \n",
       "                          object_orientation   level1               clicDvideo   \n",
       "                          rotation_hand        level1            rotation_hand   \n",
       "                          rotation_side        level1            rotation_side   \n",
       "                          saccade              level1                  saccade   \n",
       "                social    false_belief_audio   level1       false_belief_audio   \n",
       "                          false_belief_video   level1         mecanistic_video   \n",
       "                          mecanistic_audio     level1         mecanistic_audio   \n",
       "                          mecanistic_video     level1         mecanistic_video   \n",
       "                          non_speech           level1               non_speech   \n",
       "                          speech               level1                   speech   \n",
       "                          triangle_intention   level1       triangle_intention   \n",
       "                          triangle_random      level1          triangle_random   \n",
       "...                                                                        ...   \n",
       "        76      emotional expression_control   level1       expression_control   \n",
       "                          expression_intention level1     expression_intention   \n",
       "                          expression_sex       level1           expression_sex   \n",
       "                          face_control         level1       expression_control   \n",
       "                          face_sex             level1                 face_sex   \n",
       "                          face_trusty          level1                 face_sex   \n",
       "                localizer audio                level1                    audio   \n",
       "                          calculaudio          level1              calculaudio   \n",
       "                          calculvideo          level1              calculvideo   \n",
       "                          clicDaudio           level1               clicDaudio   \n",
       "                          clicDvideo           level1               clicDvideo   \n",
       "                          clicGaudio           level1               clicGaudio   \n",
       "                          clicGvideo           level1               clicGvideo   \n",
       "                          computation          level1              computation   \n",
       "                          damier_H             level1                 damier_H   \n",
       "                          damier_V             level1                 damier_V   \n",
       "                          motor-cognitive      level1          motor-cognitive   \n",
       "                parietal  object_grasp         level1             object_grasp   \n",
       "                          object_orientation   level1       object_orientation   \n",
       "                          rotation_hand        level1            rotation_hand   \n",
       "                          rotation_side        level1            rotation_side   \n",
       "                          saccade              level1                  saccade   \n",
       "                social    false_belief_audio   level1       false_belief_audio   \n",
       "                          false_belief_video   level1       false_belief_video   \n",
       "                          mecanistic_audio     level1         mecanistic_audio   \n",
       "                          mecanistic_video     level1         mecanistic_video   \n",
       "                          non_speech           level1               non_speech   \n",
       "                          speech               level1                   speech   \n",
       "                          triangle_intention   level1          triangle_random   \n",
       "                          triangle_random      level1          triangle_random   \n",
       "\n",
       "                                                                    true_label  \\\n",
       "dataset subject task      contrast             direction                         \n",
       "archi   2       emotional expression_control   level1       expression_control   \n",
       "                          expression_intention level1     expression_intention   \n",
       "                          expression_sex       level1           expression_sex   \n",
       "                          face_control         level1             face_control   \n",
       "                          face_sex             level1                 face_sex   \n",
       "                          face_trusty          level1              face_trusty   \n",
       "                localizer audio                level1                    audio   \n",
       "                          calculaudio          level1              calculaudio   \n",
       "                          calculvideo          level1              calculvideo   \n",
       "                          clicDaudio           level1               clicDaudio   \n",
       "                          clicDvideo           level1               clicDvideo   \n",
       "                          clicGaudio           level1               clicGaudio   \n",
       "                          clicGvideo           level1               clicGvideo   \n",
       "                          computation          level1              computation   \n",
       "                          damier_H             level1                 damier_H   \n",
       "                          damier_V             level1                 damier_V   \n",
       "                          motor-cognitive      level1          motor-cognitive   \n",
       "                parietal  object_grasp         level1             object_grasp   \n",
       "                          object_orientation   level1       object_orientation   \n",
       "                          rotation_hand        level1            rotation_hand   \n",
       "                          rotation_side        level1            rotation_side   \n",
       "                          saccade              level1                  saccade   \n",
       "                social    false_belief_audio   level1       false_belief_audio   \n",
       "                          false_belief_video   level1       false_belief_video   \n",
       "                          mecanistic_audio     level1         mecanistic_audio   \n",
       "                          mecanistic_video     level1         mecanistic_video   \n",
       "                          non_speech           level1               non_speech   \n",
       "                          speech               level1                   speech   \n",
       "                          triangle_intention   level1       triangle_intention   \n",
       "                          triangle_random      level1          triangle_random   \n",
       "...                                                                        ...   \n",
       "        76      emotional expression_control   level1       expression_control   \n",
       "                          expression_intention level1     expression_intention   \n",
       "                          expression_sex       level1           expression_sex   \n",
       "                          face_control         level1             face_control   \n",
       "                          face_sex             level1                 face_sex   \n",
       "                          face_trusty          level1              face_trusty   \n",
       "                localizer audio                level1                    audio   \n",
       "                          calculaudio          level1              calculaudio   \n",
       "                          calculvideo          level1              calculvideo   \n",
       "                          clicDaudio           level1               clicDaudio   \n",
       "                          clicDvideo           level1               clicDvideo   \n",
       "                          clicGaudio           level1               clicGaudio   \n",
       "                          clicGvideo           level1               clicGvideo   \n",
       "                          computation          level1              computation   \n",
       "                          damier_H             level1                 damier_H   \n",
       "                          damier_V             level1                 damier_V   \n",
       "                          motor-cognitive      level1          motor-cognitive   \n",
       "                parietal  object_grasp         level1             object_grasp   \n",
       "                          object_orientation   level1       object_orientation   \n",
       "                          rotation_hand        level1            rotation_hand   \n",
       "                          rotation_side        level1            rotation_side   \n",
       "                          saccade              level1                  saccade   \n",
       "                social    false_belief_audio   level1       false_belief_audio   \n",
       "                          false_belief_video   level1       false_belief_video   \n",
       "                          mecanistic_audio     level1         mecanistic_audio   \n",
       "                          mecanistic_video     level1         mecanistic_video   \n",
       "                          non_speech           level1               non_speech   \n",
       "                          speech               level1                   speech   \n",
       "                          triangle_intention   level1       triangle_intention   \n",
       "                          triangle_random      level1          triangle_random   \n",
       "\n",
       "                                                          match  \n",
       "dataset subject task      contrast             direction         \n",
       "archi   2       emotional expression_control   level1     False  \n",
       "                          expression_intention level1      True  \n",
       "                          expression_sex       level1     False  \n",
       "                          face_control         level1      True  \n",
       "                          face_sex             level1     False  \n",
       "                          face_trusty          level1      True  \n",
       "                localizer audio                level1      True  \n",
       "                          calculaudio          level1      True  \n",
       "                          calculvideo          level1      True  \n",
       "                          clicDaudio           level1      True  \n",
       "                          clicDvideo           level1      True  \n",
       "                          clicGaudio           level1      True  \n",
       "                          clicGvideo           level1      True  \n",
       "                          computation          level1      True  \n",
       "                          damier_H             level1     False  \n",
       "                          damier_V             level1      True  \n",
       "                          motor-cognitive      level1      True  \n",
       "                parietal  object_grasp         level1      True  \n",
       "                          object_orientation   level1     False  \n",
       "                          rotation_hand        level1      True  \n",
       "                          rotation_side        level1      True  \n",
       "                          saccade              level1      True  \n",
       "                social    false_belief_audio   level1      True  \n",
       "                          false_belief_video   level1     False  \n",
       "                          mecanistic_audio     level1      True  \n",
       "                          mecanistic_video     level1      True  \n",
       "                          non_speech           level1      True  \n",
       "                          speech               level1      True  \n",
       "                          triangle_intention   level1      True  \n",
       "                          triangle_random      level1      True  \n",
       "...                                                         ...  \n",
       "        76      emotional expression_control   level1      True  \n",
       "                          expression_intention level1      True  \n",
       "                          expression_sex       level1      True  \n",
       "                          face_control         level1     False  \n",
       "                          face_sex             level1      True  \n",
       "                          face_trusty          level1     False  \n",
       "                localizer audio                level1      True  \n",
       "                          calculaudio          level1      True  \n",
       "                          calculvideo          level1      True  \n",
       "                          clicDaudio           level1      True  \n",
       "                          clicDvideo           level1      True  \n",
       "                          clicGaudio           level1      True  \n",
       "                          clicGvideo           level1      True  \n",
       "                          computation          level1      True  \n",
       "                          damier_H             level1      True  \n",
       "                          damier_V             level1      True  \n",
       "                          motor-cognitive      level1      True  \n",
       "                parietal  object_grasp         level1      True  \n",
       "                          object_orientation   level1      True  \n",
       "                          rotation_hand        level1      True  \n",
       "                          rotation_side        level1      True  \n",
       "                          saccade              level1      True  \n",
       "                social    false_belief_audio   level1      True  \n",
       "                          false_belief_video   level1      True  \n",
       "                          mecanistic_audio     level1      True  \n",
       "                          mecanistic_video     level1      True  \n",
       "                          non_speech           level1      True  \n",
       "                          speech               level1      True  \n",
       "                          triangle_intention   level1     False  \n",
       "                          triangle_random      level1      True  \n",
       "\n",
       "[240 rows x 3 columns]"
      ]
     },
     "execution_count": 21,
     "metadata": {},
     "output_type": "execute_result"
    }
   ],
   "source": [
    "idx = pd.IndexSlice\n",
    "prediction.loc[idx['test']]"
   ]
  },
  {
   "cell_type": "code",
   "execution_count": 16,
   "metadata": {
    "collapsed": false,
    "scrolled": true
   },
   "outputs": [
    {
     "data": {
      "text/plain": [
       "fold   dataset\n",
       "test   archi      0.891667\n",
       "train  archi      0.981481\n",
       "val    archi      0.895238\n",
       "Name: match, dtype: float64"
      ]
     },
     "execution_count": 16,
     "metadata": {},
     "output_type": "execute_result"
    }
   ],
   "source": [
    "prediction['match'].groupby(level=['fold', 'dataset']).apply(np.mean)"
   ]
  },
  {
   "cell_type": "code",
   "execution_count": null,
   "metadata": {
    "collapsed": false
   },
   "outputs": [],
   "source": [
    "classifier = estimator.named_steps['classifier']"
   ]
  },
  {
   "cell_type": "code",
   "execution_count": null,
   "metadata": {
    "collapsed": false
   },
   "outputs": [],
   "source": [
    "histories = classifier.histories_"
   ]
  },
  {
   "cell_type": "code",
   "execution_count": null,
   "metadata": {
    "collapsed": false
   },
   "outputs": [],
   "source": [
    "history.epoch"
   ]
  },
  {
   "cell_type": "code",
   "execution_count": null,
   "metadata": {
    "collapsed": false
   },
   "outputs": [],
   "source": [
    "for history, n_samples in zip(histories, classifier.n_samples_):\n",
    "    plt.plot(np.array(history.epoch) * n_samples, history.history['val_acc'])"
   ]
  },
  {
   "cell_type": "code",
   "execution_count": null,
   "metadata": {
    "collapsed": false
   },
   "outputs": [],
   "source": [
    "titles = [\"%s: %s\" % (task, contrast) for task, contrast in zip(tasks, labels)]"
   ]
  },
  {
   "cell_type": "code",
   "execution_count": null,
   "metadata": {
    "collapsed": false,
    "scrolled": true
   },
   "outputs": [],
   "source": [
    "%matplotlib inline\n",
    "from nilearn.plotting import plot_stat_map\n",
    "from nilearn.image import index_img\n",
    "from nilearn._utils import check_niimg\n",
    "\n",
    "indices = label_encoder.transform(labels)\n",
    "\n",
    "imgs = check_niimg(imgs)\n",
    "imgs.get_data()\n",
    "\n",
    "plt.close('all')\n",
    "\n",
    "for i, title in zip(indices, titles):\n",
    "    plot_stat_map(index_img(imgs, i), title=title, threshold=0)"
   ]
  },
  {
   "cell_type": "code",
   "execution_count": null,
   "metadata": {
    "collapsed": false
   },
   "outputs": [],
   "source": [
    "indices = label_encoder.transform(labels)\n",
    "ncoef = coef[indices]\n",
    "S = np.sqrt((ncoef ** 2).sum(axis=1))\n",
    "ncoef = ncoef / S[:, np.newaxis]"
   ]
  },
  {
   "cell_type": "code",
   "execution_count": null,
   "metadata": {
    "collapsed": false,
    "scrolled": true
   },
   "outputs": [],
   "source": [
    "G = ncoef.dot(ncoef.T)\n",
    "plot_gram_matrix(G, labels)"
   ]
  },
  {
   "cell_type": "code",
   "execution_count": null,
   "metadata": {
    "collapsed": false
   },
   "outputs": [],
   "source": [
    "np.mean(w0 == 0),np.mean(w1 == 0)"
   ]
  },
  {
   "cell_type": "code",
   "execution_count": null,
   "metadata": {
    "collapsed": false
   },
   "outputs": [],
   "source": [
    "np.histogram(w1)"
   ]
  },
  {
   "cell_type": "code",
   "execution_count": null,
   "metadata": {
    "collapsed": false,
    "scrolled": false
   },
   "outputs": [],
   "source": [
    "%matplotlib inline\n",
    "n, bins, patches = plt.hist(w1.ravel(), bins=100, log=True)\n",
    "plt.xscale('log')"
   ]
  },
  {
   "cell_type": "code",
   "execution_count": null,
   "metadata": {
    "collapsed": false
   },
   "outputs": [],
   "source": [
    "w1.ravel()[:300]"
   ]
  },
  {
   "cell_type": "code",
   "execution_count": null,
   "metadata": {
    "collapsed": false
   },
   "outputs": [],
   "source": [
    "(np.abs(coef[indices,:16]).sum())"
   ]
  },
  {
   "cell_type": "code",
   "execution_count": null,
   "metadata": {
    "collapsed": false
   },
   "outputs": [],
   "source": [
    "(np.abs(coef[indices,16:80])).sum()"
   ]
  },
  {
   "cell_type": "code",
   "execution_count": null,
   "metadata": {
    "collapsed": false
   },
   "outputs": [],
   "source": [
    "np.abs(coef[indices,80:80 + 256]).sum()"
   ]
  },
  {
   "cell_type": "code",
   "execution_count": null,
   "metadata": {
    "collapsed": false
   },
   "outputs": [],
   "source": [
    "np.mean(coef[indices, :16] == 0)"
   ]
  },
  {
   "cell_type": "code",
   "execution_count": null,
   "metadata": {
    "collapsed": false
   },
   "outputs": [],
   "source": [
    "np.mean(coef[indices, 16:80] == 0)"
   ]
  },
  {
   "cell_type": "code",
   "execution_count": null,
   "metadata": {
    "collapsed": false
   },
   "outputs": [],
   "source": [
    "np.mean(coef[indices, 80:256] == 0)"
   ]
  },
  {
   "cell_type": "code",
   "execution_count": null,
   "metadata": {
    "collapsed": true
   },
   "outputs": [],
   "source": []
  },
  {
   "cell_type": "code",
   "execution_count": null,
   "metadata": {
    "collapsed": true
   },
   "outputs": [],
   "source": []
  },
  {
   "cell_type": "code",
   "execution_count": null,
   "metadata": {
    "collapsed": true
   },
   "outputs": [],
   "source": []
  },
  {
   "cell_type": "code",
   "execution_count": null,
   "metadata": {
    "collapsed": true
   },
   "outputs": [],
   "source": []
  }
 ],
 "metadata": {
  "kernelspec": {
   "display_name": "Python 3",
   "language": "python",
   "name": "python3"
  },
  "language_info": {
   "codemirror_mode": {
    "name": "ipython",
    "version": 3
   },
   "file_extension": ".py",
   "mimetype": "text/x-python",
   "name": "python",
   "nbconvert_exporter": "python",
   "pygments_lexer": "ipython3",
   "version": "3.6.0"
  }
 },
 "nbformat": 4,
 "nbformat_minor": 0
}
