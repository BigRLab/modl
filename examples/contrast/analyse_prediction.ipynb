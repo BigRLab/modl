{
 "cells": [
  {
   "cell_type": "code",
   "execution_count": 44,
   "metadata": {
    "collapsed": false,
    "deletable": true,
    "editable": true
   },
   "outputs": [
    {
     "name": "stdout",
     "output_type": "stream",
     "text": [
      "/storage/store/work/amensch/data/modl_data/pipeline/contrast/prediction/138\n"
     ]
    }
   ],
   "source": [
    "cd ~/data/modl_data/pipeline/contrast/prediction/33"
   ]
  },
  {
   "cell_type": "code",
   "execution_count": 45,
   "metadata": {
    "collapsed": false,
    "deletable": true,
    "editable": true
   },
   "outputs": [
    {
     "name": "stdout",
     "output_type": "stream",
     "text": [
      "\u001b[0m\u001b[01;34m_artifacts\u001b[0m/  config.json  cout.txt  info.json  prediction.csv  run.json\r\n"
     ]
    }
   ],
   "source": [
    "ls"
   ]
  },
  {
   "cell_type": "code",
   "execution_count": 46,
   "metadata": {
    "collapsed": true,
    "deletable": true,
    "editable": true
   },
   "outputs": [],
   "source": [
    "from sklearn.externals.joblib import load\n",
    "from sklearn.pipeline import Pipeline\n",
    "import pandas as pd\n",
    "\n",
    "from nilearn.input_data import MultiNiftiMasker\n",
    "from nilearn.datasets import load_mni152_brain_mask\n",
    "from modl.datasets.hcp import fetch_hcp"
   ]
  },
  {
   "cell_type": "code",
   "execution_count": 47,
   "metadata": {
    "collapsed": true,
    "deletable": true,
    "editable": true
   },
   "outputs": [],
   "source": [
    "%matplotlib inline\n",
    "\n",
    "def plot_confusion_matrix(conf_arr, labels):\n",
    "\n",
    "    fig = plt.figure(figsize=(8, 8))\n",
    "    plt.clf()\n",
    "    ax = fig.add_subplot(111)\n",
    "    ax.set_aspect(1)\n",
    "    \n",
    "    S = conf_arr.sum(axis=0)\n",
    "    S[S == 0] = 1\n",
    "    conf_arr = conf_arr / S\n",
    "    \n",
    "    res = ax.imshow(conf_arr,\n",
    "                interpolation='nearest')\n",
    "\n",
    "    width, height = conf_arr.shape\n",
    "\n",
    "    plt.xticks(range(width))\n",
    "    plt.yticks(range(height))\n",
    "    ax.set_yticklabels(labels)\n",
    "    ax.set_xticklabels(labels, rotation=90)\n",
    "    fig.colorbar(res)\n",
    "    \n",
    "def plot_gram_matrix(G, labels):\n",
    "    fig = plt.figure(figsize=(8, 8))\n",
    "    plt.clf()\n",
    "    ax = fig.add_subplot(111)\n",
    "    ax.set_aspect(1)\n",
    "    res = ax.imshow(G,\n",
    "                interpolation='nearest')\n",
    "\n",
    "    width, height = G.shape\n",
    "\n",
    "    plt.xticks(range(width))\n",
    "    plt.yticks(range(height))\n",
    "    ax.set_yticklabels(labels)\n",
    "    ax.set_xticklabels(labels, rotation=90)\n",
    "    fig.colorbar(res)"
   ]
  },
  {
   "cell_type": "code",
   "execution_count": 48,
   "metadata": {
    "collapsed": false,
    "deletable": true,
    "editable": true
   },
   "outputs": [
    {
     "name": "stdout",
     "output_type": "stream",
     "text": [
      "/storage/store/work/amensch/data/modl_data/pipeline/contrast/prediction/138/_artifacts\n"
     ]
    }
   ],
   "source": [
    "cd _artifacts"
   ]
  },
  {
   "cell_type": "code",
   "execution_count": 54,
   "metadata": {
    "collapsed": false,
    "deletable": true,
    "editable": true
   },
   "outputs": [],
   "source": [
    "estimator =  load('estimator.pkl')\n",
    "classifier = estimator.named_steps['classifier']"
   ]
  },
  {
   "cell_type": "code",
   "execution_count": 59,
   "metadata": {
    "collapsed": false,
    "deletable": true,
    "editable": true
   },
   "outputs": [],
   "source": [
    "model = classifier.models_['hcp']"
   ]
  },
  {
   "cell_type": "code",
   "execution_count": 92,
   "metadata": {
    "collapsed": false,
    "deletable": true,
    "editable": true
   },
   "outputs": [],
   "source": [
    "weights = model.get_layer('latent').get_weights()[0]"
   ]
  },
  {
   "cell_type": "code",
   "execution_count": 93,
   "metadata": {
    "collapsed": false,
    "deletable": true,
    "editable": true
   },
   "outputs": [
    {
     "data": {
      "text/plain": [
       "array([[ 0.01977605,  0.03127452,  0.00611883, ..., -0.10088862,\n",
       "         0.09584959,  0.12743048],\n",
       "       [ 0.13926065,  0.08133137,  0.07560681, ...,  0.14254305,\n",
       "        -0.02519652, -0.05008335],\n",
       "       [-0.01082089,  0.04040186, -0.08101763, ..., -0.14209755,\n",
       "         0.03258564, -0.01534458],\n",
       "       ..., \n",
       "       [ 0.02123348,  0.02175017, -0.10765242, ...,  0.06114536,\n",
       "        -0.10706431, -0.01845418],\n",
       "       [-0.07924132, -0.06076128, -0.14304079, ..., -0.10824956,\n",
       "        -0.06166432, -0.09241915],\n",
       "       [-0.02705211, -0.01304804, -0.02555549, ..., -0.03323596,\n",
       "        -0.0324216 ,  0.10198881]], dtype=float32)"
      ]
     },
     "execution_count": 93,
     "metadata": {},
     "output_type": "execute_result"
    }
   ],
   "source": [
    "weights"
   ]
  },
  {
   "cell_type": "code",
   "execution_count": 94,
   "metadata": {
    "collapsed": false,
    "deletable": true,
    "editable": true
   },
   "outputs": [],
   "source": [
    "S = np.sum(weights ** 2, axis=0, keepdims=True)\n",
    "weights /= np.sqrt(S)\n",
    "G = weights.T.dot(weights)"
   ]
  },
  {
   "cell_type": "code",
   "execution_count": 95,
   "metadata": {
    "collapsed": false,
    "deletable": true,
    "editable": true
   },
   "outputs": [
    {
     "data": {
      "text/plain": [
       "array([ 0.11825886,  0.13148607,  0.1004721 ,  0.12834255,  0.10321752,\n",
       "        0.11465274,  0.12649766,  0.10713866,  0.13076796,  0.12492988,\n",
       "        0.13363563,  0.12077629,  0.12323762,  0.12505791,  0.12565008,\n",
       "        0.12310551,  0.11621309,  0.12516817,  0.14229162,  0.1203865 ,\n",
       "        0.14809506,  0.13609485,  0.11979204,  0.12302881,  0.13105658,\n",
       "        0.12537508,  0.12575261,  0.13641819,  0.13907713,  0.12396301,\n",
       "        0.12034747,  0.1204029 ,  0.14177212,  0.11893808,  0.1261175 ,\n",
       "        0.11504406,  0.11187536,  0.12630044,  0.12036502,  0.11728766,\n",
       "        0.14013837,  0.12905854,  0.12076754,  0.10834561,  0.13740765,\n",
       "        0.12160948,  0.11307499,  0.13136531,  0.13345967,  0.13722734,\n",
       "        0.13738528,  0.12236315,  0.12974124,  0.11720213,  0.12211005,\n",
       "        0.12132348,  0.12779969,  0.13384822,  0.11432888,  0.14482997,\n",
       "        0.11589537,  0.13739145,  0.12679891,  0.13941096,  0.12328361,\n",
       "        0.11185867,  0.112176  ,  0.12754752,  0.10588915,  0.10666722,\n",
       "        0.11911925,  0.14280874,  0.13148412,  0.13537472,  0.13593611,\n",
       "        0.15278681,  0.1219453 ,  0.11076771,  0.15231577,  0.14000486,\n",
       "        0.11371291,  0.12436398,  0.13244462,  0.1400836 ,  0.14585546,\n",
       "        0.12097871,  0.13379   ,  0.11588513,  0.11142252,  0.12371155,\n",
       "        0.13383198,  0.1336491 ,  0.11366869,  0.14398053,  0.12591362,\n",
       "        0.11896547,  0.12625639,  0.10644207,  0.13346918,  0.11762884,\n",
       "        0.12451281,  0.12059658,  0.12227789,  0.14893189,  0.14983688,\n",
       "        0.13059063,  0.13076107,  0.135931  ,  0.12122627,  0.11916656,\n",
       "        0.12597865,  0.13755906,  0.12274835,  0.14564627,  0.11880627,\n",
       "        0.10099211,  0.10752485,  0.12286927,  0.1380433 ,  0.11732852,\n",
       "        0.11283407,  0.1126132 ,  0.12838876,  0.14847517,  0.14529221,\n",
       "        0.10471171,  0.12912512,  0.12148266,  0.14079566,  0.12462217,\n",
       "        0.14675258,  0.13966773,  0.12531778,  0.12049486,  0.12135343,\n",
       "        0.11839939,  0.15323433,  0.14161628,  0.15591663,  0.13292557,\n",
       "        0.12648354,  0.12979341,  0.13678271,  0.12920552,  0.13995473,\n",
       "        0.14350885,  0.13221814,  0.10987905,  0.14528923,  0.12579708,\n",
       "        0.13621688,  0.14114702,  0.13847357,  0.13334742,  0.12626238,\n",
       "        0.11847501,  0.14216138,  0.14848003,  0.14318736,  0.12856509,\n",
       "        0.12238732,  0.10507613,  0.12291067,  0.10687644,  0.13088192,\n",
       "        0.15108126,  0.11154069,  0.14371739,  0.15061504,  0.10698261,\n",
       "        0.11690962,  0.14111859,  0.12890778,  0.11643752,  0.15436205,\n",
       "        0.11715304,  0.11303733,  0.10900174,  0.12778057,  0.14428192,\n",
       "        0.14302471,  0.13455482,  0.14452127,  0.12569185,  0.12610061,\n",
       "        0.12539694,  0.13566828,  0.12259736,  0.13065653,  0.10968278,\n",
       "        0.10976974,  0.14229627,  0.12240318,  0.13444409,  0.10743351,\n",
       "        0.15082732,  0.13551234,  0.13885291,  0.12774208,  0.14185607], dtype=float32)"
      ]
     },
     "execution_count": 95,
     "metadata": {},
     "output_type": "execute_result"
    }
   ],
   "source": [
    "(np.mean(np.abs(G), axis=1) - 1 / G.shape[1] ) * (G.shape[1] / (G.shape[1] - 1))"
   ]
  },
  {
   "cell_type": "code",
   "execution_count": 50,
   "metadata": {
    "collapsed": false,
    "deletable": true,
    "editable": true
   },
   "outputs": [],
   "source": [
    "from modl.fixes import Model\n",
    "label_encoder = load('label_encoder.pkl')\n",
    "prediction = pd.read_csv('prediction.csv')"
   ]
  },
  {
   "cell_type": "code",
   "execution_count": 37,
   "metadata": {
    "collapsed": false,
    "deletable": true,
    "editable": true
   },
   "outputs": [],
   "source": [
    "import h5py \n",
    "f = h5py.File('model_archi.keras', 'r')"
   ]
  },
  {
   "cell_type": "code",
   "execution_count": 43,
   "metadata": {
    "collapsed": false,
    "deletable": true,
    "editable": true
   },
   "outputs": [
    {
     "name": "stdout",
     "output_type": "stream",
     "text": [
      "adam_iter:0\n",
      "adam_ms_0_1:0\n",
      "adam_ms_1_1:0\n",
      "adam_ms_2_1:0\n",
      "adam_vs_0_1:0\n",
      "adam_vs_1_1:0\n",
      "adam_vs_2_1:0\n"
     ]
    }
   ],
   "source": [
    "for weight in f['optimizer_weights']:\n",
    "    print(weight)"
   ]
  },
  {
   "cell_type": "code",
   "execution_count": null,
   "metadata": {
    "collapsed": false,
    "deletable": true,
    "editable": true
   },
   "outputs": [],
   "source": [
    "import h5py"
   ]
  },
  {
   "cell_type": "code",
   "execution_count": null,
   "metadata": {
    "collapsed": true,
    "deletable": true,
    "editable": true
   },
   "outputs": [],
   "source": [
    "f = h5py.File('model_archi.keras', 'r+')\n",
    "del f['optimizer_weights']"
   ]
  },
  {
   "cell_type": "code",
   "execution_count": null,
   "metadata": {
    "collapsed": true,
    "deletable": true,
    "editable": true
   },
   "outputs": [],
   "source": [
    "f.close()"
   ]
  },
  {
   "cell_type": "code",
   "execution_count": null,
   "metadata": {
    "collapsed": true,
    "deletable": true,
    "editable": true
   },
   "outputs": [],
   "source": [
    "model = load_model('model_archi.keras')"
   ]
  },
  {
   "cell_type": "code",
   "execution_count": null,
   "metadata": {
    "collapsed": false,
    "deletable": true,
    "editable": true
   },
   "outputs": [],
   "source": [
    "for layer in model.layers:\n",
    "    print(layer.name)"
   ]
  },
  {
   "cell_type": "code",
   "execution_count": null,
   "metadata": {
    "collapsed": false,
    "deletable": true,
    "editable": true
   },
   "outputs": [],
   "source": [
    "f['optimizer']"
   ]
  },
  {
   "cell_type": "code",
   "execution_count": null,
   "metadata": {
    "collapsed": false,
    "deletable": true,
    "editable": true
   },
   "outputs": [],
   "source": [
    "model.layers_by_depth[2][0].get_weights()"
   ]
  },
  {
   "cell_type": "code",
   "execution_count": null,
   "metadata": {
    "collapsed": false,
    "deletable": true,
    "editable": true
   },
   "outputs": [],
   "source": [
    "estimator.named_steps['classifier'].models_['hcp'].layers_by_depth[1][0].get_weights()[0].shape"
   ]
  },
  {
   "cell_type": "code",
   "execution_count": null,
   "metadata": {
    "collapsed": true,
    "deletable": true,
    "editable": true
   },
   "outputs": [],
   "source": [
    "model = estimator.named_steps['classifier']\n",
    "coef = model.coef_"
   ]
  },
  {
   "cell_type": "code",
   "execution_count": null,
   "metadata": {
    "collapsed": false,
    "deletable": true,
    "editable": true
   },
   "outputs": [],
   "source": [
    "res = np.linalg.svd(coef)"
   ]
  },
  {
   "cell_type": "code",
   "execution_count": null,
   "metadata": {
    "collapsed": false,
    "deletable": true,
    "editable": true
   },
   "outputs": [],
   "source": [
    "res[1]"
   ]
  },
  {
   "cell_type": "code",
   "execution_count": null,
   "metadata": {
    "collapsed": false,
    "deletable": true,
    "editable": true
   },
   "outputs": [],
   "source": [
    "model = estimator.steps[-1][1].stacked_model_\n",
    "\n",
    "supervised_layers =  model.layers_by_depth[2]\n",
    "embedding_layer =  model.layers_by_depth[3][0]\n",
    "\n",
    "w0 = []\n",
    "for layer in supervised_layers:\n",
    "    this_w0, this_b0 = layer.get_weights()\n",
    "    w0.append(this_w0)\n",
    "w0 = np.concatenate(w0, axis=1)\n",
    "w1 = embedding_layer.get_weights()[0]\n",
    "\n",
    "coef = w1.dot(w0).T\n",
    "\n",
    "print('Sparsity', (coef == 0).sum() / coef.size)"
   ]
  },
  {
   "cell_type": "code",
   "execution_count": null,
   "metadata": {
    "collapsed": false,
    "deletable": true,
    "editable": true
   },
   "outputs": [],
   "source": [
    "prediction"
   ]
  },
  {
   "cell_type": "code",
   "execution_count": null,
   "metadata": {
    "collapsed": false,
    "deletable": true,
    "editable": true
   },
   "outputs": [],
   "source": [
    "match = prediction['true_label'] == prediction['predicted_label']\n",
    "prediction = prediction.assign(match=match)\n",
    "prediction.sort_index(inplace=True)\n",
    "datasets = prediction.index.get_level_values('dataset').unique().values"
   ]
  },
  {
   "cell_type": "code",
   "execution_count": null,
   "metadata": {
    "collapsed": false,
    "deletable": true,
    "editable": true,
    "scrolled": true
   },
   "outputs": [],
   "source": [
    "labels_list = []\n",
    "tasks_list = []\n",
    "for dataset in datasets:\n",
    "    first_subject = prediction.loc['test', dataset].index.get_level_values('subject')[0]\n",
    "    data = prediction.loc[('test', dataset, first_subject)]\n",
    "    labels = data.index.get_level_values('contrast').values\n",
    "    tasks = data.index.get_level_values('task').values\n",
    "    labels_list.append(labels)\n",
    "    tasks_list.append(tasks)\n",
    "labels = np.concatenate(labels_list)\n",
    "tasks = np.concatenate(tasks_list)"
   ]
  },
  {
   "cell_type": "code",
   "execution_count": null,
   "metadata": {
    "collapsed": true,
    "deletable": true,
    "editable": true
   },
   "outputs": [],
   "source": [
    "from sklearn.metrics import confusion_matrix"
   ]
  },
  {
   "cell_type": "code",
   "execution_count": null,
   "metadata": {
    "collapsed": false,
    "deletable": true,
    "editable": true
   },
   "outputs": [],
   "source": [
    "train_conf = confusion_matrix(prediction.loc['train', 'true_label'],\n",
    "                        prediction.loc['train', 'predicted_label'], labels=labels)\n",
    "test_conf = confusion_matrix(prediction.loc['test', 'true_label'],\n",
    "                        prediction.loc['test', 'predicted_label'], labels=labels)"
   ]
  },
  {
   "cell_type": "code",
   "execution_count": null,
   "metadata": {
    "collapsed": false,
    "deletable": true,
    "editable": true,
    "scrolled": false
   },
   "outputs": [],
   "source": [
    "plot_confusion_matrix(test_conf, labels)"
   ]
  },
  {
   "cell_type": "code",
   "execution_count": null,
   "metadata": {
    "collapsed": false,
    "deletable": true,
    "editable": true,
    "scrolled": false
   },
   "outputs": [],
   "source": [
    "prediction['match'].groupby(level=['fold', 'dataset', 'task', 'contrast']).apply(np.mean)['test']"
   ]
  },
  {
   "cell_type": "code",
   "execution_count": null,
   "metadata": {
    "collapsed": false,
    "deletable": true,
    "editable": true
   },
   "outputs": [],
   "source": [
    "idx = pd.IndexSlice\n",
    "prediction.loc[idx['test']]"
   ]
  },
  {
   "cell_type": "code",
   "execution_count": null,
   "metadata": {
    "collapsed": false,
    "deletable": true,
    "editable": true,
    "scrolled": true
   },
   "outputs": [],
   "source": [
    "prediction['match'].groupby(level=['fold', 'dataset']).apply(np.mean)"
   ]
  },
  {
   "cell_type": "code",
   "execution_count": null,
   "metadata": {
    "collapsed": false,
    "deletable": true,
    "editable": true
   },
   "outputs": [],
   "source": [
    "classifier = estimator.named_steps['classifier']"
   ]
  },
  {
   "cell_type": "code",
   "execution_count": null,
   "metadata": {
    "collapsed": false,
    "deletable": true,
    "editable": true
   },
   "outputs": [],
   "source": [
    "histories = classifier.histories_"
   ]
  },
  {
   "cell_type": "code",
   "execution_count": null,
   "metadata": {
    "collapsed": false,
    "deletable": true,
    "editable": true
   },
   "outputs": [],
   "source": [
    "history.epoch"
   ]
  },
  {
   "cell_type": "code",
   "execution_count": null,
   "metadata": {
    "collapsed": false,
    "deletable": true,
    "editable": true
   },
   "outputs": [],
   "source": [
    "for history, n_samples in zip(histories, classifier.n_samples_):\n",
    "    plt.plot(np.array(history.epoch) * n_samples, history.history['val_acc'])"
   ]
  },
  {
   "cell_type": "code",
   "execution_count": null,
   "metadata": {
    "collapsed": false,
    "deletable": true,
    "editable": true
   },
   "outputs": [],
   "source": [
    "titles = [\"%s: %s\" % (task, contrast) for task, contrast in zip(tasks, labels)]"
   ]
  },
  {
   "cell_type": "code",
   "execution_count": null,
   "metadata": {
    "collapsed": false,
    "deletable": true,
    "editable": true,
    "scrolled": true
   },
   "outputs": [],
   "source": [
    "%matplotlib inline\n",
    "from nilearn.plotting import plot_stat_map\n",
    "from nilearn.image import index_img\n",
    "from nilearn._utils import check_niimg\n",
    "\n",
    "indices = label_encoder.transform(labels)\n",
    "\n",
    "imgs = check_niimg(imgs)\n",
    "imgs.get_data()\n",
    "\n",
    "plt.close('all')\n",
    "\n",
    "for i, title in zip(indices, titles):\n",
    "    plot_stat_map(index_img(imgs, i), title=title, threshold=0)"
   ]
  },
  {
   "cell_type": "code",
   "execution_count": null,
   "metadata": {
    "collapsed": false,
    "deletable": true,
    "editable": true
   },
   "outputs": [],
   "source": [
    "indices = label_encoder.transform(labels)\n",
    "ncoef = coef[indices]\n",
    "S = np.sqrt((ncoef ** 2).sum(axis=1))\n",
    "ncoef = ncoef / S[:, np.newaxis]"
   ]
  },
  {
   "cell_type": "code",
   "execution_count": null,
   "metadata": {
    "collapsed": false,
    "deletable": true,
    "editable": true,
    "scrolled": true
   },
   "outputs": [],
   "source": [
    "G = ncoef.dot(ncoef.T)\n",
    "plot_gram_matrix(G, labels)"
   ]
  },
  {
   "cell_type": "code",
   "execution_count": null,
   "metadata": {
    "collapsed": false,
    "deletable": true,
    "editable": true
   },
   "outputs": [],
   "source": [
    "np.mean(w0 == 0),np.mean(w1 == 0)"
   ]
  },
  {
   "cell_type": "code",
   "execution_count": null,
   "metadata": {
    "collapsed": false,
    "deletable": true,
    "editable": true
   },
   "outputs": [],
   "source": [
    "np.histogram(w1)"
   ]
  },
  {
   "cell_type": "code",
   "execution_count": null,
   "metadata": {
    "collapsed": false,
    "deletable": true,
    "editable": true,
    "scrolled": false
   },
   "outputs": [],
   "source": [
    "%matplotlib inline\n",
    "n, bins, patches = plt.hist(w1.ravel(), bins=100, log=True)\n",
    "plt.xscale('log')"
   ]
  },
  {
   "cell_type": "code",
   "execution_count": null,
   "metadata": {
    "collapsed": false,
    "deletable": true,
    "editable": true
   },
   "outputs": [],
   "source": [
    "w1.ravel()[:300]"
   ]
  },
  {
   "cell_type": "code",
   "execution_count": null,
   "metadata": {
    "collapsed": false,
    "deletable": true,
    "editable": true
   },
   "outputs": [],
   "source": [
    "(np.abs(coef[indices,:16]).sum())"
   ]
  },
  {
   "cell_type": "code",
   "execution_count": null,
   "metadata": {
    "collapsed": false,
    "deletable": true,
    "editable": true
   },
   "outputs": [],
   "source": [
    "(np.abs(coef[indices,16:80])).sum()"
   ]
  },
  {
   "cell_type": "code",
   "execution_count": null,
   "metadata": {
    "collapsed": false,
    "deletable": true,
    "editable": true
   },
   "outputs": [],
   "source": [
    "np.abs(coef[indices,80:80 + 256]).sum()"
   ]
  },
  {
   "cell_type": "code",
   "execution_count": null,
   "metadata": {
    "collapsed": false,
    "deletable": true,
    "editable": true
   },
   "outputs": [],
   "source": [
    "np.mean(coef[indices, :16] == 0)"
   ]
  },
  {
   "cell_type": "code",
   "execution_count": null,
   "metadata": {
    "collapsed": false,
    "deletable": true,
    "editable": true
   },
   "outputs": [],
   "source": [
    "np.mean(coef[indices, 16:80] == 0)"
   ]
  },
  {
   "cell_type": "code",
   "execution_count": null,
   "metadata": {
    "collapsed": false,
    "deletable": true,
    "editable": true
   },
   "outputs": [],
   "source": [
    "np.mean(coef[indices, 80:256] == 0)"
   ]
  },
  {
   "cell_type": "code",
   "execution_count": null,
   "metadata": {
    "collapsed": true,
    "deletable": true,
    "editable": true
   },
   "outputs": [],
   "source": []
  },
  {
   "cell_type": "code",
   "execution_count": null,
   "metadata": {
    "collapsed": true,
    "deletable": true,
    "editable": true
   },
   "outputs": [],
   "source": []
  },
  {
   "cell_type": "code",
   "execution_count": null,
   "metadata": {
    "collapsed": true,
    "deletable": true,
    "editable": true
   },
   "outputs": [],
   "source": []
  },
  {
   "cell_type": "code",
   "execution_count": null,
   "metadata": {
    "collapsed": true,
    "deletable": true,
    "editable": true
   },
   "outputs": [],
   "source": []
  }
 ],
 "metadata": {
  "kernelspec": {
   "display_name": "Python 3",
   "language": "python",
   "name": "python3"
  },
  "language_info": {
   "codemirror_mode": {
    "name": "ipython",
    "version": 3
   },
   "file_extension": ".py",
   "mimetype": "text/x-python",
   "name": "python",
   "nbconvert_exporter": "python",
   "pygments_lexer": "ipython3",
   "version": "3.6.0"
  }
 },
 "nbformat": 4,
 "nbformat_minor": 0
}
