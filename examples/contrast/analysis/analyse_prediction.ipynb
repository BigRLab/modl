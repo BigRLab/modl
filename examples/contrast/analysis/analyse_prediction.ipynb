{
 "cells": [
  {
   "cell_type": "code",
   "execution_count": 1,
   "metadata": {
    "collapsed": false,
    "deletable": true,
    "editable": true
   },
   "outputs": [
    {
     "name": "stdout",
     "output_type": "stream",
     "text": [
      "/storage/store/work/amensch/work/repos/modl/examples/contrast\n"
     ]
    }
   ],
   "source": [
    "cd ~/work/repos/modl/examples/contrast/"
   ]
  },
  {
   "cell_type": "code",
   "execution_count": 2,
   "metadata": {
    "collapsed": false,
    "deletable": true,
    "editable": true
   },
   "outputs": [
    {
     "name": "stdout",
     "output_type": "stream",
     "text": [
      "\u001b[0m\u001b[01;34manalysis\u001b[0m/                    predict_contrast_new.py  prepare.py\r\n",
      "Multiclass tensorflow.ipynb  predict_contrast.py      \u001b[01;34m__pycache__\u001b[0m/\r\n",
      "multi_predict_contrast.py    prediction.csv           reduce_contrast.py\r\n"
     ]
    }
   ],
   "source": [
    "ls"
   ]
  },
  {
   "cell_type": "code",
   "execution_count": 1,
   "metadata": {
    "collapsed": true,
    "deletable": true,
    "editable": true
   },
   "outputs": [],
   "source": [
    "from sklearn.externals.joblib import load\n",
    "from sklearn.pipeline import Pipeline\n",
    "import pandas as pd\n",
    "\n",
    "from nilearn.input_data import MultiNiftiMasker\n",
    "from nilearn.datasets import load_mni152_brain_mask\n",
    "from modl.datasets.hcp import fetch_hcp"
   ]
  },
  {
   "cell_type": "code",
   "execution_count": 166,
   "metadata": {
    "collapsed": true,
    "deletable": true,
    "editable": true
   },
   "outputs": [],
   "source": [
    "%matplotlib inline\n",
    "\n",
    "def plot_confusion_matrix(conf_arr, labels):\n",
    "\n",
    "    fig = plt.figure(figsize=(20, 20))\n",
    "    plt.clf()\n",
    "    ax = fig.add_subplot(111)\n",
    "    ax.set_aspect(1)\n",
    "    \n",
    "    S = np.sum(conf_arr, axis=1, keepdims=True)\n",
    "    S[S == 0] = 1\n",
    "    conf_arr = conf_arr / S\n",
    "    \n",
    "    res = ax.imshow(conf_arr,\n",
    "                interpolation='nearest')\n",
    "\n",
    "    width, height = conf_arr.shape\n",
    "\n",
    "    plt.xticks(range(width))\n",
    "    plt.yticks(range(height))\n",
    "    ax.set_yticklabels(labels)\n",
    "    ax.set_xticklabels(labels, rotation=90)\n",
    "    fig.colorbar(res)\n",
    "    \n",
    "def plot_gram_matrix(G, labels):\n",
    "    fig = plt.figure(figsize=(8, 8))\n",
    "    plt.clf()\n",
    "    ax = fig.add_subplot(111)\n",
    "    ax.set_aspect(1)\n",
    "    res = ax.imshow(G,\n",
    "                interpolation='nearest')\n",
    "\n",
    "    width, height = G.shape\n",
    "\n",
    "    plt.xticks(range(width))\n",
    "    plt.yticks(range(height))\n",
    "    ax.set_yticklabels(labels)\n",
    "    ax.set_xticklabels(labels, rotation=90)\n",
    "    fig.colorbar(res)"
   ]
  },
  {
   "cell_type": "code",
   "execution_count": 167,
   "metadata": {
    "collapsed": false,
    "deletable": true,
    "editable": true,
    "scrolled": true
   },
   "outputs": [
    {
     "name": "stdout",
     "output_type": "stream",
     "text": [
      "/home/arthur/data/modl_data/pipeline/contrast/prediction_hierarchical/None\n"
     ]
    }
   ],
   "source": [
    "cd ~/data/modl_data/pipeline/contrast/prediction_hierarchical/None/"
   ]
  },
  {
   "cell_type": "code",
   "execution_count": 178,
   "metadata": {
    "collapsed": false,
    "deletable": true,
    "editable": true
   },
   "outputs": [],
   "source": [
    "prediction = pd.read_csv('prediction_depth_1.csv')"
   ]
  },
  {
   "cell_type": "code",
   "execution_count": 179,
   "metadata": {
    "collapsed": false,
    "deletable": true,
    "editable": true
   },
   "outputs": [],
   "source": [
    "prediction = prediction.set_index(['fold', 'dataset', 'subject', 'task', 'contrast',])"
   ]
  },
  {
   "cell_type": "code",
   "execution_count": 180,
   "metadata": {
    "collapsed": false,
    "deletable": true,
    "editable": true
   },
   "outputs": [],
   "source": [
    "match = prediction['true_label'] == prediction['predicted_label']\n",
    "prediction = prediction.assign(match=match)\n",
    "prediction.sort_index(inplace=True)\n",
    "datasets = prediction.index.get_level_values('dataset').unique().values"
   ]
  },
  {
   "cell_type": "code",
   "execution_count": 181,
   "metadata": {
    "collapsed": false,
    "deletable": true,
    "editable": true
   },
   "outputs": [],
   "source": [
    "labels = prediction['true_label'].unique()"
   ]
  },
  {
   "cell_type": "code",
   "execution_count": 182,
   "metadata": {
    "collapsed": true,
    "deletable": true,
    "editable": true
   },
   "outputs": [],
   "source": [
    "from sklearn.metrics import confusion_matrix"
   ]
  },
  {
   "cell_type": "code",
   "execution_count": 183,
   "metadata": {
    "collapsed": false,
    "scrolled": true
   },
   "outputs": [
    {
     "data": {
      "text/plain": [
       "dataset  subject  task        contrast            \n",
       "archi    1        emotional   expression_control        archi__emotional__expression_control\n",
       "                              expression_intention    archi__emotional__expression_intention\n",
       "                              expression_sex                archi__emotional__expression_sex\n",
       "                              face_control                    archi__emotional__face_control\n",
       "                              face_sex                      archi__emotional__expression_sex\n",
       "                              face_trusty                      archi__emotional__face_trusty\n",
       "                  localizer   audio                                  archi__localizer__audio\n",
       "                              calculaudio                      archi__localizer__calculaudio\n",
       "                              calculvideo                      archi__localizer__calculvideo\n",
       "                              clicDaudio                        archi__localizer__clicDaudio\n",
       "                              clicDvideo                        archi__localizer__clicDvideo\n",
       "                              clicGaudio                        archi__localizer__clicGaudio\n",
       "                              clicGvideo                        archi__localizer__clicGvideo\n",
       "                              computation                      archi__localizer__computation\n",
       "                              damier_H                            archi__localizer__damier_H\n",
       "                              damier_V                            archi__localizer__damier_V\n",
       "                              motor-cognitive              archi__localizer__motor-cognitive\n",
       "                  parietal    object_grasp                     archi__parietal__object_grasp\n",
       "                              object_orientation         archi__parietal__object_orientation\n",
       "                              rotation_hand                   archi__parietal__rotation_hand\n",
       "                              rotation_side                   archi__parietal__rotation_side\n",
       "                              saccade                               archi__parietal__saccade\n",
       "                  social      false_belief_audio           archi__social__false_belief_audio\n",
       "                              false_belief_video           archi__social__false_belief_video\n",
       "                              mecanistic_audio               archi__social__mecanistic_audio\n",
       "                              mecanistic_video               archi__social__mecanistic_video\n",
       "                              non_speech                           archi__social__non_speech\n",
       "                              speech                                   archi__social__speech\n",
       "                              triangle_intention           archi__social__triangle_intention\n",
       "                              triangle_random                 archi__social__triangle_random\n",
       "                                                                       ...                  \n",
       "hcp      994273   WM          0BK_FACE                                     hcp__WM__0BK_FACE\n",
       "                              0BK_PLACE                                   hcp__WM__0BK_PLACE\n",
       "                              0BK_TOOL                                    hcp__WM__0BK_PLACE\n",
       "                              2BK_BODY                                     hcp__WM__0BK_FACE\n",
       "                              2BK_FACE                                     hcp__WM__2BK_FACE\n",
       "                              2BK_PLACE                                   hcp__WM__2BK_PLACE\n",
       "                              2BK_TOOL                                     hcp__WM__2BK_TOOL\n",
       "         996782   EMOTION     FACES                                      hcp__EMOTION__FACES\n",
       "                              SHAPES                                    hcp__EMOTION__SHAPES\n",
       "                  GAMBLING    PUNISH                                   hcp__GAMBLING__PUNISH\n",
       "                              REWARD                                   hcp__GAMBLING__REWARD\n",
       "                  LANGUAGE    MATH                                       hcp__LANGUAGE__MATH\n",
       "                              STORY                                     hcp__LANGUAGE__STORY\n",
       "                  MOTOR       CUE                                            hcp__MOTOR__CUE\n",
       "                              LF                                              hcp__MOTOR__LF\n",
       "                              LH                                              hcp__MOTOR__LH\n",
       "                              RF                                              hcp__MOTOR__RF\n",
       "                              RH                                              hcp__MOTOR__RH\n",
       "                  RELATIONAL  MATCH                                   hcp__RELATIONAL__MATCH\n",
       "                              REL                                     hcp__RELATIONAL__MATCH\n",
       "                  SOCIAL      RANDOM                                     hcp__SOCIAL__RANDOM\n",
       "                              TOM                                           hcp__SOCIAL__TOM\n",
       "                  WM          0BK_BODY                                     hcp__WM__0BK_BODY\n",
       "                              0BK_FACE                                     hcp__WM__0BK_FACE\n",
       "                              0BK_PLACE                                   hcp__WM__0BK_PLACE\n",
       "                              0BK_TOOL                                     hcp__WM__0BK_TOOL\n",
       "                              2BK_BODY                                        hcp__MOTOR__RH\n",
       "                              2BK_FACE                                     hcp__WM__2BK_FACE\n",
       "                              2BK_PLACE                                   hcp__WM__0BK_PLACE\n",
       "                              2BK_TOOL                                     hcp__WM__2BK_TOOL\n",
       "Name: predicted_label, dtype: object"
      ]
     },
     "execution_count": 183,
     "metadata": {},
     "output_type": "execute_result"
    }
   ],
   "source": [
    "prediction.loc['train', 'predicted_label']"
   ]
  },
  {
   "cell_type": "code",
   "execution_count": 184,
   "metadata": {
    "collapsed": false,
    "deletable": true,
    "editable": true
   },
   "outputs": [],
   "source": [
    "train_conf = confusion_matrix(prediction.loc['train', 'true_label'],\n",
    "                        prediction.loc['train', 'predicted_label'], labels=labels)\n",
    "test_conf = confusion_matrix(prediction.loc['test', 'true_label'],\n",
    "                        prediction.loc['test', 'predicted_label'], labels=labels)"
   ]
  },
  {
   "cell_type": "code",
   "execution_count": 185,
   "metadata": {
    "collapsed": false
   },
   "outputs": [
    {
     "data": {
      "text/html": [
       "<div>\n",
       "<table border=\"1\" class=\"dataframe\">\n",
       "  <thead>\n",
       "    <tr style=\"text-align: right;\">\n",
       "      <th></th>\n",
       "      <th></th>\n",
       "      <th></th>\n",
       "      <th></th>\n",
       "      <th>predicted_label</th>\n",
       "      <th>true_label</th>\n",
       "      <th>match</th>\n",
       "    </tr>\n",
       "    <tr>\n",
       "      <th>dataset</th>\n",
       "      <th>subject</th>\n",
       "      <th>task</th>\n",
       "      <th>contrast</th>\n",
       "      <th></th>\n",
       "      <th></th>\n",
       "      <th></th>\n",
       "    </tr>\n",
       "  </thead>\n",
       "  <tbody>\n",
       "    <tr>\n",
       "      <th rowspan=\"30\" valign=\"top\">archi</th>\n",
       "      <th rowspan=\"30\" valign=\"top\">1</th>\n",
       "      <th rowspan=\"6\" valign=\"top\">emotional</th>\n",
       "      <th>expression_control</th>\n",
       "      <td>archi__emotional__expression_control</td>\n",
       "      <td>archi__emotional__expression_control</td>\n",
       "      <td>True</td>\n",
       "    </tr>\n",
       "    <tr>\n",
       "      <th>expression_intention</th>\n",
       "      <td>archi__emotional__expression_intention</td>\n",
       "      <td>archi__emotional__expression_intention</td>\n",
       "      <td>True</td>\n",
       "    </tr>\n",
       "    <tr>\n",
       "      <th>expression_sex</th>\n",
       "      <td>archi__emotional__expression_sex</td>\n",
       "      <td>archi__emotional__expression_sex</td>\n",
       "      <td>True</td>\n",
       "    </tr>\n",
       "    <tr>\n",
       "      <th>face_control</th>\n",
       "      <td>archi__emotional__face_control</td>\n",
       "      <td>archi__emotional__face_control</td>\n",
       "      <td>True</td>\n",
       "    </tr>\n",
       "    <tr>\n",
       "      <th>face_sex</th>\n",
       "      <td>archi__emotional__expression_sex</td>\n",
       "      <td>archi__emotional__face_sex</td>\n",
       "      <td>False</td>\n",
       "    </tr>\n",
       "    <tr>\n",
       "      <th>face_trusty</th>\n",
       "      <td>archi__emotional__face_trusty</td>\n",
       "      <td>archi__emotional__face_trusty</td>\n",
       "      <td>True</td>\n",
       "    </tr>\n",
       "    <tr>\n",
       "      <th rowspan=\"11\" valign=\"top\">localizer</th>\n",
       "      <th>audio</th>\n",
       "      <td>archi__localizer__audio</td>\n",
       "      <td>archi__localizer__audio</td>\n",
       "      <td>True</td>\n",
       "    </tr>\n",
       "    <tr>\n",
       "      <th>calculaudio</th>\n",
       "      <td>archi__localizer__calculaudio</td>\n",
       "      <td>archi__localizer__calculaudio</td>\n",
       "      <td>True</td>\n",
       "    </tr>\n",
       "    <tr>\n",
       "      <th>calculvideo</th>\n",
       "      <td>archi__localizer__calculvideo</td>\n",
       "      <td>archi__localizer__calculvideo</td>\n",
       "      <td>True</td>\n",
       "    </tr>\n",
       "    <tr>\n",
       "      <th>clicDaudio</th>\n",
       "      <td>archi__localizer__clicDaudio</td>\n",
       "      <td>archi__localizer__clicDaudio</td>\n",
       "      <td>True</td>\n",
       "    </tr>\n",
       "    <tr>\n",
       "      <th>clicDvideo</th>\n",
       "      <td>archi__localizer__clicDvideo</td>\n",
       "      <td>archi__localizer__clicDvideo</td>\n",
       "      <td>True</td>\n",
       "    </tr>\n",
       "    <tr>\n",
       "      <th>clicGaudio</th>\n",
       "      <td>archi__localizer__clicGaudio</td>\n",
       "      <td>archi__localizer__clicGaudio</td>\n",
       "      <td>True</td>\n",
       "    </tr>\n",
       "    <tr>\n",
       "      <th>clicGvideo</th>\n",
       "      <td>archi__localizer__clicGvideo</td>\n",
       "      <td>archi__localizer__clicGvideo</td>\n",
       "      <td>True</td>\n",
       "    </tr>\n",
       "    <tr>\n",
       "      <th>computation</th>\n",
       "      <td>archi__localizer__computation</td>\n",
       "      <td>archi__localizer__computation</td>\n",
       "      <td>True</td>\n",
       "    </tr>\n",
       "    <tr>\n",
       "      <th>damier_H</th>\n",
       "      <td>archi__localizer__damier_H</td>\n",
       "      <td>archi__localizer__damier_H</td>\n",
       "      <td>True</td>\n",
       "    </tr>\n",
       "    <tr>\n",
       "      <th>damier_V</th>\n",
       "      <td>archi__localizer__damier_V</td>\n",
       "      <td>archi__localizer__damier_V</td>\n",
       "      <td>True</td>\n",
       "    </tr>\n",
       "    <tr>\n",
       "      <th>motor-cognitive</th>\n",
       "      <td>archi__localizer__motor-cognitive</td>\n",
       "      <td>archi__localizer__motor-cognitive</td>\n",
       "      <td>True</td>\n",
       "    </tr>\n",
       "    <tr>\n",
       "      <th rowspan=\"5\" valign=\"top\">parietal</th>\n",
       "      <th>object_grasp</th>\n",
       "      <td>archi__parietal__object_grasp</td>\n",
       "      <td>archi__parietal__object_grasp</td>\n",
       "      <td>True</td>\n",
       "    </tr>\n",
       "    <tr>\n",
       "      <th>object_orientation</th>\n",
       "      <td>archi__parietal__object_orientation</td>\n",
       "      <td>archi__parietal__object_orientation</td>\n",
       "      <td>True</td>\n",
       "    </tr>\n",
       "    <tr>\n",
       "      <th>rotation_hand</th>\n",
       "      <td>archi__parietal__rotation_hand</td>\n",
       "      <td>archi__parietal__rotation_hand</td>\n",
       "      <td>True</td>\n",
       "    </tr>\n",
       "    <tr>\n",
       "      <th>rotation_side</th>\n",
       "      <td>archi__parietal__rotation_side</td>\n",
       "      <td>archi__parietal__rotation_side</td>\n",
       "      <td>True</td>\n",
       "    </tr>\n",
       "    <tr>\n",
       "      <th>saccade</th>\n",
       "      <td>archi__parietal__saccade</td>\n",
       "      <td>archi__parietal__saccade</td>\n",
       "      <td>True</td>\n",
       "    </tr>\n",
       "    <tr>\n",
       "      <th rowspan=\"8\" valign=\"top\">social</th>\n",
       "      <th>false_belief_audio</th>\n",
       "      <td>archi__social__false_belief_audio</td>\n",
       "      <td>archi__social__false_belief_audio</td>\n",
       "      <td>True</td>\n",
       "    </tr>\n",
       "    <tr>\n",
       "      <th>false_belief_video</th>\n",
       "      <td>archi__social__false_belief_video</td>\n",
       "      <td>archi__social__false_belief_video</td>\n",
       "      <td>True</td>\n",
       "    </tr>\n",
       "    <tr>\n",
       "      <th>mecanistic_audio</th>\n",
       "      <td>archi__social__mecanistic_audio</td>\n",
       "      <td>archi__social__mecanistic_audio</td>\n",
       "      <td>True</td>\n",
       "    </tr>\n",
       "    <tr>\n",
       "      <th>mecanistic_video</th>\n",
       "      <td>archi__social__mecanistic_video</td>\n",
       "      <td>archi__social__mecanistic_video</td>\n",
       "      <td>True</td>\n",
       "    </tr>\n",
       "    <tr>\n",
       "      <th>non_speech</th>\n",
       "      <td>archi__social__non_speech</td>\n",
       "      <td>archi__social__non_speech</td>\n",
       "      <td>True</td>\n",
       "    </tr>\n",
       "    <tr>\n",
       "      <th>speech</th>\n",
       "      <td>archi__social__speech</td>\n",
       "      <td>archi__social__speech</td>\n",
       "      <td>True</td>\n",
       "    </tr>\n",
       "    <tr>\n",
       "      <th>triangle_intention</th>\n",
       "      <td>archi__social__triangle_intention</td>\n",
       "      <td>archi__social__triangle_intention</td>\n",
       "      <td>True</td>\n",
       "    </tr>\n",
       "    <tr>\n",
       "      <th>triangle_random</th>\n",
       "      <td>archi__social__triangle_random</td>\n",
       "      <td>archi__social__triangle_random</td>\n",
       "      <td>True</td>\n",
       "    </tr>\n",
       "    <tr>\n",
       "      <th>...</th>\n",
       "      <th>...</th>\n",
       "      <th>...</th>\n",
       "      <th>...</th>\n",
       "      <td>...</td>\n",
       "      <td>...</td>\n",
       "      <td>...</td>\n",
       "    </tr>\n",
       "    <tr>\n",
       "      <th rowspan=\"30\" valign=\"top\">hcp</th>\n",
       "      <th rowspan=\"7\" valign=\"top\">994273</th>\n",
       "      <th rowspan=\"7\" valign=\"top\">WM</th>\n",
       "      <th>0BK_FACE</th>\n",
       "      <td>hcp__WM__0BK_FACE</td>\n",
       "      <td>hcp__WM__0BK_FACE</td>\n",
       "      <td>True</td>\n",
       "    </tr>\n",
       "    <tr>\n",
       "      <th>0BK_PLACE</th>\n",
       "      <td>hcp__WM__0BK_PLACE</td>\n",
       "      <td>hcp__WM__0BK_PLACE</td>\n",
       "      <td>True</td>\n",
       "    </tr>\n",
       "    <tr>\n",
       "      <th>0BK_TOOL</th>\n",
       "      <td>hcp__WM__0BK_PLACE</td>\n",
       "      <td>hcp__WM__0BK_TOOL</td>\n",
       "      <td>False</td>\n",
       "    </tr>\n",
       "    <tr>\n",
       "      <th>2BK_BODY</th>\n",
       "      <td>hcp__WM__0BK_FACE</td>\n",
       "      <td>hcp__WM__2BK_BODY</td>\n",
       "      <td>False</td>\n",
       "    </tr>\n",
       "    <tr>\n",
       "      <th>2BK_FACE</th>\n",
       "      <td>hcp__WM__2BK_FACE</td>\n",
       "      <td>hcp__WM__2BK_FACE</td>\n",
       "      <td>True</td>\n",
       "    </tr>\n",
       "    <tr>\n",
       "      <th>2BK_PLACE</th>\n",
       "      <td>hcp__WM__2BK_PLACE</td>\n",
       "      <td>hcp__WM__2BK_PLACE</td>\n",
       "      <td>True</td>\n",
       "    </tr>\n",
       "    <tr>\n",
       "      <th>2BK_TOOL</th>\n",
       "      <td>hcp__WM__2BK_TOOL</td>\n",
       "      <td>hcp__WM__2BK_TOOL</td>\n",
       "      <td>True</td>\n",
       "    </tr>\n",
       "    <tr>\n",
       "      <th rowspan=\"23\" valign=\"top\">996782</th>\n",
       "      <th rowspan=\"2\" valign=\"top\">EMOTION</th>\n",
       "      <th>FACES</th>\n",
       "      <td>hcp__EMOTION__FACES</td>\n",
       "      <td>hcp__EMOTION__FACES</td>\n",
       "      <td>True</td>\n",
       "    </tr>\n",
       "    <tr>\n",
       "      <th>SHAPES</th>\n",
       "      <td>hcp__EMOTION__SHAPES</td>\n",
       "      <td>hcp__EMOTION__SHAPES</td>\n",
       "      <td>True</td>\n",
       "    </tr>\n",
       "    <tr>\n",
       "      <th rowspan=\"2\" valign=\"top\">GAMBLING</th>\n",
       "      <th>PUNISH</th>\n",
       "      <td>hcp__GAMBLING__PUNISH</td>\n",
       "      <td>hcp__GAMBLING__PUNISH</td>\n",
       "      <td>True</td>\n",
       "    </tr>\n",
       "    <tr>\n",
       "      <th>REWARD</th>\n",
       "      <td>hcp__GAMBLING__REWARD</td>\n",
       "      <td>hcp__GAMBLING__REWARD</td>\n",
       "      <td>True</td>\n",
       "    </tr>\n",
       "    <tr>\n",
       "      <th rowspan=\"2\" valign=\"top\">LANGUAGE</th>\n",
       "      <th>MATH</th>\n",
       "      <td>hcp__LANGUAGE__MATH</td>\n",
       "      <td>hcp__LANGUAGE__MATH</td>\n",
       "      <td>True</td>\n",
       "    </tr>\n",
       "    <tr>\n",
       "      <th>STORY</th>\n",
       "      <td>hcp__LANGUAGE__STORY</td>\n",
       "      <td>hcp__LANGUAGE__STORY</td>\n",
       "      <td>True</td>\n",
       "    </tr>\n",
       "    <tr>\n",
       "      <th rowspan=\"5\" valign=\"top\">MOTOR</th>\n",
       "      <th>CUE</th>\n",
       "      <td>hcp__MOTOR__CUE</td>\n",
       "      <td>hcp__MOTOR__CUE</td>\n",
       "      <td>True</td>\n",
       "    </tr>\n",
       "    <tr>\n",
       "      <th>LF</th>\n",
       "      <td>hcp__MOTOR__LF</td>\n",
       "      <td>hcp__MOTOR__LF</td>\n",
       "      <td>True</td>\n",
       "    </tr>\n",
       "    <tr>\n",
       "      <th>LH</th>\n",
       "      <td>hcp__MOTOR__LH</td>\n",
       "      <td>hcp__MOTOR__LH</td>\n",
       "      <td>True</td>\n",
       "    </tr>\n",
       "    <tr>\n",
       "      <th>RF</th>\n",
       "      <td>hcp__MOTOR__RF</td>\n",
       "      <td>hcp__MOTOR__RF</td>\n",
       "      <td>True</td>\n",
       "    </tr>\n",
       "    <tr>\n",
       "      <th>RH</th>\n",
       "      <td>hcp__MOTOR__RH</td>\n",
       "      <td>hcp__MOTOR__RH</td>\n",
       "      <td>True</td>\n",
       "    </tr>\n",
       "    <tr>\n",
       "      <th rowspan=\"2\" valign=\"top\">RELATIONAL</th>\n",
       "      <th>MATCH</th>\n",
       "      <td>hcp__RELATIONAL__MATCH</td>\n",
       "      <td>hcp__RELATIONAL__MATCH</td>\n",
       "      <td>True</td>\n",
       "    </tr>\n",
       "    <tr>\n",
       "      <th>REL</th>\n",
       "      <td>hcp__RELATIONAL__MATCH</td>\n",
       "      <td>hcp__RELATIONAL__REL</td>\n",
       "      <td>False</td>\n",
       "    </tr>\n",
       "    <tr>\n",
       "      <th rowspan=\"2\" valign=\"top\">SOCIAL</th>\n",
       "      <th>RANDOM</th>\n",
       "      <td>hcp__SOCIAL__RANDOM</td>\n",
       "      <td>hcp__SOCIAL__RANDOM</td>\n",
       "      <td>True</td>\n",
       "    </tr>\n",
       "    <tr>\n",
       "      <th>TOM</th>\n",
       "      <td>hcp__SOCIAL__TOM</td>\n",
       "      <td>hcp__SOCIAL__TOM</td>\n",
       "      <td>True</td>\n",
       "    </tr>\n",
       "    <tr>\n",
       "      <th rowspan=\"8\" valign=\"top\">WM</th>\n",
       "      <th>0BK_BODY</th>\n",
       "      <td>hcp__WM__0BK_BODY</td>\n",
       "      <td>hcp__WM__0BK_BODY</td>\n",
       "      <td>True</td>\n",
       "    </tr>\n",
       "    <tr>\n",
       "      <th>0BK_FACE</th>\n",
       "      <td>hcp__WM__0BK_FACE</td>\n",
       "      <td>hcp__WM__0BK_FACE</td>\n",
       "      <td>True</td>\n",
       "    </tr>\n",
       "    <tr>\n",
       "      <th>0BK_PLACE</th>\n",
       "      <td>hcp__WM__0BK_PLACE</td>\n",
       "      <td>hcp__WM__0BK_PLACE</td>\n",
       "      <td>True</td>\n",
       "    </tr>\n",
       "    <tr>\n",
       "      <th>0BK_TOOL</th>\n",
       "      <td>hcp__WM__0BK_TOOL</td>\n",
       "      <td>hcp__WM__0BK_TOOL</td>\n",
       "      <td>True</td>\n",
       "    </tr>\n",
       "    <tr>\n",
       "      <th>2BK_BODY</th>\n",
       "      <td>hcp__MOTOR__RH</td>\n",
       "      <td>hcp__WM__2BK_BODY</td>\n",
       "      <td>False</td>\n",
       "    </tr>\n",
       "    <tr>\n",
       "      <th>2BK_FACE</th>\n",
       "      <td>hcp__WM__2BK_FACE</td>\n",
       "      <td>hcp__WM__2BK_FACE</td>\n",
       "      <td>True</td>\n",
       "    </tr>\n",
       "    <tr>\n",
       "      <th>2BK_PLACE</th>\n",
       "      <td>hcp__WM__0BK_PLACE</td>\n",
       "      <td>hcp__WM__2BK_PLACE</td>\n",
       "      <td>False</td>\n",
       "    </tr>\n",
       "    <tr>\n",
       "      <th>2BK_TOOL</th>\n",
       "      <td>hcp__WM__2BK_TOOL</td>\n",
       "      <td>hcp__WM__2BK_TOOL</td>\n",
       "      <td>True</td>\n",
       "    </tr>\n",
       "  </tbody>\n",
       "</table>\n",
       "<p>17423 rows × 3 columns</p>\n",
       "</div>"
      ],
      "text/plain": [
       "                                                                        predicted_label  \\\n",
       "dataset subject task       contrast                                                       \n",
       "archi   1       emotional  expression_control      archi__emotional__expression_control   \n",
       "                           expression_intention  archi__emotional__expression_intention   \n",
       "                           expression_sex              archi__emotional__expression_sex   \n",
       "                           face_control                  archi__emotional__face_control   \n",
       "                           face_sex                    archi__emotional__expression_sex   \n",
       "                           face_trusty                    archi__emotional__face_trusty   \n",
       "                localizer  audio                                archi__localizer__audio   \n",
       "                           calculaudio                    archi__localizer__calculaudio   \n",
       "                           calculvideo                    archi__localizer__calculvideo   \n",
       "                           clicDaudio                      archi__localizer__clicDaudio   \n",
       "                           clicDvideo                      archi__localizer__clicDvideo   \n",
       "                           clicGaudio                      archi__localizer__clicGaudio   \n",
       "                           clicGvideo                      archi__localizer__clicGvideo   \n",
       "                           computation                    archi__localizer__computation   \n",
       "                           damier_H                          archi__localizer__damier_H   \n",
       "                           damier_V                          archi__localizer__damier_V   \n",
       "                           motor-cognitive            archi__localizer__motor-cognitive   \n",
       "                parietal   object_grasp                   archi__parietal__object_grasp   \n",
       "                           object_orientation       archi__parietal__object_orientation   \n",
       "                           rotation_hand                 archi__parietal__rotation_hand   \n",
       "                           rotation_side                 archi__parietal__rotation_side   \n",
       "                           saccade                             archi__parietal__saccade   \n",
       "                social     false_belief_audio         archi__social__false_belief_audio   \n",
       "                           false_belief_video         archi__social__false_belief_video   \n",
       "                           mecanistic_audio             archi__social__mecanistic_audio   \n",
       "                           mecanistic_video             archi__social__mecanistic_video   \n",
       "                           non_speech                         archi__social__non_speech   \n",
       "                           speech                                 archi__social__speech   \n",
       "                           triangle_intention         archi__social__triangle_intention   \n",
       "                           triangle_random               archi__social__triangle_random   \n",
       "...                                                                                 ...   \n",
       "hcp     994273  WM         0BK_FACE                                   hcp__WM__0BK_FACE   \n",
       "                           0BK_PLACE                                 hcp__WM__0BK_PLACE   \n",
       "                           0BK_TOOL                                  hcp__WM__0BK_PLACE   \n",
       "                           2BK_BODY                                   hcp__WM__0BK_FACE   \n",
       "                           2BK_FACE                                   hcp__WM__2BK_FACE   \n",
       "                           2BK_PLACE                                 hcp__WM__2BK_PLACE   \n",
       "                           2BK_TOOL                                   hcp__WM__2BK_TOOL   \n",
       "        996782  EMOTION    FACES                                    hcp__EMOTION__FACES   \n",
       "                           SHAPES                                  hcp__EMOTION__SHAPES   \n",
       "                GAMBLING   PUNISH                                 hcp__GAMBLING__PUNISH   \n",
       "                           REWARD                                 hcp__GAMBLING__REWARD   \n",
       "                LANGUAGE   MATH                                     hcp__LANGUAGE__MATH   \n",
       "                           STORY                                   hcp__LANGUAGE__STORY   \n",
       "                MOTOR      CUE                                          hcp__MOTOR__CUE   \n",
       "                           LF                                            hcp__MOTOR__LF   \n",
       "                           LH                                            hcp__MOTOR__LH   \n",
       "                           RF                                            hcp__MOTOR__RF   \n",
       "                           RH                                            hcp__MOTOR__RH   \n",
       "                RELATIONAL MATCH                                 hcp__RELATIONAL__MATCH   \n",
       "                           REL                                   hcp__RELATIONAL__MATCH   \n",
       "                SOCIAL     RANDOM                                   hcp__SOCIAL__RANDOM   \n",
       "                           TOM                                         hcp__SOCIAL__TOM   \n",
       "                WM         0BK_BODY                                   hcp__WM__0BK_BODY   \n",
       "                           0BK_FACE                                   hcp__WM__0BK_FACE   \n",
       "                           0BK_PLACE                                 hcp__WM__0BK_PLACE   \n",
       "                           0BK_TOOL                                   hcp__WM__0BK_TOOL   \n",
       "                           2BK_BODY                                      hcp__MOTOR__RH   \n",
       "                           2BK_FACE                                   hcp__WM__2BK_FACE   \n",
       "                           2BK_PLACE                                 hcp__WM__0BK_PLACE   \n",
       "                           2BK_TOOL                                   hcp__WM__2BK_TOOL   \n",
       "\n",
       "                                                                             true_label  \\\n",
       "dataset subject task       contrast                                                       \n",
       "archi   1       emotional  expression_control      archi__emotional__expression_control   \n",
       "                           expression_intention  archi__emotional__expression_intention   \n",
       "                           expression_sex              archi__emotional__expression_sex   \n",
       "                           face_control                  archi__emotional__face_control   \n",
       "                           face_sex                          archi__emotional__face_sex   \n",
       "                           face_trusty                    archi__emotional__face_trusty   \n",
       "                localizer  audio                                archi__localizer__audio   \n",
       "                           calculaudio                    archi__localizer__calculaudio   \n",
       "                           calculvideo                    archi__localizer__calculvideo   \n",
       "                           clicDaudio                      archi__localizer__clicDaudio   \n",
       "                           clicDvideo                      archi__localizer__clicDvideo   \n",
       "                           clicGaudio                      archi__localizer__clicGaudio   \n",
       "                           clicGvideo                      archi__localizer__clicGvideo   \n",
       "                           computation                    archi__localizer__computation   \n",
       "                           damier_H                          archi__localizer__damier_H   \n",
       "                           damier_V                          archi__localizer__damier_V   \n",
       "                           motor-cognitive            archi__localizer__motor-cognitive   \n",
       "                parietal   object_grasp                   archi__parietal__object_grasp   \n",
       "                           object_orientation       archi__parietal__object_orientation   \n",
       "                           rotation_hand                 archi__parietal__rotation_hand   \n",
       "                           rotation_side                 archi__parietal__rotation_side   \n",
       "                           saccade                             archi__parietal__saccade   \n",
       "                social     false_belief_audio         archi__social__false_belief_audio   \n",
       "                           false_belief_video         archi__social__false_belief_video   \n",
       "                           mecanistic_audio             archi__social__mecanistic_audio   \n",
       "                           mecanistic_video             archi__social__mecanistic_video   \n",
       "                           non_speech                         archi__social__non_speech   \n",
       "                           speech                                 archi__social__speech   \n",
       "                           triangle_intention         archi__social__triangle_intention   \n",
       "                           triangle_random               archi__social__triangle_random   \n",
       "...                                                                                 ...   \n",
       "hcp     994273  WM         0BK_FACE                                   hcp__WM__0BK_FACE   \n",
       "                           0BK_PLACE                                 hcp__WM__0BK_PLACE   \n",
       "                           0BK_TOOL                                   hcp__WM__0BK_TOOL   \n",
       "                           2BK_BODY                                   hcp__WM__2BK_BODY   \n",
       "                           2BK_FACE                                   hcp__WM__2BK_FACE   \n",
       "                           2BK_PLACE                                 hcp__WM__2BK_PLACE   \n",
       "                           2BK_TOOL                                   hcp__WM__2BK_TOOL   \n",
       "        996782  EMOTION    FACES                                    hcp__EMOTION__FACES   \n",
       "                           SHAPES                                  hcp__EMOTION__SHAPES   \n",
       "                GAMBLING   PUNISH                                 hcp__GAMBLING__PUNISH   \n",
       "                           REWARD                                 hcp__GAMBLING__REWARD   \n",
       "                LANGUAGE   MATH                                     hcp__LANGUAGE__MATH   \n",
       "                           STORY                                   hcp__LANGUAGE__STORY   \n",
       "                MOTOR      CUE                                          hcp__MOTOR__CUE   \n",
       "                           LF                                            hcp__MOTOR__LF   \n",
       "                           LH                                            hcp__MOTOR__LH   \n",
       "                           RF                                            hcp__MOTOR__RF   \n",
       "                           RH                                            hcp__MOTOR__RH   \n",
       "                RELATIONAL MATCH                                 hcp__RELATIONAL__MATCH   \n",
       "                           REL                                     hcp__RELATIONAL__REL   \n",
       "                SOCIAL     RANDOM                                   hcp__SOCIAL__RANDOM   \n",
       "                           TOM                                         hcp__SOCIAL__TOM   \n",
       "                WM         0BK_BODY                                   hcp__WM__0BK_BODY   \n",
       "                           0BK_FACE                                   hcp__WM__0BK_FACE   \n",
       "                           0BK_PLACE                                 hcp__WM__0BK_PLACE   \n",
       "                           0BK_TOOL                                   hcp__WM__0BK_TOOL   \n",
       "                           2BK_BODY                                   hcp__WM__2BK_BODY   \n",
       "                           2BK_FACE                                   hcp__WM__2BK_FACE   \n",
       "                           2BK_PLACE                                 hcp__WM__2BK_PLACE   \n",
       "                           2BK_TOOL                                   hcp__WM__2BK_TOOL   \n",
       "\n",
       "                                                 match  \n",
       "dataset subject task       contrast                     \n",
       "archi   1       emotional  expression_control     True  \n",
       "                           expression_intention   True  \n",
       "                           expression_sex         True  \n",
       "                           face_control           True  \n",
       "                           face_sex              False  \n",
       "                           face_trusty            True  \n",
       "                localizer  audio                  True  \n",
       "                           calculaudio            True  \n",
       "                           calculvideo            True  \n",
       "                           clicDaudio             True  \n",
       "                           clicDvideo             True  \n",
       "                           clicGaudio             True  \n",
       "                           clicGvideo             True  \n",
       "                           computation            True  \n",
       "                           damier_H               True  \n",
       "                           damier_V               True  \n",
       "                           motor-cognitive        True  \n",
       "                parietal   object_grasp           True  \n",
       "                           object_orientation     True  \n",
       "                           rotation_hand          True  \n",
       "                           rotation_side          True  \n",
       "                           saccade                True  \n",
       "                social     false_belief_audio     True  \n",
       "                           false_belief_video     True  \n",
       "                           mecanistic_audio       True  \n",
       "                           mecanistic_video       True  \n",
       "                           non_speech             True  \n",
       "                           speech                 True  \n",
       "                           triangle_intention     True  \n",
       "                           triangle_random        True  \n",
       "...                                                ...  \n",
       "hcp     994273  WM         0BK_FACE               True  \n",
       "                           0BK_PLACE              True  \n",
       "                           0BK_TOOL              False  \n",
       "                           2BK_BODY              False  \n",
       "                           2BK_FACE               True  \n",
       "                           2BK_PLACE              True  \n",
       "                           2BK_TOOL               True  \n",
       "        996782  EMOTION    FACES                  True  \n",
       "                           SHAPES                 True  \n",
       "                GAMBLING   PUNISH                 True  \n",
       "                           REWARD                 True  \n",
       "                LANGUAGE   MATH                   True  \n",
       "                           STORY                  True  \n",
       "                MOTOR      CUE                    True  \n",
       "                           LF                     True  \n",
       "                           LH                     True  \n",
       "                           RF                     True  \n",
       "                           RH                     True  \n",
       "                RELATIONAL MATCH                  True  \n",
       "                           REL                   False  \n",
       "                SOCIAL     RANDOM                 True  \n",
       "                           TOM                    True  \n",
       "                WM         0BK_BODY               True  \n",
       "                           0BK_FACE               True  \n",
       "                           0BK_PLACE              True  \n",
       "                           0BK_TOOL               True  \n",
       "                           2BK_BODY              False  \n",
       "                           2BK_FACE               True  \n",
       "                           2BK_PLACE             False  \n",
       "                           2BK_TOOL               True  \n",
       "\n",
       "[17423 rows x 3 columns]"
      ]
     },
     "execution_count": 185,
     "metadata": {},
     "output_type": "execute_result"
    }
   ],
   "source": [
    "prediction.loc['train']"
   ]
  },
  {
   "cell_type": "code",
   "execution_count": 186,
   "metadata": {
    "collapsed": false
   },
   "outputs": [
    {
     "data": {
      "text/plain": [
       "array([[ 35,   0,   0, ...,   0,   0,   0],\n",
       "       [  0,  38,   0, ...,   0,   0,   0],\n",
       "       [  0,   0,  37, ...,   0,   0,   0],\n",
       "       ..., \n",
       "       [  0,   0,   0, ..., 650,   2,   3],\n",
       "       [  0,   0,   0, ...,   1, 616,   3],\n",
       "       [  0,   0,   0, ...,  12,  44, 555]])"
      ]
     },
     "execution_count": 186,
     "metadata": {},
     "output_type": "execute_result"
    }
   ],
   "source": [
    "train_conf"
   ]
  },
  {
   "cell_type": "code",
   "execution_count": 187,
   "metadata": {
    "collapsed": false,
    "deletable": true,
    "editable": true,
    "scrolled": false
   },
   "outputs": [
    {
     "data": {
      "image/png": "[encoded data removed]",
      "text/plain": [
       "<matplotlib.figure.Figure at 0x7fd16a680438>"
      ]
     },
     "metadata": {},
     "output_type": "display_data"
    }
   ],
   "source": [
    "plot_confusion_matrix(train_conf, labels)"
   ]
  },
  {
   "cell_type": "code",
   "execution_count": 135,
   "metadata": {
    "collapsed": false,
    "deletable": true,
    "editable": true,
    "scrolled": false
   },
   "outputs": [
    {
     "data": {
      "text/plain": [
       "dataset  task        contrast            \n",
       "archi    emotional   expression_control      0.512821\n",
       "                     expression_intention    0.923077\n",
       "                     expression_sex          0.666667\n",
       "                     face_control            0.589744\n",
       "                     face_sex                0.564103\n",
       "                     face_trusty             0.897436\n",
       "         localizer   audio                   0.948718\n",
       "                     calculaudio             0.871795\n",
       "                     calculvideo             0.948718\n",
       "                     clicDaudio              0.871795\n",
       "                     clicDvideo              0.948718\n",
       "                     clicGaudio              0.948718\n",
       "                     clicGvideo              0.923077\n",
       "                     computation             0.820513\n",
       "                     damier_H                0.948718\n",
       "                     damier_V                0.897436\n",
       "                     motor-cognitive         1.000000\n",
       "         parietal    object_grasp            0.923077\n",
       "                     object_orientation      0.897436\n",
       "                     rotation_hand           0.897436\n",
       "                     rotation_side           0.846154\n",
       "                     saccade                 0.820513\n",
       "         social      false_belief_audio      0.923077\n",
       "                     false_belief_video      0.743590\n",
       "                     mecanistic_audio        0.871795\n",
       "                     mecanistic_video        0.666667\n",
       "                     non_speech              0.871795\n",
       "                     speech                  0.794872\n",
       "                     triangle_intention      0.794872\n",
       "                     triangle_random         0.692308\n",
       "hcp      EMOTION     FACES                   0.278481\n",
       "                     SHAPES                  0.050633\n",
       "         GAMBLING    PUNISH                  0.139241\n",
       "                     REWARD                  0.430380\n",
       "         LANGUAGE    MATH                    0.101266\n",
       "                     STORY                   0.088608\n",
       "         MOTOR       CUE                     0.506329\n",
       "                     LF                      0.848101\n",
       "                     LH                      0.075949\n",
       "                     RF                      0.670886\n",
       "                     RH                      0.189873\n",
       "         RELATIONAL  MATCH                   0.215190\n",
       "                     REL                     0.215190\n",
       "         SOCIAL      RANDOM                  0.012658\n",
       "                     TOM                     0.063291\n",
       "         WM          0BK_BODY                0.151899\n",
       "                     0BK_FACE                0.240506\n",
       "                     0BK_PLACE               0.379747\n",
       "                     0BK_TOOL                0.151899\n",
       "                     2BK_BODY                0.227848\n",
       "                     2BK_FACE                0.189873\n",
       "                     2BK_PLACE               0.354430\n",
       "                     2BK_TOOL                0.202532\n",
       "Name: match, dtype: float64"
      ]
     },
     "execution_count": 135,
     "metadata": {},
     "output_type": "execute_result"
    }
   ],
   "source": [
    "prediction['match'].groupby(level=['fold', 'dataset', 'task', 'contrast']).apply(np.mean)['test']"
   ]
  },
  {
   "cell_type": "code",
   "execution_count": null,
   "metadata": {
    "collapsed": false,
    "deletable": true,
    "editable": true
   },
   "outputs": [],
   "source": [
    "idx = pd.IndexSlice\n",
    "prediction.loc[idx['test']]"
   ]
  },
  {
   "cell_type": "code",
   "execution_count": 43,
   "metadata": {
    "collapsed": false,
    "deletable": true,
    "editable": true,
    "scrolled": true
   },
   "outputs": [
    {
     "data": {
      "text/plain": [
       "fold   dataset\n",
       "test   archi      0.852991\n",
       "       hcp        0.891029\n",
       "       la5c       0.557812\n",
       "train  archi      0.993162\n",
       "       hcp        0.916508\n",
       "       la5c       0.748754\n",
       "Name: match, dtype: float64"
      ]
     },
     "execution_count": 43,
     "metadata": {},
     "output_type": "execute_result"
    }
   ],
   "source": [
    "prediction['match'].groupby(level=['fold', 'dataset']).apply(np.mean)"
   ]
  },
  {
   "cell_type": "code",
   "execution_count": null,
   "metadata": {
    "collapsed": false,
    "deletable": true,
    "editable": true
   },
   "outputs": [],
   "source": [
    "classifier = estimator.named_steps['classifier']"
   ]
  },
  {
   "cell_type": "code",
   "execution_count": null,
   "metadata": {
    "collapsed": false,
    "deletable": true,
    "editable": true
   },
   "outputs": [],
   "source": [
    "histories = classifier.histories_"
   ]
  },
  {
   "cell_type": "code",
   "execution_count": null,
   "metadata": {
    "collapsed": false,
    "deletable": true,
    "editable": true
   },
   "outputs": [],
   "source": [
    "history.epoch"
   ]
  },
  {
   "cell_type": "code",
   "execution_count": null,
   "metadata": {
    "collapsed": false,
    "deletable": true,
    "editable": true
   },
   "outputs": [],
   "source": [
    "for history, n_samples in zip(histories, classifier.n_samples_):\n",
    "    plt.plot(np.array(history.epoch) * n_samples, history.history['val_acc'])"
   ]
  },
  {
   "cell_type": "code",
   "execution_count": null,
   "metadata": {
    "collapsed": false,
    "deletable": true,
    "editable": true
   },
   "outputs": [],
   "source": [
    "titles = [\"%s: %s\" % (task, contrast) for task, contrast in zip(tasks, labels)]"
   ]
  },
  {
   "cell_type": "code",
   "execution_count": null,
   "metadata": {
    "collapsed": false,
    "deletable": true,
    "editable": true,
    "scrolled": true
   },
   "outputs": [],
   "source": [
    "%matplotlib inline\n",
    "from nilearn.plotting import plot_stat_map\n",
    "from nilearn.image import index_img\n",
    "from nilearn._utils import check_niimg\n",
    "\n",
    "indices = label_encoder.transform(labels)\n",
    "\n",
    "imgs = check_niimg(imgs)\n",
    "imgs.get_data()\n",
    "\n",
    "plt.close('all')\n",
    "\n",
    "for i, title in zip(indices, titles):\n",
    "    plot_stat_map(index_img(imgs, i), title=title, threshold=0)"
   ]
  },
  {
   "cell_type": "code",
   "execution_count": null,
   "metadata": {
    "collapsed": false,
    "deletable": true,
    "editable": true
   },
   "outputs": [],
   "source": [
    "indices = label_encoder.transform(labels)\n",
    "ncoef = coef[indices]\n",
    "S = np.sqrt((ncoef ** 2).sum(axis=1))\n",
    "ncoef = ncoef / S[:, np.newaxis]"
   ]
  },
  {
   "cell_type": "code",
   "execution_count": null,
   "metadata": {
    "collapsed": false,
    "deletable": true,
    "editable": true,
    "scrolled": true
   },
   "outputs": [],
   "source": [
    "G = ncoef.dot(ncoef.T)\n",
    "plot_gram_matrix(G, labels)"
   ]
  },
  {
   "cell_type": "code",
   "execution_count": null,
   "metadata": {
    "collapsed": false,
    "deletable": true,
    "editable": true
   },
   "outputs": [],
   "source": [
    "np.mean(w0 == 0),np.mean(w1 == 0)"
   ]
  },
  {
   "cell_type": "code",
   "execution_count": null,
   "metadata": {
    "collapsed": false,
    "deletable": true,
    "editable": true
   },
   "outputs": [],
   "source": [
    "np.histogram(w1)"
   ]
  },
  {
   "cell_type": "code",
   "execution_count": null,
   "metadata": {
    "collapsed": false,
    "deletable": true,
    "editable": true,
    "scrolled": false
   },
   "outputs": [],
   "source": [
    "%matplotlib inline\n",
    "n, bins, patches = plt.hist(w1.ravel(), bins=100, log=True)\n",
    "plt.xscale('log')"
   ]
  },
  {
   "cell_type": "code",
   "execution_count": null,
   "metadata": {
    "collapsed": false,
    "deletable": true,
    "editable": true
   },
   "outputs": [],
   "source": [
    "w1.ravel()[:300]"
   ]
  },
  {
   "cell_type": "code",
   "execution_count": null,
   "metadata": {
    "collapsed": false,
    "deletable": true,
    "editable": true
   },
   "outputs": [],
   "source": [
    "(np.abs(coef[indices,:16]).sum())"
   ]
  },
  {
   "cell_type": "code",
   "execution_count": null,
   "metadata": {
    "collapsed": false,
    "deletable": true,
    "editable": true
   },
   "outputs": [],
   "source": [
    "(np.abs(coef[indices,16:80])).sum()"
   ]
  },
  {
   "cell_type": "code",
   "execution_count": null,
   "metadata": {
    "collapsed": false,
    "deletable": true,
    "editable": true
   },
   "outputs": [],
   "source": [
    "np.abs(coef[indices,80:80 + 256]).sum()"
   ]
  },
  {
   "cell_type": "code",
   "execution_count": null,
   "metadata": {
    "collapsed": false,
    "deletable": true,
    "editable": true
   },
   "outputs": [],
   "source": [
    "np.mean(coef[indices, :16] == 0)"
   ]
  },
  {
   "cell_type": "code",
   "execution_count": null,
   "metadata": {
    "collapsed": false,
    "deletable": true,
    "editable": true
   },
   "outputs": [],
   "source": [
    "np.mean(coef[indices, 16:80] == 0)"
   ]
  },
  {
   "cell_type": "code",
   "execution_count": null,
   "metadata": {
    "collapsed": false,
    "deletable": true,
    "editable": true
   },
   "outputs": [],
   "source": [
    "np.mean(coef[indices, 80:256] == 0)"
   ]
  },
  {
   "cell_type": "code",
   "execution_count": null,
   "metadata": {
    "collapsed": true,
    "deletable": true,
    "editable": true
   },
   "outputs": [],
   "source": []
  },
  {
   "cell_type": "code",
   "execution_count": null,
   "metadata": {
    "collapsed": true,
    "deletable": true,
    "editable": true
   },
   "outputs": [],
   "source": []
  },
  {
   "cell_type": "code",
   "execution_count": null,
   "metadata": {
    "collapsed": true,
    "deletable": true,
    "editable": true
   },
   "outputs": [],
   "source": []
  },
  {
   "cell_type": "code",
   "execution_count": null,
   "metadata": {
    "collapsed": true,
    "deletable": true,
    "editable": true
   },
   "outputs": [],
   "source": []
  }
 ],
 "metadata": {
  "kernelspec": {
   "display_name": "Python 3",
   "language": "python",
   "name": "python3"
  },
  "language_info": {
   "codemirror_mode": {
    "name": "ipython",
    "version": 3
   },
   "file_extension": ".py",
   "mimetype": "text/x-python",
   "name": "python",
   "nbconvert_exporter": "python",
   "pygments_lexer": "ipython3",
   "version": "3.6.0"
  }
 },
 "nbformat": 4,
 "nbformat_minor": 0
}
