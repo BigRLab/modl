{
 "cells": [
  {
   "cell_type": "code",
   "execution_count": 1,
   "metadata": {
    "collapsed": false,
    "deletable": true,
    "editable": true
   },
   "outputs": [
    {
     "name": "stdout",
     "output_type": "stream",
     "text": [
      "/storage/store/work/amensch/work/repos/modl/examples/contrast\n"
     ]
    }
   ],
   "source": [
    "cd ~/work/repos/modl/examples/contrast/"
   ]
  },
  {
   "cell_type": "code",
   "execution_count": 2,
   "metadata": {
    "collapsed": false,
    "deletable": true,
    "editable": true
   },
   "outputs": [
    {
     "name": "stdout",
     "output_type": "stream",
     "text": [
      "\u001b[0m\u001b[01;34manalysis\u001b[0m/                    predict_contrast_new.py  prepare.py\r\n",
      "Multiclass tensorflow.ipynb  predict_contrast.py      \u001b[01;34m__pycache__\u001b[0m/\r\n",
      "multi_predict_contrast.py    prediction.csv           reduce_contrast.py\r\n"
     ]
    }
   ],
   "source": [
    "ls"
   ]
  },
  {
   "cell_type": "code",
   "execution_count": 3,
   "metadata": {
    "collapsed": true,
    "deletable": true,
    "editable": true
   },
   "outputs": [],
   "source": [
    "from sklearn.externals.joblib import load\n",
    "from sklearn.pipeline import Pipeline\n",
    "import pandas as pd\n",
    "\n",
    "from nilearn.input_data import MultiNiftiMasker\n",
    "from nilearn.datasets import load_mni152_brain_mask\n",
    "from modl.datasets.hcp import fetch_hcp"
   ]
  },
  {
   "cell_type": "code",
   "execution_count": 4,
   "metadata": {
    "collapsed": true,
    "deletable": true,
    "editable": true
   },
   "outputs": [],
   "source": [
    "%matplotlib inline\n",
    "\n",
    "def plot_confusion_matrix(conf_arr, labels):\n",
    "\n",
    "    fig = plt.figure(figsize=(8, 8))\n",
    "    plt.clf()\n",
    "    ax = fig.add_subplot(111)\n",
    "    ax.set_aspect(1)\n",
    "    \n",
    "    S = conf_arr.sum(axis=0)\n",
    "    S[S == 0] = 1\n",
    "    conf_arr = conf_arr / S\n",
    "    \n",
    "    res = ax.imshow(conf_arr,\n",
    "                interpolation='nearest')\n",
    "\n",
    "    width, height = conf_arr.shape\n",
    "\n",
    "    plt.xticks(range(width))\n",
    "    plt.yticks(range(height))\n",
    "    ax.set_yticklabels(labels)\n",
    "    ax.set_xticklabels(labels, rotation=90)\n",
    "    fig.colorbar(res)\n",
    "    \n",
    "def plot_gram_matrix(G, labels):\n",
    "    fig = plt.figure(figsize=(8, 8))\n",
    "    plt.clf()\n",
    "    ax = fig.add_subplot(111)\n",
    "    ax.set_aspect(1)\n",
    "    res = ax.imshow(G,\n",
    "                interpolation='nearest')\n",
    "\n",
    "    width, height = G.shape\n",
    "\n",
    "    plt.xticks(range(width))\n",
    "    plt.yticks(range(height))\n",
    "    ax.set_yticklabels(labels)\n",
    "    ax.set_xticklabels(labels, rotation=90)\n",
    "    fig.colorbar(res)"
   ]
  },
  {
   "cell_type": "code",
   "execution_count": 21,
   "metadata": {
    "collapsed": false,
    "deletable": true,
    "editable": true,
    "scrolled": true
   },
   "outputs": [
    {
     "data": {
      "text/plain": [
       "array([ 0.15818949,  0.13096717,  0.15181953,  0.13736863,  0.12438457,\n",
       "        0.12788478,  0.1390084 ,  0.15977478,  0.13475066,  0.16519159,\n",
       "        0.14322956,  0.14418644,  0.12997718,  0.14648309,  0.16054577,\n",
       "        0.12780768,  0.12257423,  0.14556885,  0.15315013,  0.11644936,\n",
       "        0.17522956,  0.15574688,  0.16211933,  0.14013633,  0.14936616,\n",
       "        0.12227187,  0.14737277,  0.1539904 ,  0.11515826,  0.11792964,\n",
       "        0.13792683,  0.16192882,  0.1605365 ,  0.11606205,  0.11594707,\n",
       "        0.14603829,  0.13924789,  0.16111203,  0.1320726 ,  0.13686678,\n",
       "        0.14417259,  0.16572899,  0.16669771,  0.15510674,  0.15729804,\n",
       "        0.12713458,  0.14993072,  0.16121125,  0.16259445,  0.16047724,\n",
       "        0.15217939,  0.14376158,  0.14989033,  0.14424822,  0.16443747,\n",
       "        0.13461198,  0.14736001,  0.14841825,  0.14161617,  0.14806794,\n",
       "        0.14591318,  0.15310781,  0.15377007,  0.16937238,  0.13679987,\n",
       "        0.1342161 ,  0.15903461,  0.16606067,  0.11365917,  0.12816161,\n",
       "        0.1734208 ,  0.17169079,  0.13579933,  0.14176337,  0.17524157,\n",
       "        0.15910198,  0.13472469,  0.1599122 ,  0.14514506,  0.13015385,\n",
       "        0.13805284,  0.13469726,  0.13541161,  0.13912888,  0.13592583,\n",
       "        0.12444866,  0.15244211,  0.13658126,  0.12538594,  0.14534061,\n",
       "        0.15660749,  0.12881804,  0.12259727,  0.13436535,  0.16375208,\n",
       "        0.12505919,  0.15364262,  0.13837132,  0.15817125,  0.13544533], dtype=float32)"
      ]
     },
     "execution_count": 21,
     "metadata": {},
     "output_type": "execute_result"
    }
   ],
   "source": [
    "(np.mean(np.abs(G), axis=1) - 1 / G.shape[1] ) * (G.shape[1] / (G.shape[1] - 1))"
   ]
  },
  {
   "cell_type": "code",
   "execution_count": 23,
   "metadata": {
    "collapsed": false,
    "deletable": true,
    "editable": true
   },
   "outputs": [],
   "source": [
    "from modl.fixes import Model\n",
    "label_encoder = load('label_encoder.pkl')\n",
    "prediction = pd.read_csv('prediction.csv')"
   ]
  },
  {
   "cell_type": "code",
   "execution_count": null,
   "metadata": {
    "collapsed": false,
    "deletable": true,
    "editable": true
   },
   "outputs": [],
   "source": [
    "model = estimator.steps[-1][1].stacked_model_\n",
    "\n",
    "supervised_layers =  model.layers_by_depth[2]\n",
    "embedding_layer =  model.layers_by_depth[3][0]\n",
    "\n",
    "w0 = []\n",
    "for layer in supervised_layers:\n",
    "    this_w0, this_b0 = layer.get_weights()\n",
    "    w0.append(this_w0)\n",
    "w0 = np.concatenate(w0, axis=1)\n",
    "w1 = embedding_layer.get_weights()[0]\n",
    "\n",
    "coef = w1.dot(w0).T\n",
    "\n",
    "print('Sparsity', (coef == 0).sum() / coef.size)"
   ]
  },
  {
   "cell_type": "code",
   "execution_count": 26,
   "metadata": {
    "collapsed": false,
    "deletable": true,
    "editable": true
   },
   "outputs": [],
   "source": [
    "prediction = prediction.set_index(['fold', 'dataset', 'subject', 'task', 'contrast', 'direction'])"
   ]
  },
  {
   "cell_type": "code",
   "execution_count": 27,
   "metadata": {
    "collapsed": false,
    "deletable": true,
    "editable": true
   },
   "outputs": [],
   "source": [
    "match = prediction['true_label'] == prediction['predicted_label']\n",
    "prediction = prediction.assign(match=match)\n",
    "prediction.sort_index(inplace=True)\n",
    "datasets = prediction.index.get_level_values('dataset').unique().values"
   ]
  },
  {
   "cell_type": "code",
   "execution_count": 36,
   "metadata": {
    "collapsed": false,
    "deletable": true,
    "editable": true
   },
   "outputs": [],
   "source": [
    "labels = prediction.index.get_level_values('contrast').unique()"
   ]
  },
  {
   "cell_type": "code",
   "execution_count": 37,
   "metadata": {
    "collapsed": true,
    "deletable": true,
    "editable": true
   },
   "outputs": [],
   "source": [
    "from sklearn.metrics import confusion_matrix"
   ]
  },
  {
   "cell_type": "code",
   "execution_count": 38,
   "metadata": {
    "collapsed": false,
    "deletable": true,
    "editable": true
   },
   "outputs": [],
   "source": [
    "train_conf = confusion_matrix(prediction.loc['train', 'true_label'],\n",
    "                        prediction.loc['train', 'predicted_label'], labels=labels)\n",
    "test_conf = confusion_matrix(prediction.loc['test', 'true_label'],\n",
    "                        prediction.loc['test', 'predicted_label'], labels=labels)"
   ]
  },
  {
   "cell_type": "code",
   "execution_count": 39,
   "metadata": {
    "collapsed": false,
    "deletable": true,
    "editable": true
   },
   "outputs": [
    {
     "data": {
      "text/plain": [
       "Index(['expression_control', 'expression_intention', 'expression_sex',\n",
       "       'face_control', 'face_sex', 'face_trusty', 'audio', 'calculaudio',\n",
       "       'calculvideo', 'clicDaudio', 'clicDvideo', 'clicGaudio', 'clicGvideo',\n",
       "       'computation', 'damier_H', 'damier_V', 'motor-cognitive',\n",
       "       'object_grasp', 'object_orientation', 'rotation_hand', 'rotation_side',\n",
       "       'saccade', 'false_belief_audio', 'false_belief_video',\n",
       "       'mecanistic_audio', 'mecanistic_video', 'non_speech', 'speech',\n",
       "       'triangle_intention', 'triangle_random', 'FACES', 'SHAPES', 'PUNISH',\n",
       "       'REWARD', 'MATH', 'STORY', 'CUE', 'LF', 'LH', 'RF', 'RH', 'MATCH',\n",
       "       'REL', 'RANDOM', 'TOM', '0BK_BODY', '0BK_FACE', '0BK_PLACE', '0BK_TOOL',\n",
       "       '2BK_BODY', '2BK_FACE', '2BK_PLACE', '2BK_TOOL', 'BALOON_ACCEPT',\n",
       "       'BALOON_CASHOUT', 'BALOON_EXPLODE', 'CONTROL_ACCEPT', 'HOLD_ONS',\n",
       "       'PREP_ONS', 'REST_ONS', 'CORRECT', 'INCORRECT', 'BLANKSCREEN',\n",
       "       'GO_LEFT', 'GO_RIGHT', 'STOP_LEFT', 'STOP_RIGHT', 'NOSWITCH_COLOR',\n",
       "       'NOSWITCH_SHAPE', 'SWITCH_COLOR', 'SWITCH_SHAPE', 'CONTROL_CASHOUT',\n",
       "       'NO_RESPONSE', 'nan_BLANKSCREEN'],\n",
       "      dtype='object', name='contrast')"
      ]
     },
     "execution_count": 39,
     "metadata": {},
     "output_type": "execute_result"
    }
   ],
   "source": [
    "labels"
   ]
  },
  {
   "cell_type": "code",
   "execution_count": 42,
   "metadata": {
    "collapsed": false,
    "deletable": true,
    "editable": true,
    "scrolled": false
   },
   "outputs": [
    {
     "data": {
      "image/png": "[encoded data removed]",
      "text/plain": [
       "<matplotlib.figure.Figure at 0x7fcdec0dce48>"
      ]
     },
     "metadata": {},
     "output_type": "display_data"
    }
   ],
   "source": [
    "plot_confusion_matrix(test_conf[-20:, -20:], labels[-20:])"
   ]
  },
  {
   "cell_type": "code",
   "execution_count": 41,
   "metadata": {
    "collapsed": false,
    "deletable": true,
    "editable": true,
    "scrolled": false
   },
   "outputs": [
    {
     "data": {
      "text/plain": [
       "dataset  task        contrast            \n",
       "archi    emotional   expression_control      0.692308\n",
       "                     expression_intention    0.923077\n",
       "                     expression_sex          0.615385\n",
       "                     face_control            0.487179\n",
       "                     face_sex                0.743590\n",
       "                     face_trusty             0.794872\n",
       "         localizer   audio                   0.897436\n",
       "                     calculaudio             0.923077\n",
       "                     calculvideo             0.871795\n",
       "                     clicDaudio              0.948718\n",
       "                     clicDvideo              0.948718\n",
       "                     clicGaudio              1.000000\n",
       "                     clicGvideo              0.948718\n",
       "                     computation             0.846154\n",
       "                     damier_H                0.948718\n",
       "                     damier_V                0.974359\n",
       "                     motor-cognitive         1.000000\n",
       "         parietal    object_grasp            0.974359\n",
       "                     object_orientation      0.692308\n",
       "                     rotation_hand           0.846154\n",
       "                     rotation_side           0.846154\n",
       "                     saccade                 0.923077\n",
       "         social      false_belief_audio      0.974359\n",
       "                     false_belief_video      0.820513\n",
       "                     mecanistic_audio        0.948718\n",
       "                     mecanistic_video        0.717949\n",
       "                     non_speech              0.769231\n",
       "                     speech                  0.871795\n",
       "                     triangle_intention      0.871795\n",
       "                     triangle_random         0.769231\n",
       "                                               ...   \n",
       "hcp      SOCIAL      TOM                     0.987342\n",
       "         WM          0BK_BODY                0.759494\n",
       "                     0BK_FACE                0.911392\n",
       "                     0BK_PLACE               0.848101\n",
       "                     0BK_TOOL                0.860759\n",
       "                     2BK_BODY                0.797468\n",
       "                     2BK_FACE                0.898734\n",
       "                     2BK_PLACE               0.860759\n",
       "                     2BK_TOOL                0.835443\n",
       "la5c     bart        BALOON_ACCEPT           0.702290\n",
       "                     BALOON_CASHOUT          0.730769\n",
       "                     BALOON_EXPLODE          0.847328\n",
       "                     CONTROL_ACCEPT          0.725191\n",
       "                     CONTROL_CASHOUT         0.128205\n",
       "         bht         HOLD_ONS                0.640000\n",
       "                     PREP_ONS                0.816000\n",
       "                     REST_ONS                0.704000\n",
       "         scap        CORRECT                 0.603053\n",
       "                     INCORRECT               0.661538\n",
       "                     NO_RESPONSE             0.296296\n",
       "         stopsignal  BLANKSCREEN             0.852713\n",
       "                     GO_LEFT                 0.410853\n",
       "                     GO_RIGHT                0.348837\n",
       "                     STOP_LEFT               0.325581\n",
       "                     STOP_RIGHT              0.527132\n",
       "                     nan_BLANKSCREEN         0.000000\n",
       "         taskswitch  NOSWITCH_COLOR          0.353846\n",
       "                     NOSWITCH_SHAPE          0.200000\n",
       "                     SWITCH_COLOR            0.353846\n",
       "                     SWITCH_SHAPE            0.476923\n",
       "Name: match, dtype: float64"
      ]
     },
     "execution_count": 41,
     "metadata": {},
     "output_type": "execute_result"
    }
   ],
   "source": [
    "prediction['match'].groupby(level=['fold', 'dataset', 'task', 'contrast']).apply(np.mean)['test']"
   ]
  },
  {
   "cell_type": "code",
   "execution_count": null,
   "metadata": {
    "collapsed": false,
    "deletable": true,
    "editable": true
   },
   "outputs": [],
   "source": [
    "idx = pd.IndexSlice\n",
    "prediction.loc[idx['test']]"
   ]
  },
  {
   "cell_type": "code",
   "execution_count": 43,
   "metadata": {
    "collapsed": false,
    "deletable": true,
    "editable": true,
    "scrolled": true
   },
   "outputs": [
    {
     "data": {
      "text/plain": [
       "fold   dataset\n",
       "test   archi      0.852991\n",
       "       hcp        0.891029\n",
       "       la5c       0.557812\n",
       "train  archi      0.993162\n",
       "       hcp        0.916508\n",
       "       la5c       0.748754\n",
       "Name: match, dtype: float64"
      ]
     },
     "execution_count": 43,
     "metadata": {},
     "output_type": "execute_result"
    }
   ],
   "source": [
    "prediction['match'].groupby(level=['fold', 'dataset']).apply(np.mean)"
   ]
  },
  {
   "cell_type": "code",
   "execution_count": null,
   "metadata": {
    "collapsed": false,
    "deletable": true,
    "editable": true
   },
   "outputs": [],
   "source": [
    "classifier = estimator.named_steps['classifier']"
   ]
  },
  {
   "cell_type": "code",
   "execution_count": null,
   "metadata": {
    "collapsed": false,
    "deletable": true,
    "editable": true
   },
   "outputs": [],
   "source": [
    "histories = classifier.histories_"
   ]
  },
  {
   "cell_type": "code",
   "execution_count": null,
   "metadata": {
    "collapsed": false,
    "deletable": true,
    "editable": true
   },
   "outputs": [],
   "source": [
    "history.epoch"
   ]
  },
  {
   "cell_type": "code",
   "execution_count": null,
   "metadata": {
    "collapsed": false,
    "deletable": true,
    "editable": true
   },
   "outputs": [],
   "source": [
    "for history, n_samples in zip(histories, classifier.n_samples_):\n",
    "    plt.plot(np.array(history.epoch) * n_samples, history.history['val_acc'])"
   ]
  },
  {
   "cell_type": "code",
   "execution_count": null,
   "metadata": {
    "collapsed": false,
    "deletable": true,
    "editable": true
   },
   "outputs": [],
   "source": [
    "titles = [\"%s: %s\" % (task, contrast) for task, contrast in zip(tasks, labels)]"
   ]
  },
  {
   "cell_type": "code",
   "execution_count": null,
   "metadata": {
    "collapsed": false,
    "deletable": true,
    "editable": true,
    "scrolled": true
   },
   "outputs": [],
   "source": [
    "%matplotlib inline\n",
    "from nilearn.plotting import plot_stat_map\n",
    "from nilearn.image import index_img\n",
    "from nilearn._utils import check_niimg\n",
    "\n",
    "indices = label_encoder.transform(labels)\n",
    "\n",
    "imgs = check_niimg(imgs)\n",
    "imgs.get_data()\n",
    "\n",
    "plt.close('all')\n",
    "\n",
    "for i, title in zip(indices, titles):\n",
    "    plot_stat_map(index_img(imgs, i), title=title, threshold=0)"
   ]
  },
  {
   "cell_type": "code",
   "execution_count": null,
   "metadata": {
    "collapsed": false,
    "deletable": true,
    "editable": true
   },
   "outputs": [],
   "source": [
    "indices = label_encoder.transform(labels)\n",
    "ncoef = coef[indices]\n",
    "S = np.sqrt((ncoef ** 2).sum(axis=1))\n",
    "ncoef = ncoef / S[:, np.newaxis]"
   ]
  },
  {
   "cell_type": "code",
   "execution_count": null,
   "metadata": {
    "collapsed": false,
    "deletable": true,
    "editable": true,
    "scrolled": true
   },
   "outputs": [],
   "source": [
    "G = ncoef.dot(ncoef.T)\n",
    "plot_gram_matrix(G, labels)"
   ]
  },
  {
   "cell_type": "code",
   "execution_count": null,
   "metadata": {
    "collapsed": false,
    "deletable": true,
    "editable": true
   },
   "outputs": [],
   "source": [
    "np.mean(w0 == 0),np.mean(w1 == 0)"
   ]
  },
  {
   "cell_type": "code",
   "execution_count": null,
   "metadata": {
    "collapsed": false,
    "deletable": true,
    "editable": true
   },
   "outputs": [],
   "source": [
    "np.histogram(w1)"
   ]
  },
  {
   "cell_type": "code",
   "execution_count": null,
   "metadata": {
    "collapsed": false,
    "deletable": true,
    "editable": true,
    "scrolled": false
   },
   "outputs": [],
   "source": [
    "%matplotlib inline\n",
    "n, bins, patches = plt.hist(w1.ravel(), bins=100, log=True)\n",
    "plt.xscale('log')"
   ]
  },
  {
   "cell_type": "code",
   "execution_count": null,
   "metadata": {
    "collapsed": false,
    "deletable": true,
    "editable": true
   },
   "outputs": [],
   "source": [
    "w1.ravel()[:300]"
   ]
  },
  {
   "cell_type": "code",
   "execution_count": null,
   "metadata": {
    "collapsed": false,
    "deletable": true,
    "editable": true
   },
   "outputs": [],
   "source": [
    "(np.abs(coef[indices,:16]).sum())"
   ]
  },
  {
   "cell_type": "code",
   "execution_count": null,
   "metadata": {
    "collapsed": false,
    "deletable": true,
    "editable": true
   },
   "outputs": [],
   "source": [
    "(np.abs(coef[indices,16:80])).sum()"
   ]
  },
  {
   "cell_type": "code",
   "execution_count": null,
   "metadata": {
    "collapsed": false,
    "deletable": true,
    "editable": true
   },
   "outputs": [],
   "source": [
    "np.abs(coef[indices,80:80 + 256]).sum()"
   ]
  },
  {
   "cell_type": "code",
   "execution_count": null,
   "metadata": {
    "collapsed": false,
    "deletable": true,
    "editable": true
   },
   "outputs": [],
   "source": [
    "np.mean(coef[indices, :16] == 0)"
   ]
  },
  {
   "cell_type": "code",
   "execution_count": null,
   "metadata": {
    "collapsed": false,
    "deletable": true,
    "editable": true
   },
   "outputs": [],
   "source": [
    "np.mean(coef[indices, 16:80] == 0)"
   ]
  },
  {
   "cell_type": "code",
   "execution_count": null,
   "metadata": {
    "collapsed": false,
    "deletable": true,
    "editable": true
   },
   "outputs": [],
   "source": [
    "np.mean(coef[indices, 80:256] == 0)"
   ]
  },
  {
   "cell_type": "code",
   "execution_count": null,
   "metadata": {
    "collapsed": true,
    "deletable": true,
    "editable": true
   },
   "outputs": [],
   "source": [
    ""
   ]
  },
  {
   "cell_type": "code",
   "execution_count": null,
   "metadata": {
    "collapsed": true,
    "deletable": true,
    "editable": true
   },
   "outputs": [],
   "source": [
    ""
   ]
  },
  {
   "cell_type": "code",
   "execution_count": null,
   "metadata": {
    "collapsed": true,
    "deletable": true,
    "editable": true
   },
   "outputs": [],
   "source": [
    ""
   ]
  },
  {
   "cell_type": "code",
   "execution_count": null,
   "metadata": {
    "collapsed": true,
    "deletable": true,
    "editable": true
   },
   "outputs": [],
   "source": [
    ""
   ]
  }
 ],
 "metadata": {
  "kernelspec": {
   "display_name": "Python 3",
   "language": "python",
   "name": "python3"
  },
  "language_info": {
   "codemirror_mode": {
    "name": "ipython",
    "version": 3.0
   },
   "file_extension": ".py",
   "mimetype": "text/x-python",
   "name": "python",
   "nbconvert_exporter": "python",
   "pygments_lexer": "ipython3",
   "version": "3.6.0"
  }
 },
 "nbformat": 4,
 "nbformat_minor": 0
}