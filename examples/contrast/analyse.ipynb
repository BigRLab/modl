{
 "cells": [
  {
   "cell_type": "code",
   "execution_count": 7,
   "metadata": {
    "collapsed": true
   },
   "outputs": [],
   "source": [
    "import os\n",
    "from os.path import join, expanduser\n",
    "\n",
    "from keras.models import load_model\n",
    "from nilearn._utils import check_niimg\n",
    "from wordcloud import WordCloud\n",
    "\n",
    "from modl.datasets import get_data_dirs\n",
    "from modl.hierarchical import HierarchicalLabelMasking, PartialSoftmax\n",
    "from modl.classification import Reconstructer\n",
    "from modl.input_data.fmri.unmask import retrieve_components\n",
    "from modl.utils.system import get_cache_dirs\n",
    "from nilearn.image import index_img\n",
    "from nilearn.input_data import MultiNiftiMasker\n",
    "from nilearn.plotting import plot_stat_map, plot_prob_atlas\n",
    "from sklearn.externals.joblib import Memory, load\n",
    "import matplotlib.pyplot as plt\n",
    "\n",
    "import numpy as np\n",
    "\n",
    "\n",
    "def get_model(artifact_dir, scale_importance, dictionary_penalty,\n",
    "              n_components_list):\n",
    "    model = load_model(join(artifact_dir, 'model.keras'),\n",
    "                       custom_objects={'HierarchicalLabelMasking':\n",
    "                                           HierarchicalLabelMasking,\n",
    "                                       'PartialSoftmax': PartialSoftmax})\n",
    "    memory = Memory(cachedir=get_cache_dirs()[0], verbose=2)\n",
    "    print('Fetch data')\n",
    "    mask = join('/home/arthur/data/modl_data/mask_img.nii.gz')\n",
    "    masker = MultiNiftiMasker(mask_img=mask, smoothing_fwhm=0).fit()\n",
    "    print('Retrieve components')\n",
    "    bases = memory.cache(retrieve_components)(dictionary_penalty, masker,\n",
    "                                              n_components_list)\n",
    "    for i, basis in enumerate(bases):\n",
    "        S = np.std(basis, axis=1)\n",
    "        S[S == 0] = 0\n",
    "        basis = basis / S[:, np.newaxis]\n",
    "        bases[i] = basis\n",
    "    reconstructer = Reconstructer(bases=bases,\n",
    "                                  scale_importance=scale_importance)\n",
    "    weights = model.get_layer('latent').get_weights()[0].T\n",
    "    imgs = reconstructer.fit_transform(weights)\n",
    "    return masker, imgs, model"
   ]
  },
  {
   "cell_type": "code",
   "execution_count": 8,
   "metadata": {},
   "outputs": [
    {
     "name": "stdout",
     "output_type": "stream",
     "text": [
      "Fetch data\nRetrieve components\n[Memory]    0.0s, 0.0min: Loading retrieve_components...\n"
     ]
    }
   ],
   "source": [
    "dictionary_penalty = 1e-4\n",
    "n_components_list = [16, 64, 256]\n",
    "scale_importance = 'sqrt'\n",
    "\n",
    "artifact_dir = join(expanduser('~/data/modl_data'), 'pipeline', 'contrast',\n",
    "                    'prediction_hierarchical', 'good')\n",
    "\n",
    "analysis_dir = join(expanduser('~/data/modl_data'), 'pipeline', 'contrast',\n",
    "                    'prediction_hierarchical', 'analysis')\n",
    "if not os.path.exists(analysis_dir):\n",
    "    os.makedirs(analysis_dir)\n",
    "\n",
    "masker, imgs, model = get_model(artifact_dir, scale_importance,\n",
    "                                dictionary_penalty, n_components_list)\n",
    "\n",
    "np.save(join(analysis_dir, 'imgs'), imgs)\n",
    "components_imgs = masker.inverse_transform(imgs)\n",
    "components_imgs.to_filename(join(analysis_dir, 'components.nii.gz'))\n",
    "\n",
    "imgs /= np.sqrt(np.sum(imgs ** 2, axis=1, keepdims=True))\n",
    "gram = imgs.dot(imgs.T)\n",
    "plt.imshow(gram)\n",
    "plt.colorbar()\n",
    "plt.savefig('gram.pdf')"
   ]
  },
  {
   "cell_type": "code",
   "execution_count": 9,
   "metadata": {},
   "outputs": [],
   "source": [
    "weights, bias = model.get_layer('supervised_depth_1').get_weights()\n",
    "\n",
    "labels = load(join(artifact_dir, 'labels.pkl'))\n",
    "X = load(join(artifact_dir, 'X.pkl'))\n",
    "y = X.index.values\n",
    "y_pred = load(join(artifact_dir, 'y_pred.pkl'))"
   ]
  },
  {
   "cell_type": "code",
   "execution_count": 12,
   "metadata": {
    "collapsed": false
   },
   "outputs": [
    {
     "data": {
      "text/plain": [
       "(27952, 336)"
      ]
     },
     "execution_count": 12,
     "metadata": {},
     "output_type": "execute_result"
    }
   ],
   "source": [
    "X.values.shape"
   ]
  },
  {
   "cell_type": "code",
   "execution_count": 15,
   "metadata": {},
   "outputs": [],
   "source": [
    "weights = model.get_layer('latent').get_weights()[0].T"
   ]
  },
  {
   "cell_type": "code",
   "execution_count": 18,
   "metadata": {},
   "outputs": [],
   "source": [
    "X_proj = X.values.dot(weights.T)"
   ]
  },
  {
   "cell_type": "code",
   "execution_count": 19,
   "metadata": {},
   "outputs": [
    {
     "data": {
      "text/plain": [
       "array([[-0.47945663, -0.08212911,  0.89589018, ...,  1.22268927,\n        -1.26734388,  2.94306493],\n       [-1.95100904,  0.95480269, -0.73394781, ...,  0.15132065,\n        -0.49374482,  1.26228547],\n       [-1.73693407,  0.08936246, -0.75502312, ...,  0.12293071,\n        -0.3658635 ,  0.85336179],\n       ..., \n       [-1.58841646,  2.36796784, -1.1477381 , ..., -2.6932292 ,\n         4.13038826,  0.9163034 ],\n       [-3.31059718,  2.35946369, -5.35217428, ..., -2.19593811,\n         2.41828012, -3.31701946],\n       [-2.54856086,  0.41908887, -3.8307519 , ..., -3.22793317,\n         2.60602593, -3.0742774 ]], dtype=float32)"
      ]
     },
     "execution_count": 19,
     "metadata": {},
     "output_type": "execute_result"
    }
   ],
   "source": [
    "X_proj"
   ]
  },
  {
   "cell_type": "code",
   "execution_count": 22,
   "metadata": {},
   "outputs": [],
   "source": [
    "y_pred = y_pred[1]"
   ]
  },
  {
   "cell_type": "code",
   "execution_count": 27,
   "metadata": {},
   "outputs": [],
   "source": [
    "from sklearn.cross_decomposition import CCA"
   ]
  },
  {
   "cell_type": "code",
   "execution_count": 33,
   "metadata": {},
   "outputs": [],
   "source": [
    "cca = CCA(n_components=25)"
   ]
  },
  {
   "cell_type": "code",
   "execution_count": 34,
   "metadata": {},
   "outputs": [
    {
     "data": {
      "text/plain": [
       "CCA(copy=True, max_iter=500, n_components=25, scale=True, tol=1e-06)"
      ]
     },
     "execution_count": 34,
     "metadata": {},
     "output_type": "execute_result"
    }
   ],
   "source": [
    "cca.fit(X_proj, y_pred)"
   ]
  },
  {
   "cell_type": "code",
   "execution_count": 32,
   "metadata": {},
   "outputs": [
    {
     "data": {
      "text/plain": [
       "(25, 97)"
      ]
     },
     "execution_count": 32,
     "metadata": {},
     "output_type": "execute_result"
    }
   ],
   "source": [
    "cca.coef_.shape"
   ]
  },
  {
   "cell_type": "code",
   "execution_count": 41,
   "metadata": {},
   "outputs": [
    {
     "data": {
      "text/plain": [
       "(25, 25)"
      ]
     },
     "execution_count": 41,
     "metadata": {},
     "output_type": "execute_result"
    }
   ],
   "source": [
    "cca.x_rotations_.shape"
   ]
  },
  {
   "cell_type": "code",
   "execution_count": 42,
   "metadata": {},
   "outputs": [
    {
     "data": {
      "text/plain": [
       "(97, 25)"
      ]
     },
     "execution_count": 42,
     "metadata": {},
     "output_type": "execute_result"
    }
   ],
   "source": [
    "cca.y_rotations_.shape"
   ]
  },
  {
   "cell_type": "code",
   "execution_count": 44,
   "metadata": {},
   "outputs": [
    {
     "data": {
      "text/plain": [
       "array([  1.33135021e-06,   1.94834300e-06,   1.46288861e-06,\n         1.23994699e-06,   1.25514912e-06,   1.39589840e-06,\n        -1.56606408e-06,  -2.84905245e-07,   8.57217841e-07,\n        -6.99229154e-07,   1.32039003e-07,  -1.28426759e-06,\n        -2.86942260e-07,   2.42201646e-07,   2.97577410e-07,\n         6.02436118e-07,  -1.29402590e-06,   9.54423650e-07,\n         9.05203240e-07,   1.69977510e-06,   7.35574273e-07,\n        -3.05512752e-07,  -1.69780240e-06,  -1.04857563e-08,\n        -1.48296924e-06,   9.94358609e-08,  -1.62118588e-06,\n        -1.95220812e-06,  -8.25235567e-07,  -9.66353833e-07,\n         3.29447266e-07,  -1.12688900e-07,  -2.60468409e-07,\n        -5.51104425e-07,  -5.14304428e-07,  -2.65501600e-07,\n         1.83463432e-06,   1.79866274e-07,  -4.74715456e-07,\n        -7.61601739e-08,  -1.61851720e-08,   1.85837969e-07,\n         2.47650186e-07,  -2.28810605e-07,   1.84374468e-07,\n        -1.80205860e-08,   9.85837278e-09,   1.08157698e-06,\n         5.72863799e-08,  -5.72291440e-07,  -1.31153149e-06,\n         1.40115802e-06,   1.06898480e-06,  -3.75057251e-06,\n        -6.00645086e-06,  -1.60381895e-06,  -4.28336895e-06,\n        -5.99667516e-06,  -4.97571122e-06,  -3.80575193e-06,\n         4.79063507e-06,   6.79791447e-06,  -6.12678785e-07,\n        -6.19481457e-07,   3.34806153e-06,   3.24301667e-06,\n         3.76458105e-06,   2.62457393e-06,   1.04996207e-06,\n         2.30019157e-07,   2.37836083e-06,   2.96986199e-06,\n         3.56791512e-07,   9.86349227e-07,   2.43179651e-07,\n        -9.63723012e-07,   4.24750157e-07,  -6.25549235e-07,\n        -3.63582070e-07,  -6.27139765e-07,   1.97720806e-07,\n         2.79704948e-06,   6.53599547e-07,   2.28405528e-06,\n         2.52056462e-06,   8.68009836e-07,   7.87919855e-07,\n        -4.30518143e-07,  -7.40902163e-07,  -5.87025414e-07,\n        -8.88299292e-07,  -3.37964964e-06,   2.58138172e-06,\n        -1.77152914e-07,  -3.37351852e-07,  -2.01721909e-07,\n         6.41124552e-08])"
      ]
     },
     "execution_count": 44,
     "metadata": {},
     "output_type": "execute_result"
    }
   ],
   "source": [
    "cca.y_rotations_.T[0]"
   ]
  },
  {
   "cell_type": "code",
   "execution_count": null,
   "metadata": {},
   "outputs": [],
   "source": [
    ""
   ]
  }
 ],
 "metadata": {
  "kernelspec": {
   "display_name": "Python 2",
   "language": "python",
   "name": "python2"
  },
  "language_info": {
   "codemirror_mode": {
    "name": "ipython",
    "version": 2.0
   },
   "file_extension": ".py",
   "mimetype": "text/x-python",
   "name": "python",
   "nbconvert_exporter": "python",
   "pygments_lexer": "ipython2",
   "version": "2.7.6"
  }
 },
 "nbformat": 4,
 "nbformat_minor": 0
}