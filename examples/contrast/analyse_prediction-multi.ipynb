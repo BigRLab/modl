{
 "cells": [
  {
   "cell_type": "code",
   "execution_count": 3,
   "metadata": {
    "collapsed": false
   },
   "outputs": [
    {
     "name": "stdout",
     "output_type": "stream",
     "text": [
      "/storage/store/work/amensch/data/modl_data/pipeline/contrast/prediction/722\n"
     ]
    }
   ],
   "source": [
    "cd ~/data/modl_data/pipeline/contrast/prediction/722/"
   ]
  },
  {
   "cell_type": "code",
   "execution_count": 4,
   "metadata": {
    "collapsed": true
   },
   "outputs": [],
   "source": [
    "from sklearn.externals.joblib import load\n",
    "from sklearn.pipeline import Pipeline\n",
    "import pandas as pd\n",
    "\n",
    "from nilearn.input_data import MultiNiftiMasker\n",
    "from nilearn.datasets import load_mni152_brain_mask\n",
    "from modl.datasets.hcp import fetch_hcp"
   ]
  },
  {
   "cell_type": "code",
   "execution_count": 5,
   "metadata": {
    "collapsed": true
   },
   "outputs": [],
   "source": [
    "def plot_confusion_matrix(conf_arr, labels):\n",
    "\n",
    "    fig = plt.figure(figsize=(8, 8))\n",
    "    plt.clf()\n",
    "    ax = fig.add_subplot(111)\n",
    "    ax.set_aspect(1)\n",
    "    \n",
    "    S = conf_arr.sum(axis=0)\n",
    "    S[S == 0] = 1\n",
    "    conf_arr = conf_arr / S\n",
    "    \n",
    "    res = ax.imshow(conf_arr,\n",
    "                interpolation='nearest')\n",
    "\n",
    "    width, height = conf_arr.shape\n",
    "\n",
    "    plt.xticks(range(width))\n",
    "    plt.yticks(range(height))\n",
    "    ax.set_yticklabels(labels)\n",
    "    ax.set_xticklabels(labels, rotation=90)\n",
    "    fig.colorbar(res)\n",
    "    \n",
    "def plot_gram_matrix(G, labels):\n",
    "    fig = plt.figure(figsize=(8, 8))\n",
    "    plt.clf()\n",
    "    ax = fig.add_subplot(111)\n",
    "    ax.set_aspect(1)\n",
    "    res = ax.imshow(G,\n",
    "                interpolation='nearest')\n",
    "\n",
    "    width, height = G.shape\n",
    "\n",
    "    plt.xticks(range(width))\n",
    "    plt.yticks(range(height))\n",
    "    ax.set_yticklabels(labels)\n",
    "    ax.set_xticklabels(labels, rotation=90)\n",
    "    fig.colorbar(res)"
   ]
  },
  {
   "cell_type": "code",
   "execution_count": 6,
   "metadata": {
    "collapsed": false
   },
   "outputs": [
    {
     "name": "stderr",
     "output_type": "stream",
     "text": [
      "Using TensorFlow backend.\n",
      "/home/parietal/amensch/opt/miniconda3/lib/python3.6/site-packages/keras/models.py:150: UserWarning: No training configuration found in save file: the model was *not* compiled. Compile it manually.\n",
      "  warnings.warn('No training configuration found in save file: '\n"
     ]
    }
   ],
   "source": [
    "estimator = load('estimator.pkl')\n",
    "label_encoder = load('label_encoder.pkl')\n",
    "prediction = pd.read_csv('prediction.csv')\n",
    "\n",
    "pipeline = Pipeline(estimator.steps[:-1])"
   ]
  },
  {
   "cell_type": "code",
   "execution_count": 7,
   "metadata": {
    "collapsed": false
   },
   "outputs": [
    {
     "ename": "ValueError",
     "evalue": "not enough values to unpack (expected 2, got 1)",
     "output_type": "error",
     "traceback": [
      "\u001b[0;31m---------------------------------------------------------------------------\u001b[0m",
      "\u001b[0;31mValueError\u001b[0m                                Traceback (most recent call last)",
      "\u001b[0;32m<ipython-input-7-a50512580d2d>\u001b[0m in \u001b[0;36m<module>\u001b[0;34m()\u001b[0m\n\u001b[1;32m      6\u001b[0m \u001b[0mw0\u001b[0m \u001b[0;34m=\u001b[0m \u001b[0;34m[\u001b[0m\u001b[0;34m]\u001b[0m\u001b[0;34m\u001b[0m\u001b[0m\n\u001b[1;32m      7\u001b[0m \u001b[0;32mfor\u001b[0m \u001b[0mlayer\u001b[0m \u001b[0;32min\u001b[0m \u001b[0msupervised_layers\u001b[0m\u001b[0;34m:\u001b[0m\u001b[0;34m\u001b[0m\u001b[0m\n\u001b[0;32m----> 8\u001b[0;31m     \u001b[0mthis_w0\u001b[0m\u001b[0;34m,\u001b[0m \u001b[0mthis_b0\u001b[0m \u001b[0;34m=\u001b[0m \u001b[0mlayer\u001b[0m\u001b[0;34m.\u001b[0m\u001b[0mget_weights\u001b[0m\u001b[0;34m(\u001b[0m\u001b[0;34m)\u001b[0m\u001b[0;34m\u001b[0m\u001b[0m\n\u001b[0m\u001b[1;32m      9\u001b[0m     \u001b[0mw0\u001b[0m\u001b[0;34m.\u001b[0m\u001b[0mappend\u001b[0m\u001b[0;34m(\u001b[0m\u001b[0mthis_w0\u001b[0m\u001b[0;34m)\u001b[0m\u001b[0;34m\u001b[0m\u001b[0m\n\u001b[1;32m     10\u001b[0m \u001b[0mw0\u001b[0m \u001b[0;34m=\u001b[0m \u001b[0mnp\u001b[0m\u001b[0;34m.\u001b[0m\u001b[0mconcatenate\u001b[0m\u001b[0;34m(\u001b[0m\u001b[0mw0\u001b[0m\u001b[0;34m,\u001b[0m \u001b[0maxis\u001b[0m\u001b[0;34m=\u001b[0m\u001b[0;36m1\u001b[0m\u001b[0;34m)\u001b[0m\u001b[0;34m\u001b[0m\u001b[0m\n",
      "\u001b[0;31mValueError\u001b[0m: not enough values to unpack (expected 2, got 1)"
     ]
    }
   ],
   "source": [
    "model = estimator.steps[-1][1].stacked_model_\n",
    "\n",
    "supervised_layers =  model.layers_by_depth[2]\n",
    "embedding_layer =  model.layers_by_depth[3][0]\n",
    "\n",
    "w0 = []\n",
    "for layer in supervised_layers:\n",
    "    this_w0, this_b0 = layer.get_weights()\n",
    "    w0.append(this_w0)\n",
    "w0 = np.concatenate(w0, axis=1)\n",
    "w1 = embedding_layer.get_weights()[0]\n",
    "\n",
    "coef = w1.dot(w0).T\n",
    "intercept = b0"
   ]
  },
  {
   "cell_type": "code",
   "execution_count": 8,
   "metadata": {
    "collapsed": false
   },
   "outputs": [
    {
     "ename": "NameError",
     "evalue": "name 'coef' is not defined",
     "output_type": "error",
     "traceback": [
      "\u001b[0;31m---------------------------------------------------------------------------\u001b[0m",
      "\u001b[0;31mNameError\u001b[0m                                 Traceback (most recent call last)",
      "\u001b[0;32m<ipython-input-8-89a3ef9b8f50>\u001b[0m in \u001b[0;36m<module>\u001b[0;34m()\u001b[0m\n\u001b[0;32m----> 1\u001b[0;31m \u001b[0mprint\u001b[0m\u001b[0;34m(\u001b[0m\u001b[0;34m'Sparsity'\u001b[0m\u001b[0;34m,\u001b[0m \u001b[0;34m(\u001b[0m\u001b[0mcoef\u001b[0m \u001b[0;34m==\u001b[0m \u001b[0;36m0\u001b[0m\u001b[0;34m)\u001b[0m\u001b[0;34m.\u001b[0m\u001b[0msum\u001b[0m\u001b[0;34m(\u001b[0m\u001b[0;34m)\u001b[0m \u001b[0;34m/\u001b[0m \u001b[0mcoef\u001b[0m\u001b[0;34m.\u001b[0m\u001b[0msize\u001b[0m\u001b[0;34m)\u001b[0m\u001b[0;34m\u001b[0m\u001b[0m\n\u001b[0m",
      "\u001b[0;31mNameError\u001b[0m: name 'coef' is not defined"
     ]
    }
   ],
   "source": [
    "print('Sparsity', (coef == 0).sum() / coef.size)"
   ]
  },
  {
   "cell_type": "code",
   "execution_count": 9,
   "metadata": {
    "collapsed": false
   },
   "outputs": [
    {
     "ename": "NameError",
     "evalue": "name 'coef' is not defined",
     "output_type": "error",
     "traceback": [
      "\u001b[0;31m---------------------------------------------------------------------------\u001b[0m",
      "\u001b[0;31mNameError\u001b[0m                                 Traceback (most recent call last)",
      "\u001b[0;32m<ipython-input-9-615eb11f6436>\u001b[0m in \u001b[0;36m<module>\u001b[0;34m()\u001b[0m\n\u001b[1;32m      1\u001b[0m \u001b[0mpipeline\u001b[0m\u001b[0;34m.\u001b[0m\u001b[0mnamed_steps\u001b[0m\u001b[0;34m[\u001b[0m\u001b[0;34m'feature_importance'\u001b[0m\u001b[0;34m]\u001b[0m\u001b[0;34m.\u001b[0m\u001b[0mfeature_importance\u001b[0m\u001b[0;34m[\u001b[0m\u001b[0;34m:\u001b[0m\u001b[0;34m]\u001b[0m \u001b[0;34m=\u001b[0m \u001b[0;36m1\u001b[0m\u001b[0;34m\u001b[0m\u001b[0m\n\u001b[0;32m----> 2\u001b[0;31m \u001b[0mmaps\u001b[0m \u001b[0;34m=\u001b[0m \u001b[0mpipeline\u001b[0m\u001b[0;34m.\u001b[0m\u001b[0minverse_transform\u001b[0m\u001b[0;34m(\u001b[0m\u001b[0mcoef\u001b[0m\u001b[0;34m)\u001b[0m\u001b[0;34m\u001b[0m\u001b[0m\n\u001b[0m\u001b[1;32m      3\u001b[0m \u001b[0;34m\u001b[0m\u001b[0m\n\u001b[1;32m      4\u001b[0m \u001b[0mmask\u001b[0m \u001b[0;34m=\u001b[0m \u001b[0mfetch_hcp\u001b[0m\u001b[0;34m(\u001b[0m\u001b[0mn_subjects\u001b[0m\u001b[0;34m=\u001b[0m\u001b[0;36m1\u001b[0m\u001b[0;34m)\u001b[0m\u001b[0;34m.\u001b[0m\u001b[0mmask\u001b[0m\u001b[0;34m\u001b[0m\u001b[0m\n\u001b[1;32m      5\u001b[0m \u001b[0mmasker\u001b[0m \u001b[0;34m=\u001b[0m \u001b[0mMultiNiftiMasker\u001b[0m\u001b[0;34m(\u001b[0m\u001b[0mmask_img\u001b[0m\u001b[0;34m=\u001b[0m\u001b[0mmask\u001b[0m\u001b[0;34m)\u001b[0m\u001b[0;34m.\u001b[0m\u001b[0mfit\u001b[0m\u001b[0;34m(\u001b[0m\u001b[0;34m)\u001b[0m\u001b[0;34m\u001b[0m\u001b[0m\n",
      "\u001b[0;31mNameError\u001b[0m: name 'coef' is not defined"
     ]
    }
   ],
   "source": [
    "pipeline.named_steps['feature_importance'].feature_importance[:] = 1\n",
    "maps = pipeline.inverse_transform(coef)\n",
    "\n",
    "mask = fetch_hcp(n_subjects=1).mask\n",
    "masker = MultiNiftiMasker(mask_img=mask).fit()\n",
    "imgs = masker.inverse_transform(maps)\n",
    "\n",
    "print('Shape', imgs.shape)"
   ]
  },
  {
   "cell_type": "code",
   "execution_count": 10,
   "metadata": {
    "collapsed": false
   },
   "outputs": [],
   "source": [
    "match = prediction['true_label'] == prediction['predicted_label']\n",
    "prediction = prediction.assign(match=match)\n",
    "prediction.set_index(['fold', 'dataset', 'subject', 'task', 'contrast', 'direction'], inplace=True)\n",
    "prediction.sort_index(inplace=True)\n",
    "datasets = prediction.index.get_level_values('dataset').unique().values"
   ]
  },
  {
   "cell_type": "code",
   "execution_count": 11,
   "metadata": {
    "collapsed": false
   },
   "outputs": [
    {
     "data": {
      "text/plain": [
       "array(['hcp'], dtype=object)"
      ]
     },
     "execution_count": 11,
     "metadata": {},
     "output_type": "execute_result"
    }
   ],
   "source": [
    "datasets"
   ]
  },
  {
   "cell_type": "code",
   "execution_count": 12,
   "metadata": {
    "collapsed": false,
    "scrolled": true
   },
   "outputs": [],
   "source": [
    "labels_list = []\n",
    "tasks_list = []\n",
    "for dataset in datasets:\n",
    "    first_subject = prediction.loc['test', dataset].index.get_level_values('subject')[0]\n",
    "    data = prediction.loc[('test', dataset, first_subject)]\n",
    "    labels = data.index.get_level_values('contrast').values\n",
    "    tasks = data.index.get_level_values('task').values\n",
    "    labels_list.append(labels)\n",
    "    tasks_list.append(tasks)\n",
    "labels = np.concatenate(labels_list)\n",
    "tasks = np.concatenate(tasks_list)"
   ]
  },
  {
   "cell_type": "code",
   "execution_count": 13,
   "metadata": {
    "collapsed": true
   },
   "outputs": [],
   "source": [
    "from sklearn.metrics import confusion_matrix"
   ]
  },
  {
   "cell_type": "code",
   "execution_count": 14,
   "metadata": {
    "collapsed": false
   },
   "outputs": [
    {
     "data": {
      "text/html": [
       "<div>\n",
       "<table border=\"1\" class=\"dataframe\">\n",
       "  <thead>\n",
       "    <tr style=\"text-align: right;\">\n",
       "      <th></th>\n",
       "      <th></th>\n",
       "      <th></th>\n",
       "      <th></th>\n",
       "      <th></th>\n",
       "      <th>predicted_label</th>\n",
       "      <th>true_label</th>\n",
       "      <th>match</th>\n",
       "    </tr>\n",
       "    <tr>\n",
       "      <th>dataset</th>\n",
       "      <th>subject</th>\n",
       "      <th>task</th>\n",
       "      <th>contrast</th>\n",
       "      <th>direction</th>\n",
       "      <th></th>\n",
       "      <th></th>\n",
       "      <th></th>\n",
       "    </tr>\n",
       "  </thead>\n",
       "  <tbody>\n",
       "    <tr>\n",
       "      <th rowspan=\"61\" valign=\"top\">hcp</th>\n",
       "      <th rowspan=\"23\" valign=\"top\">100206</th>\n",
       "      <th rowspan=\"2\" valign=\"top\">EMOTION</th>\n",
       "      <th>FACES</th>\n",
       "      <th>level2</th>\n",
       "      <td>MATCH</td>\n",
       "      <td>FACES</td>\n",
       "      <td>False</td>\n",
       "    </tr>\n",
       "    <tr>\n",
       "      <th>SHAPES</th>\n",
       "      <th>level2</th>\n",
       "      <td>MATCH</td>\n",
       "      <td>SHAPES</td>\n",
       "      <td>False</td>\n",
       "    </tr>\n",
       "    <tr>\n",
       "      <th rowspan=\"2\" valign=\"top\">GAMBLING</th>\n",
       "      <th>PUNISH</th>\n",
       "      <th>level2</th>\n",
       "      <td>PUNISH</td>\n",
       "      <td>PUNISH</td>\n",
       "      <td>True</td>\n",
       "    </tr>\n",
       "    <tr>\n",
       "      <th>REWARD</th>\n",
       "      <th>level2</th>\n",
       "      <td>PUNISH</td>\n",
       "      <td>REWARD</td>\n",
       "      <td>False</td>\n",
       "    </tr>\n",
       "    <tr>\n",
       "      <th rowspan=\"2\" valign=\"top\">LANGUAGE</th>\n",
       "      <th>MATH</th>\n",
       "      <th>level2</th>\n",
       "      <td>0BK_BODY</td>\n",
       "      <td>MATH</td>\n",
       "      <td>False</td>\n",
       "    </tr>\n",
       "    <tr>\n",
       "      <th>STORY</th>\n",
       "      <th>level2</th>\n",
       "      <td>0BK_BODY</td>\n",
       "      <td>STORY</td>\n",
       "      <td>False</td>\n",
       "    </tr>\n",
       "    <tr>\n",
       "      <th rowspan=\"5\" valign=\"top\">MOTOR</th>\n",
       "      <th>CUE</th>\n",
       "      <th>level2</th>\n",
       "      <td>PUNISH</td>\n",
       "      <td>CUE</td>\n",
       "      <td>False</td>\n",
       "    </tr>\n",
       "    <tr>\n",
       "      <th>LF</th>\n",
       "      <th>level2</th>\n",
       "      <td>MATCH</td>\n",
       "      <td>LF</td>\n",
       "      <td>False</td>\n",
       "    </tr>\n",
       "    <tr>\n",
       "      <th>LH</th>\n",
       "      <th>level2</th>\n",
       "      <td>0BK_PLACE</td>\n",
       "      <td>LH</td>\n",
       "      <td>False</td>\n",
       "    </tr>\n",
       "    <tr>\n",
       "      <th>RF</th>\n",
       "      <th>level2</th>\n",
       "      <td>2BK_TOOL</td>\n",
       "      <td>RF</td>\n",
       "      <td>False</td>\n",
       "    </tr>\n",
       "    <tr>\n",
       "      <th>RH</th>\n",
       "      <th>level2</th>\n",
       "      <td>RANDOM</td>\n",
       "      <td>RH</td>\n",
       "      <td>False</td>\n",
       "    </tr>\n",
       "    <tr>\n",
       "      <th rowspan=\"2\" valign=\"top\">RELATIONAL</th>\n",
       "      <th>MATCH</th>\n",
       "      <th>level2</th>\n",
       "      <td>PUNISH</td>\n",
       "      <td>MATCH</td>\n",
       "      <td>False</td>\n",
       "    </tr>\n",
       "    <tr>\n",
       "      <th>REL</th>\n",
       "      <th>level2</th>\n",
       "      <td>PUNISH</td>\n",
       "      <td>REL</td>\n",
       "      <td>False</td>\n",
       "    </tr>\n",
       "    <tr>\n",
       "      <th rowspan=\"2\" valign=\"top\">SOCIAL</th>\n",
       "      <th>RANDOM</th>\n",
       "      <th>level2</th>\n",
       "      <td>STORY</td>\n",
       "      <td>RANDOM</td>\n",
       "      <td>False</td>\n",
       "    </tr>\n",
       "    <tr>\n",
       "      <th>TOM</th>\n",
       "      <th>level2</th>\n",
       "      <td>STORY</td>\n",
       "      <td>TOM</td>\n",
       "      <td>False</td>\n",
       "    </tr>\n",
       "    <tr>\n",
       "      <th rowspan=\"8\" valign=\"top\">WM</th>\n",
       "      <th>0BK_BODY</th>\n",
       "      <th>level2</th>\n",
       "      <td>0BK_BODY</td>\n",
       "      <td>0BK_BODY</td>\n",
       "      <td>True</td>\n",
       "    </tr>\n",
       "    <tr>\n",
       "      <th>0BK_FACE</th>\n",
       "      <th>level2</th>\n",
       "      <td>STORY</td>\n",
       "      <td>0BK_FACE</td>\n",
       "      <td>False</td>\n",
       "    </tr>\n",
       "    <tr>\n",
       "      <th>0BK_PLACE</th>\n",
       "      <th>level2</th>\n",
       "      <td>STORY</td>\n",
       "      <td>0BK_PLACE</td>\n",
       "      <td>False</td>\n",
       "    </tr>\n",
       "    <tr>\n",
       "      <th>0BK_TOOL</th>\n",
       "      <th>level2</th>\n",
       "      <td>0BK_BODY</td>\n",
       "      <td>0BK_TOOL</td>\n",
       "      <td>False</td>\n",
       "    </tr>\n",
       "    <tr>\n",
       "      <th>2BK_BODY</th>\n",
       "      <th>level2</th>\n",
       "      <td>PUNISH</td>\n",
       "      <td>2BK_BODY</td>\n",
       "      <td>False</td>\n",
       "    </tr>\n",
       "    <tr>\n",
       "      <th>2BK_FACE</th>\n",
       "      <th>level2</th>\n",
       "      <td>PUNISH</td>\n",
       "      <td>2BK_FACE</td>\n",
       "      <td>False</td>\n",
       "    </tr>\n",
       "    <tr>\n",
       "      <th>2BK_PLACE</th>\n",
       "      <th>level2</th>\n",
       "      <td>STORY</td>\n",
       "      <td>2BK_PLACE</td>\n",
       "      <td>False</td>\n",
       "    </tr>\n",
       "    <tr>\n",
       "      <th>2BK_TOOL</th>\n",
       "      <th>level2</th>\n",
       "      <td>STORY</td>\n",
       "      <td>2BK_TOOL</td>\n",
       "      <td>False</td>\n",
       "    </tr>\n",
       "    <tr>\n",
       "      <th rowspan=\"7\" valign=\"top\">100307</th>\n",
       "      <th rowspan=\"2\" valign=\"top\">EMOTION</th>\n",
       "      <th>FACES</th>\n",
       "      <th>level2</th>\n",
       "      <td>0BK_PLACE</td>\n",
       "      <td>FACES</td>\n",
       "      <td>False</td>\n",
       "    </tr>\n",
       "    <tr>\n",
       "      <th>SHAPES</th>\n",
       "      <th>level2</th>\n",
       "      <td>0BK_PLACE</td>\n",
       "      <td>SHAPES</td>\n",
       "      <td>False</td>\n",
       "    </tr>\n",
       "    <tr>\n",
       "      <th rowspan=\"2\" valign=\"top\">GAMBLING</th>\n",
       "      <th>PUNISH</th>\n",
       "      <th>level2</th>\n",
       "      <td>2BK_TOOL</td>\n",
       "      <td>PUNISH</td>\n",
       "      <td>False</td>\n",
       "    </tr>\n",
       "    <tr>\n",
       "      <th>REWARD</th>\n",
       "      <th>level2</th>\n",
       "      <td>RF</td>\n",
       "      <td>REWARD</td>\n",
       "      <td>False</td>\n",
       "    </tr>\n",
       "    <tr>\n",
       "      <th rowspan=\"2\" valign=\"top\">LANGUAGE</th>\n",
       "      <th>MATH</th>\n",
       "      <th>level2</th>\n",
       "      <td>MATH</td>\n",
       "      <td>MATH</td>\n",
       "      <td>True</td>\n",
       "    </tr>\n",
       "    <tr>\n",
       "      <th>STORY</th>\n",
       "      <th>level2</th>\n",
       "      <td>0BK_PLACE</td>\n",
       "      <td>STORY</td>\n",
       "      <td>False</td>\n",
       "    </tr>\n",
       "    <tr>\n",
       "      <th>MOTOR</th>\n",
       "      <th>CUE</th>\n",
       "      <th>level2</th>\n",
       "      <td>STORY</td>\n",
       "      <td>CUE</td>\n",
       "      <td>False</td>\n",
       "    </tr>\n",
       "    <tr>\n",
       "      <th>100307</th>\n",
       "      <th>MOTOR</th>\n",
       "      <th>CUE</th>\n",
       "      <th>...</th>\n",
       "      <td>...</td>\n",
       "      <td>...</td>\n",
       "      <td>...</td>\n",
       "    </tr>\n",
       "    <tr>\n",
       "      <th rowspan=\"7\" valign=\"top\">107321</th>\n",
       "      <th rowspan=\"7\" valign=\"top\">WM</th>\n",
       "      <th>0BK_FACE</th>\n",
       "      <th>level2</th>\n",
       "      <td>0BK_PLACE</td>\n",
       "      <td>0BK_FACE</td>\n",
       "      <td>False</td>\n",
       "    </tr>\n",
       "    <tr>\n",
       "      <th>0BK_PLACE</th>\n",
       "      <th>level2</th>\n",
       "      <td>CUE</td>\n",
       "      <td>0BK_PLACE</td>\n",
       "      <td>False</td>\n",
       "    </tr>\n",
       "    <tr>\n",
       "      <th>0BK_TOOL</th>\n",
       "      <th>level2</th>\n",
       "      <td>CUE</td>\n",
       "      <td>0BK_TOOL</td>\n",
       "      <td>False</td>\n",
       "    </tr>\n",
       "    <tr>\n",
       "      <th>2BK_BODY</th>\n",
       "      <th>level2</th>\n",
       "      <td>TOM</td>\n",
       "      <td>2BK_BODY</td>\n",
       "      <td>False</td>\n",
       "    </tr>\n",
       "    <tr>\n",
       "      <th>2BK_FACE</th>\n",
       "      <th>level2</th>\n",
       "      <td>CUE</td>\n",
       "      <td>2BK_FACE</td>\n",
       "      <td>False</td>\n",
       "    </tr>\n",
       "    <tr>\n",
       "      <th>2BK_PLACE</th>\n",
       "      <th>level2</th>\n",
       "      <td>MATCH</td>\n",
       "      <td>2BK_PLACE</td>\n",
       "      <td>False</td>\n",
       "    </tr>\n",
       "    <tr>\n",
       "      <th>2BK_TOOL</th>\n",
       "      <th>level2</th>\n",
       "      <td>CUE</td>\n",
       "      <td>2BK_TOOL</td>\n",
       "      <td>False</td>\n",
       "    </tr>\n",
       "    <tr>\n",
       "      <th rowspan=\"23\" valign=\"top\">107422</th>\n",
       "      <th rowspan=\"2\" valign=\"top\">EMOTION</th>\n",
       "      <th>FACES</th>\n",
       "      <th>level2</th>\n",
       "      <td>2BK_BODY</td>\n",
       "      <td>FACES</td>\n",
       "      <td>False</td>\n",
       "    </tr>\n",
       "    <tr>\n",
       "      <th>SHAPES</th>\n",
       "      <th>level2</th>\n",
       "      <td>2BK_BODY</td>\n",
       "      <td>SHAPES</td>\n",
       "      <td>False</td>\n",
       "    </tr>\n",
       "    <tr>\n",
       "      <th rowspan=\"2\" valign=\"top\">GAMBLING</th>\n",
       "      <th>PUNISH</th>\n",
       "      <th>level2</th>\n",
       "      <td>MATH</td>\n",
       "      <td>PUNISH</td>\n",
       "      <td>False</td>\n",
       "    </tr>\n",
       "    <tr>\n",
       "      <th>REWARD</th>\n",
       "      <th>level2</th>\n",
       "      <td>0BK_TOOL</td>\n",
       "      <td>REWARD</td>\n",
       "      <td>False</td>\n",
       "    </tr>\n",
       "    <tr>\n",
       "      <th rowspan=\"2\" valign=\"top\">LANGUAGE</th>\n",
       "      <th>MATH</th>\n",
       "      <th>level2</th>\n",
       "      <td>LF</td>\n",
       "      <td>MATH</td>\n",
       "      <td>False</td>\n",
       "    </tr>\n",
       "    <tr>\n",
       "      <th>STORY</th>\n",
       "      <th>level2</th>\n",
       "      <td>LF</td>\n",
       "      <td>STORY</td>\n",
       "      <td>False</td>\n",
       "    </tr>\n",
       "    <tr>\n",
       "      <th rowspan=\"5\" valign=\"top\">MOTOR</th>\n",
       "      <th>CUE</th>\n",
       "      <th>level2</th>\n",
       "      <td>LH</td>\n",
       "      <td>CUE</td>\n",
       "      <td>False</td>\n",
       "    </tr>\n",
       "    <tr>\n",
       "      <th>LF</th>\n",
       "      <th>level2</th>\n",
       "      <td>RH</td>\n",
       "      <td>LF</td>\n",
       "      <td>False</td>\n",
       "    </tr>\n",
       "    <tr>\n",
       "      <th>LH</th>\n",
       "      <th>level2</th>\n",
       "      <td>0BK_PLACE</td>\n",
       "      <td>LH</td>\n",
       "      <td>False</td>\n",
       "    </tr>\n",
       "    <tr>\n",
       "      <th>RF</th>\n",
       "      <th>level2</th>\n",
       "      <td>RANDOM</td>\n",
       "      <td>RF</td>\n",
       "      <td>False</td>\n",
       "    </tr>\n",
       "    <tr>\n",
       "      <th>RH</th>\n",
       "      <th>level2</th>\n",
       "      <td>MATH</td>\n",
       "      <td>RH</td>\n",
       "      <td>False</td>\n",
       "    </tr>\n",
       "    <tr>\n",
       "      <th rowspan=\"2\" valign=\"top\">RELATIONAL</th>\n",
       "      <th>MATCH</th>\n",
       "      <th>level2</th>\n",
       "      <td>RF</td>\n",
       "      <td>MATCH</td>\n",
       "      <td>False</td>\n",
       "    </tr>\n",
       "    <tr>\n",
       "      <th>REL</th>\n",
       "      <th>level2</th>\n",
       "      <td>STORY</td>\n",
       "      <td>REL</td>\n",
       "      <td>False</td>\n",
       "    </tr>\n",
       "    <tr>\n",
       "      <th rowspan=\"2\" valign=\"top\">SOCIAL</th>\n",
       "      <th>RANDOM</th>\n",
       "      <th>level2</th>\n",
       "      <td>MATH</td>\n",
       "      <td>RANDOM</td>\n",
       "      <td>False</td>\n",
       "    </tr>\n",
       "    <tr>\n",
       "      <th>TOM</th>\n",
       "      <th>level2</th>\n",
       "      <td>STORY</td>\n",
       "      <td>TOM</td>\n",
       "      <td>False</td>\n",
       "    </tr>\n",
       "    <tr>\n",
       "      <th rowspan=\"8\" valign=\"top\">WM</th>\n",
       "      <th>0BK_BODY</th>\n",
       "      <th>level2</th>\n",
       "      <td>RF</td>\n",
       "      <td>0BK_BODY</td>\n",
       "      <td>False</td>\n",
       "    </tr>\n",
       "    <tr>\n",
       "      <th>0BK_FACE</th>\n",
       "      <th>level2</th>\n",
       "      <td>2BK_FACE</td>\n",
       "      <td>0BK_FACE</td>\n",
       "      <td>False</td>\n",
       "    </tr>\n",
       "    <tr>\n",
       "      <th>0BK_PLACE</th>\n",
       "      <th>level2</th>\n",
       "      <td>RF</td>\n",
       "      <td>0BK_PLACE</td>\n",
       "      <td>False</td>\n",
       "    </tr>\n",
       "    <tr>\n",
       "      <th>0BK_TOOL</th>\n",
       "      <th>level2</th>\n",
       "      <td>MATH</td>\n",
       "      <td>0BK_TOOL</td>\n",
       "      <td>False</td>\n",
       "    </tr>\n",
       "    <tr>\n",
       "      <th>2BK_BODY</th>\n",
       "      <th>level2</th>\n",
       "      <td>2BK_BODY</td>\n",
       "      <td>2BK_BODY</td>\n",
       "      <td>True</td>\n",
       "    </tr>\n",
       "    <tr>\n",
       "      <th>2BK_FACE</th>\n",
       "      <th>level2</th>\n",
       "      <td>TOM</td>\n",
       "      <td>2BK_FACE</td>\n",
       "      <td>False</td>\n",
       "    </tr>\n",
       "    <tr>\n",
       "      <th>2BK_PLACE</th>\n",
       "      <th>level2</th>\n",
       "      <td>TOM</td>\n",
       "      <td>2BK_PLACE</td>\n",
       "      <td>False</td>\n",
       "    </tr>\n",
       "    <tr>\n",
       "      <th>2BK_TOOL</th>\n",
       "      <th>level2</th>\n",
       "      <td>CUE</td>\n",
       "      <td>2BK_TOOL</td>\n",
       "      <td>False</td>\n",
       "    </tr>\n",
       "  </tbody>\n",
       "</table>\n",
       "<p>621 rows × 3 columns</p>\n",
       "</div>"
      ],
      "text/plain": [
       "                                               predicted_label true_label  \\\n",
       "dataset subject task       contrast  direction                              \n",
       "hcp     100206  EMOTION    FACES     level2              MATCH      FACES   \n",
       "                           SHAPES    level2              MATCH     SHAPES   \n",
       "                GAMBLING   PUNISH    level2             PUNISH     PUNISH   \n",
       "                           REWARD    level2             PUNISH     REWARD   \n",
       "                LANGUAGE   MATH      level2           0BK_BODY       MATH   \n",
       "                           STORY     level2           0BK_BODY      STORY   \n",
       "                MOTOR      CUE       level2             PUNISH        CUE   \n",
       "                           LF        level2              MATCH         LF   \n",
       "                           LH        level2          0BK_PLACE         LH   \n",
       "                           RF        level2           2BK_TOOL         RF   \n",
       "                           RH        level2             RANDOM         RH   \n",
       "                RELATIONAL MATCH     level2             PUNISH      MATCH   \n",
       "                           REL       level2             PUNISH        REL   \n",
       "                SOCIAL     RANDOM    level2              STORY     RANDOM   \n",
       "                           TOM       level2              STORY        TOM   \n",
       "                WM         0BK_BODY  level2           0BK_BODY   0BK_BODY   \n",
       "                           0BK_FACE  level2              STORY   0BK_FACE   \n",
       "                           0BK_PLACE level2              STORY  0BK_PLACE   \n",
       "                           0BK_TOOL  level2           0BK_BODY   0BK_TOOL   \n",
       "                           2BK_BODY  level2             PUNISH   2BK_BODY   \n",
       "                           2BK_FACE  level2             PUNISH   2BK_FACE   \n",
       "                           2BK_PLACE level2              STORY  2BK_PLACE   \n",
       "                           2BK_TOOL  level2              STORY   2BK_TOOL   \n",
       "        100307  EMOTION    FACES     level2          0BK_PLACE      FACES   \n",
       "                           SHAPES    level2          0BK_PLACE     SHAPES   \n",
       "                GAMBLING   PUNISH    level2           2BK_TOOL     PUNISH   \n",
       "                           REWARD    level2                 RF     REWARD   \n",
       "                LANGUAGE   MATH      level2               MATH       MATH   \n",
       "                           STORY     level2          0BK_PLACE      STORY   \n",
       "                MOTOR      CUE       level2              STORY        CUE   \n",
       "...                                                        ...        ...   \n",
       "        107321  WM         0BK_FACE  level2          0BK_PLACE   0BK_FACE   \n",
       "                           0BK_PLACE level2                CUE  0BK_PLACE   \n",
       "                           0BK_TOOL  level2                CUE   0BK_TOOL   \n",
       "                           2BK_BODY  level2                TOM   2BK_BODY   \n",
       "                           2BK_FACE  level2                CUE   2BK_FACE   \n",
       "                           2BK_PLACE level2              MATCH  2BK_PLACE   \n",
       "                           2BK_TOOL  level2                CUE   2BK_TOOL   \n",
       "        107422  EMOTION    FACES     level2           2BK_BODY      FACES   \n",
       "                           SHAPES    level2           2BK_BODY     SHAPES   \n",
       "                GAMBLING   PUNISH    level2               MATH     PUNISH   \n",
       "                           REWARD    level2           0BK_TOOL     REWARD   \n",
       "                LANGUAGE   MATH      level2                 LF       MATH   \n",
       "                           STORY     level2                 LF      STORY   \n",
       "                MOTOR      CUE       level2                 LH        CUE   \n",
       "                           LF        level2                 RH         LF   \n",
       "                           LH        level2          0BK_PLACE         LH   \n",
       "                           RF        level2             RANDOM         RF   \n",
       "                           RH        level2               MATH         RH   \n",
       "                RELATIONAL MATCH     level2                 RF      MATCH   \n",
       "                           REL       level2              STORY        REL   \n",
       "                SOCIAL     RANDOM    level2               MATH     RANDOM   \n",
       "                           TOM       level2              STORY        TOM   \n",
       "                WM         0BK_BODY  level2                 RF   0BK_BODY   \n",
       "                           0BK_FACE  level2           2BK_FACE   0BK_FACE   \n",
       "                           0BK_PLACE level2                 RF  0BK_PLACE   \n",
       "                           0BK_TOOL  level2               MATH   0BK_TOOL   \n",
       "                           2BK_BODY  level2           2BK_BODY   2BK_BODY   \n",
       "                           2BK_FACE  level2                TOM   2BK_FACE   \n",
       "                           2BK_PLACE level2                TOM  2BK_PLACE   \n",
       "                           2BK_TOOL  level2                CUE   2BK_TOOL   \n",
       "\n",
       "                                                match  \n",
       "dataset subject task       contrast  direction         \n",
       "hcp     100206  EMOTION    FACES     level2     False  \n",
       "                           SHAPES    level2     False  \n",
       "                GAMBLING   PUNISH    level2      True  \n",
       "                           REWARD    level2     False  \n",
       "                LANGUAGE   MATH      level2     False  \n",
       "                           STORY     level2     False  \n",
       "                MOTOR      CUE       level2     False  \n",
       "                           LF        level2     False  \n",
       "                           LH        level2     False  \n",
       "                           RF        level2     False  \n",
       "                           RH        level2     False  \n",
       "                RELATIONAL MATCH     level2     False  \n",
       "                           REL       level2     False  \n",
       "                SOCIAL     RANDOM    level2     False  \n",
       "                           TOM       level2     False  \n",
       "                WM         0BK_BODY  level2      True  \n",
       "                           0BK_FACE  level2     False  \n",
       "                           0BK_PLACE level2     False  \n",
       "                           0BK_TOOL  level2     False  \n",
       "                           2BK_BODY  level2     False  \n",
       "                           2BK_FACE  level2     False  \n",
       "                           2BK_PLACE level2     False  \n",
       "                           2BK_TOOL  level2     False  \n",
       "        100307  EMOTION    FACES     level2     False  \n",
       "                           SHAPES    level2     False  \n",
       "                GAMBLING   PUNISH    level2     False  \n",
       "                           REWARD    level2     False  \n",
       "                LANGUAGE   MATH      level2      True  \n",
       "                           STORY     level2     False  \n",
       "                MOTOR      CUE       level2     False  \n",
       "...                                               ...  \n",
       "        107321  WM         0BK_FACE  level2     False  \n",
       "                           0BK_PLACE level2     False  \n",
       "                           0BK_TOOL  level2     False  \n",
       "                           2BK_BODY  level2     False  \n",
       "                           2BK_FACE  level2     False  \n",
       "                           2BK_PLACE level2     False  \n",
       "                           2BK_TOOL  level2     False  \n",
       "        107422  EMOTION    FACES     level2     False  \n",
       "                           SHAPES    level2     False  \n",
       "                GAMBLING   PUNISH    level2     False  \n",
       "                           REWARD    level2     False  \n",
       "                LANGUAGE   MATH      level2     False  \n",
       "                           STORY     level2     False  \n",
       "                MOTOR      CUE       level2     False  \n",
       "                           LF        level2     False  \n",
       "                           LH        level2     False  \n",
       "                           RF        level2     False  \n",
       "                           RH        level2     False  \n",
       "                RELATIONAL MATCH     level2     False  \n",
       "                           REL       level2     False  \n",
       "                SOCIAL     RANDOM    level2     False  \n",
       "                           TOM       level2     False  \n",
       "                WM         0BK_BODY  level2     False  \n",
       "                           0BK_FACE  level2     False  \n",
       "                           0BK_PLACE level2     False  \n",
       "                           0BK_TOOL  level2     False  \n",
       "                           2BK_BODY  level2      True  \n",
       "                           2BK_FACE  level2     False  \n",
       "                           2BK_PLACE level2     False  \n",
       "                           2BK_TOOL  level2     False  \n",
       "\n",
       "[621 rows x 3 columns]"
      ]
     },
     "execution_count": 14,
     "metadata": {},
     "output_type": "execute_result"
    }
   ],
   "source": [
    "prediction.loc['train']"
   ]
  },
  {
   "cell_type": "code",
   "execution_count": 15,
   "metadata": {
    "collapsed": false
   },
   "outputs": [],
   "source": [
    "train_conf = confusion_matrix(prediction.loc['train', 'true_label'],\n",
    "                        prediction.loc['train', 'predicted_label'], labels=labels)\n",
    "test_conf = confusion_matrix(prediction.loc['test', 'true_label'],\n",
    "                        prediction.loc['test', 'predicted_label'], labels=labels)"
   ]
  },
  {
   "cell_type": "code",
   "execution_count": 16,
   "metadata": {
    "collapsed": false,
    "scrolled": false
   },
   "outputs": [],
   "source": [
    "plot_confusion_matrix(train_conf, labels)"
   ]
  },
  {
   "cell_type": "code",
   "execution_count": 36,
   "metadata": {
    "collapsed": false
   },
   "outputs": [
    {
     "data": {
      "text/plain": [
       "array([ 0,  1,  2,  3,  4,  5,  6,  7,  8,  9, 14])"
      ]
     },
     "execution_count": 36,
     "metadata": {},
     "output_type": "execute_result"
    }
   ],
   "source": [
    "np.unique(train_conf)"
   ]
  },
  {
   "cell_type": "code",
   "execution_count": 34,
   "metadata": {
    "collapsed": false,
    "scrolled": false
   },
   "outputs": [
    {
     "data": {
      "text/plain": [
       "dataset  task        contrast \n",
       "hcp      EMOTION     FACES        0.000000\n",
       "                     SHAPES       0.000000\n",
       "         GAMBLING    PUNISH       0.111111\n",
       "                     REWARD       0.037037\n",
       "         LANGUAGE    MATH         0.333333\n",
       "                     STORY        0.000000\n",
       "         MOTOR       CUE          0.000000\n",
       "                     LF           0.000000\n",
       "                     LH           0.074074\n",
       "                     RF           0.000000\n",
       "                     RH           0.148148\n",
       "         RELATIONAL  MATCH        0.000000\n",
       "                     REL          0.037037\n",
       "         SOCIAL      RANDOM       0.000000\n",
       "                     TOM          0.074074\n",
       "         WM          0BK_BODY     0.037037\n",
       "                     0BK_FACE     0.074074\n",
       "                     0BK_PLACE    0.000000\n",
       "                     0BK_TOOL     0.037037\n",
       "                     2BK_BODY     0.074074\n",
       "                     2BK_FACE     0.037037\n",
       "                     2BK_PLACE    0.000000\n",
       "                     2BK_TOOL     0.074074\n",
       "Name: match, dtype: float64"
      ]
     },
     "execution_count": 34,
     "metadata": {},
     "output_type": "execute_result"
    }
   ],
   "source": [
    "prediction['match'].groupby(level=['fold', 'dataset', 'task', 'contrast']).apply(np.mean)['train']"
   ]
  },
  {
   "cell_type": "code",
   "execution_count": 21,
   "metadata": {
    "collapsed": false,
    "scrolled": true
   },
   "outputs": [
    {
     "data": {
      "text/plain": [
       "fold   dataset\n",
       "test   hcp        0.086957\n",
       "train  hcp        0.049919\n",
       "Name: match, dtype: float64"
      ]
     },
     "execution_count": 21,
     "metadata": {},
     "output_type": "execute_result"
    }
   ],
   "source": [
    "prediction['match'].groupby(level=['fold', 'dataset']).apply(np.mean)"
   ]
  },
  {
   "cell_type": "code",
   "execution_count": 26,
   "metadata": {
    "collapsed": false
   },
   "outputs": [],
   "source": [
    "estimator = estimator.steps[-1][1]"
   ]
  },
  {
   "cell_type": "code",
   "execution_count": 31,
   "metadata": {
    "collapsed": false
   },
   "outputs": [
    {
     "data": {
      "text/plain": [
       "[array([[-0.02741276, -0.02432736, -0.02301601, ..., -0.0655942 ,\n",
       "         -0.05110061,  0.02266686],\n",
       "        [-0.02334673, -0.01959271,  0.09536425, ...,  0.04013463,\n",
       "         -0.06840394,  0.00173945],\n",
       "        [ 0.0535597 ,  0.06267857,  0.04031682, ..., -0.03332284,\n",
       "          0.04359016, -0.02646653],\n",
       "        ..., \n",
       "        [-0.00044655,  0.00279291, -0.03146969, ..., -0.00193323,\n",
       "          0.00592736,  0.01187927],\n",
       "        [-0.0012686 ,  0.0010013 ,  0.01299676, ..., -0.00445125,\n",
       "         -0.01628286,  0.00859369],\n",
       "        [ 0.00539562,  0.02723421,  0.01783183, ..., -0.03553556,\n",
       "          0.00748728,  0.00122301]], dtype=float32)]"
      ]
     },
     "execution_count": 31,
     "metadata": {},
     "output_type": "execute_result"
    }
   ],
   "source": [
    "estimator.models_[0].layers_by_depth[2][0].get_weights()"
   ]
  },
  {
   "cell_type": "code",
   "execution_count": 33,
   "metadata": {
    "collapsed": false
   },
   "outputs": [
    {
     "data": {
      "text/plain": [
       "[array([[-0.02741276, -0.02432736, -0.02301601, ..., -0.0655942 ,\n",
       "         -0.05110061,  0.02266686],\n",
       "        [-0.02334673, -0.01959271,  0.09536425, ...,  0.04013463,\n",
       "         -0.06840394,  0.00173945],\n",
       "        [ 0.0535597 ,  0.06267857,  0.04031682, ..., -0.03332284,\n",
       "          0.04359016, -0.02646653],\n",
       "        ..., \n",
       "        [-0.00044655,  0.00279291, -0.03146969, ..., -0.00193323,\n",
       "          0.00592736,  0.01187927],\n",
       "        [-0.0012686 ,  0.0010013 ,  0.01299676, ..., -0.00445125,\n",
       "         -0.01628286,  0.00859369],\n",
       "        [ 0.00539562,  0.02723421,  0.01783183, ..., -0.03553556,\n",
       "          0.00748728,  0.00122301]], dtype=float32)]"
      ]
     },
     "execution_count": 33,
     "metadata": {},
     "output_type": "execute_result"
    }
   ],
   "source": [
    "estimator.stacked_model_.layers_by_depth[2][0].get_weights()"
   ]
  },
  {
   "cell_type": "code",
   "execution_count": 19,
   "metadata": {
    "collapsed": false
   },
   "outputs": [
    {
     "data": {
      "image/png": "[encoded data removed]",
      "text/plain": [
       "<matplotlib.figure.Figure at 0x7fe3f87708d0>"
      ]
     },
     "metadata": {},
     "output_type": "display_data"
    }
   ],
   "source": [
    "plt.show()"
   ]
  },
  {
   "cell_type": "code",
   "execution_count": 707,
   "metadata": {
    "collapsed": false
   },
   "outputs": [],
   "source": [
    "titles = [\"%s: %s\" % (task, contrast) for task, contrast in zip(tasks, labels)]"
   ]
  },
  {
   "cell_type": "code",
   "execution_count": null,
   "metadata": {
    "collapsed": false,
    "scrolled": true
   },
   "outputs": [
    {
     "ename": "KeyboardInterrupt",
     "evalue": "",
     "output_type": "error",
     "traceback": [
      "\u001b[0;31m---------------------------------------------------------------------------\u001b[0m",
      "\u001b[0;31mKeyboardInterrupt\u001b[0m                         Traceback (most recent call last)",
      "\u001b[0;32m<ipython-input-708-7f27614c5779>\u001b[0m in \u001b[0;36m<module>\u001b[0;34m()\u001b[0m\n\u001b[1;32m     12\u001b[0m \u001b[0;34m\u001b[0m\u001b[0m\n\u001b[1;32m     13\u001b[0m \u001b[0;32mfor\u001b[0m \u001b[0mi\u001b[0m\u001b[0;34m,\u001b[0m \u001b[0mtitle\u001b[0m \u001b[0;32min\u001b[0m \u001b[0mzip\u001b[0m\u001b[0;34m(\u001b[0m\u001b[0mindices\u001b[0m\u001b[0;34m,\u001b[0m \u001b[0mtitles\u001b[0m\u001b[0;34m)\u001b[0m\u001b[0;34m:\u001b[0m\u001b[0;34m\u001b[0m\u001b[0m\n\u001b[0;32m---> 14\u001b[0;31m     \u001b[0mplot_stat_map\u001b[0m\u001b[0;34m(\u001b[0m\u001b[0mindex_img\u001b[0m\u001b[0;34m(\u001b[0m\u001b[0mimgs\u001b[0m\u001b[0;34m,\u001b[0m \u001b[0mi\u001b[0m\u001b[0;34m)\u001b[0m\u001b[0;34m,\u001b[0m \u001b[0mtitle\u001b[0m\u001b[0;34m=\u001b[0m\u001b[0mtitle\u001b[0m\u001b[0;34m,\u001b[0m \u001b[0mthreshold\u001b[0m\u001b[0;34m=\u001b[0m\u001b[0;36m0\u001b[0m\u001b[0;34m)\u001b[0m\u001b[0;34m\u001b[0m\u001b[0m\n\u001b[0m",
      "\u001b[0;32m/storage/store/work/amensch/work/repos/nilearn/nilearn/plotting/img_plotting.py\u001b[0m in \u001b[0;36mplot_stat_map\u001b[0;34m(stat_map_img, bg_img, cut_coords, output_file, display_mode, colorbar, figure, axes, title, threshold, annotate, draw_cross, black_bg, cmap, symmetric_cbar, dim, vmax, **kwargs)\u001b[0m\n\u001b[1;32m    984\u001b[0m                                 \u001b[0mcbar_vmin\u001b[0m\u001b[0;34m=\u001b[0m\u001b[0mcbar_vmin\u001b[0m\u001b[0;34m,\u001b[0m \u001b[0mcbar_vmax\u001b[0m\u001b[0;34m=\u001b[0m\u001b[0mcbar_vmax\u001b[0m\u001b[0;34m,\u001b[0m\u001b[0;34m\u001b[0m\u001b[0m\n\u001b[1;32m    985\u001b[0m                                 \u001b[0mresampling_interpolation\u001b[0m\u001b[0;34m=\u001b[0m\u001b[0;34m'continuous'\u001b[0m\u001b[0;34m,\u001b[0m\u001b[0;34m\u001b[0m\u001b[0m\n\u001b[0;32m--> 986\u001b[0;31m                                 **kwargs)\n\u001b[0m\u001b[1;32m    987\u001b[0m \u001b[0;34m\u001b[0m\u001b[0m\n\u001b[1;32m    988\u001b[0m     \u001b[0;32mreturn\u001b[0m \u001b[0mdisplay\u001b[0m\u001b[0;34m\u001b[0m\u001b[0m\n",
      "\u001b[0;32m/storage/store/work/amensch/work/repos/nilearn/nilearn/plotting/img_plotting.py\u001b[0m in \u001b[0;36m_plot_img_with_bg\u001b[0;34m(img, bg_img, cut_coords, output_file, display_mode, colorbar, figure, axes, title, threshold, annotate, draw_cross, black_bg, vmin, vmax, bg_vmin, bg_vmax, interpolation, display_factory, cbar_vmin, cbar_vmax, **kwargs)\u001b[0m\n\u001b[1;32m    182\u001b[0m                             \u001b[0mthreshold\u001b[0m\u001b[0;34m=\u001b[0m\u001b[0mthreshold\u001b[0m\u001b[0;34m,\u001b[0m \u001b[0minterpolation\u001b[0m\u001b[0;34m=\u001b[0m\u001b[0minterpolation\u001b[0m\u001b[0;34m,\u001b[0m\u001b[0;34m\u001b[0m\u001b[0m\n\u001b[1;32m    183\u001b[0m                             \u001b[0mcolorbar\u001b[0m\u001b[0;34m=\u001b[0m\u001b[0mcolorbar\u001b[0m\u001b[0;34m,\u001b[0m \u001b[0mvmin\u001b[0m\u001b[0;34m=\u001b[0m\u001b[0mvmin\u001b[0m\u001b[0;34m,\u001b[0m \u001b[0mvmax\u001b[0m\u001b[0;34m=\u001b[0m\u001b[0mvmax\u001b[0m\u001b[0;34m,\u001b[0m\u001b[0;34m\u001b[0m\u001b[0m\n\u001b[0;32m--> 184\u001b[0;31m                             **kwargs)\n\u001b[0m\u001b[1;32m    185\u001b[0m \u001b[0;34m\u001b[0m\u001b[0m\n\u001b[1;32m    186\u001b[0m     \u001b[0;32mif\u001b[0m \u001b[0mannotate\u001b[0m\u001b[0;34m:\u001b[0m\u001b[0;34m\u001b[0m\u001b[0m\n",
      "\u001b[0;32m/storage/store/work/amensch/work/repos/nilearn/nilearn/plotting/displays.py\u001b[0m in \u001b[0;36madd_overlay\u001b[0;34m(self, img, threshold, colorbar, **kwargs)\u001b[0m\n\u001b[1;32m    588\u001b[0m         \u001b[0;31m# with plot_stat_map\u001b[0m\u001b[0;34m\u001b[0m\u001b[0;34m\u001b[0m\u001b[0m\n\u001b[1;32m    589\u001b[0m         \u001b[0mkwargs\u001b[0m\u001b[0;34m.\u001b[0m\u001b[0msetdefault\u001b[0m\u001b[0;34m(\u001b[0m\u001b[0;34m'interpolation'\u001b[0m\u001b[0;34m,\u001b[0m \u001b[0;34m'nearest'\u001b[0m\u001b[0;34m)\u001b[0m\u001b[0;34m\u001b[0m\u001b[0m\n\u001b[0;32m--> 590\u001b[0;31m         \u001b[0mims\u001b[0m \u001b[0;34m=\u001b[0m \u001b[0mself\u001b[0m\u001b[0;34m.\u001b[0m\u001b[0m_map_show\u001b[0m\u001b[0;34m(\u001b[0m\u001b[0mimg\u001b[0m\u001b[0;34m,\u001b[0m \u001b[0mtype\u001b[0m\u001b[0;34m=\u001b[0m\u001b[0;34m'imshow'\u001b[0m\u001b[0;34m,\u001b[0m \u001b[0mthreshold\u001b[0m\u001b[0;34m=\u001b[0m\u001b[0mthreshold\u001b[0m\u001b[0;34m,\u001b[0m \u001b[0;34m**\u001b[0m\u001b[0mkwargs\u001b[0m\u001b[0;34m)\u001b[0m\u001b[0;34m\u001b[0m\u001b[0m\n\u001b[0m\u001b[1;32m    591\u001b[0m \u001b[0;34m\u001b[0m\u001b[0m\n\u001b[1;32m    592\u001b[0m         \u001b[0;31m# `ims` can be empty in some corner cases, look at test_img_plotting.test_outlier_cut_coords.\u001b[0m\u001b[0;34m\u001b[0m\u001b[0;34m\u001b[0m\u001b[0m\n",
      "\u001b[0;32m/storage/store/work/amensch/work/repos/nilearn/nilearn/plotting/displays.py\u001b[0m in \u001b[0;36m_map_show\u001b[0;34m(self, img, type, resampling_interpolation, threshold, **kwargs)\u001b[0m\n\u001b[1;32m    652\u001b[0m \u001b[0;34m\u001b[0m\u001b[0m\n\u001b[1;32m    653\u001b[0m         \u001b[0maffine\u001b[0m \u001b[0;34m=\u001b[0m \u001b[0m_utils\u001b[0m\u001b[0;34m.\u001b[0m\u001b[0mcompat\u001b[0m\u001b[0;34m.\u001b[0m\u001b[0mget_affine\u001b[0m\u001b[0;34m(\u001b[0m\u001b[0mimg\u001b[0m\u001b[0;34m)\u001b[0m\u001b[0;34m\u001b[0m\u001b[0m\n\u001b[0;32m--> 654\u001b[0;31m         \u001b[0mdata\u001b[0m \u001b[0;34m=\u001b[0m \u001b[0m_utils\u001b[0m\u001b[0;34m.\u001b[0m\u001b[0mniimg\u001b[0m\u001b[0;34m.\u001b[0m\u001b[0m_safe_get_data\u001b[0m\u001b[0;34m(\u001b[0m\u001b[0mimg\u001b[0m\u001b[0;34m,\u001b[0m \u001b[0mensure_finite\u001b[0m\u001b[0;34m=\u001b[0m\u001b[0;32mTrue\u001b[0m\u001b[0;34m)\u001b[0m\u001b[0;34m\u001b[0m\u001b[0m\n\u001b[0m\u001b[1;32m    655\u001b[0m         \u001b[0mdata_bounds\u001b[0m \u001b[0;34m=\u001b[0m \u001b[0mget_bounds\u001b[0m\u001b[0;34m(\u001b[0m\u001b[0mdata\u001b[0m\u001b[0;34m.\u001b[0m\u001b[0mshape\u001b[0m\u001b[0;34m,\u001b[0m \u001b[0maffine\u001b[0m\u001b[0;34m)\u001b[0m\u001b[0;34m\u001b[0m\u001b[0m\n\u001b[1;32m    656\u001b[0m         \u001b[0;34m(\u001b[0m\u001b[0mxmin\u001b[0m\u001b[0;34m,\u001b[0m \u001b[0mxmax\u001b[0m\u001b[0;34m)\u001b[0m\u001b[0;34m,\u001b[0m \u001b[0;34m(\u001b[0m\u001b[0mymin\u001b[0m\u001b[0;34m,\u001b[0m \u001b[0mymax\u001b[0m\u001b[0;34m)\u001b[0m\u001b[0;34m,\u001b[0m \u001b[0;34m(\u001b[0m\u001b[0mzmin\u001b[0m\u001b[0;34m,\u001b[0m \u001b[0mzmax\u001b[0m\u001b[0;34m)\u001b[0m \u001b[0;34m=\u001b[0m \u001b[0mdata_bounds\u001b[0m\u001b[0;34m\u001b[0m\u001b[0m\n",
      "\u001b[0;32m/storage/store/work/amensch/work/repos/nilearn/nilearn/_utils/niimg.py\u001b[0m in \u001b[0;36m_safe_get_data\u001b[0;34m(img, ensure_finite)\u001b[0m\n\u001b[1;32m     39\u001b[0m     \u001b[0;31m# typically the line below can double memory usage\u001b[0m\u001b[0;34m\u001b[0m\u001b[0;34m\u001b[0m\u001b[0m\n\u001b[1;32m     40\u001b[0m     \u001b[0;31m# that's why we invoke a forced call to the garbage collector\u001b[0m\u001b[0;34m\u001b[0m\u001b[0;34m\u001b[0m\u001b[0m\n\u001b[0;32m---> 41\u001b[0;31m     \u001b[0mgc\u001b[0m\u001b[0;34m.\u001b[0m\u001b[0mcollect\u001b[0m\u001b[0;34m(\u001b[0m\u001b[0;34m)\u001b[0m\u001b[0;34m\u001b[0m\u001b[0m\n\u001b[0m\u001b[1;32m     42\u001b[0m \u001b[0;34m\u001b[0m\u001b[0m\n\u001b[1;32m     43\u001b[0m     \u001b[0mdata\u001b[0m \u001b[0;34m=\u001b[0m \u001b[0mimg\u001b[0m\u001b[0;34m.\u001b[0m\u001b[0mget_data\u001b[0m\u001b[0;34m(\u001b[0m\u001b[0;34m)\u001b[0m\u001b[0;34m\u001b[0m\u001b[0m\n",
      "\u001b[0;31mKeyboardInterrupt\u001b[0m: "
     ]
    },
    {
     "name": "stderr",
     "output_type": "stream",
     "text": [
      "ERROR:tornado.general:Uncaught exception, closing connection.\n",
      "Traceback (most recent call last):\n",
      "  File \"/home/parietal/amensch/opt/miniconda3/lib/python3.6/site-packages/zmq/eventloop/zmqstream.py\", line 414, in _run_callback\n",
      "    callback(*args, **kwargs)\n",
      "  File \"/home/parietal/amensch/opt/miniconda3/lib/python3.6/site-packages/tornado/stack_context.py\", line 275, in null_wrapper\n",
      "    return fn(*args, **kwargs)\n",
      "  File \"/home/parietal/amensch/opt/miniconda3/lib/python3.6/site-packages/ipykernel/kernelbase.py\", line 276, in dispatcher\n",
      "    return self.dispatch_shell(stream, msg)\n",
      "  File \"/home/parietal/amensch/opt/miniconda3/lib/python3.6/site-packages/ipykernel/kernelbase.py\", line 228, in dispatch_shell\n",
      "    handler(stream, idents, msg)\n",
      "  File \"/home/parietal/amensch/opt/miniconda3/lib/python3.6/site-packages/ipykernel/kernelbase.py\", line 390, in execute_request\n",
      "    user_expressions, allow_stdin)\n",
      "  File \"/home/parietal/amensch/opt/miniconda3/lib/python3.6/site-packages/ipykernel/ipkernel.py\", line 196, in do_execute\n",
      "    res = shell.run_cell(code, store_history=store_history, silent=silent)\n",
      "  File \"/home/parietal/amensch/opt/miniconda3/lib/python3.6/site-packages/ipykernel/zmqshell.py\", line 501, in run_cell\n",
      "    return super(ZMQInteractiveShell, self).run_cell(*args, **kwargs)\n",
      "  File \"/home/parietal/amensch/opt/miniconda3/lib/python3.6/site-packages/IPython/core/interactiveshell.py\", line 2725, in run_cell\n",
      "    self.events.trigger('post_execute')\n",
      "  File \"/home/parietal/amensch/opt/miniconda3/lib/python3.6/site-packages/IPython/core/events.py\", line 74, in trigger\n",
      "    func(*args, **kwargs)\n",
      "  File \"/home/parietal/amensch/opt/miniconda3/lib/python3.6/site-packages/ipykernel/pylab/backend_inline.py\", line 113, in flush_figures\n",
      "    return show(True)\n",
      "  File \"/home/parietal/amensch/opt/miniconda3/lib/python3.6/site-packages/ipykernel/pylab/backend_inline.py\", line 36, in show\n",
      "    display(figure_manager.canvas.figure)\n",
      "  File \"/home/parietal/amensch/opt/miniconda3/lib/python3.6/site-packages/IPython/core/display.py\", line 164, in display\n",
      "    format_dict, md_dict = format(obj, include=include, exclude=exclude)\n",
      "  File \"/home/parietal/amensch/opt/miniconda3/lib/python3.6/site-packages/IPython/core/formatters.py\", line 145, in format\n",
      "    data = formatter(obj)\n",
      "  File \"<decorator-gen-9>\", line 2, in __call__\n",
      "  File \"/home/parietal/amensch/opt/miniconda3/lib/python3.6/site-packages/IPython/core/formatters.py\", line 190, in catch_format_error\n",
      "    r = method(self, *args, **kwargs)\n",
      "  File \"/home/parietal/amensch/opt/miniconda3/lib/python3.6/site-packages/IPython/core/formatters.py\", line 307, in __call__\n",
      "    return printer(obj)\n",
      "  File \"/home/parietal/amensch/opt/miniconda3/lib/python3.6/site-packages/IPython/core/pylabtools.py\", line 227, in <lambda>\n",
      "    png_formatter.for_type(Figure, lambda fig: print_figure(fig, 'png', **kwargs))\n",
      "  File \"/home/parietal/amensch/opt/miniconda3/lib/python3.6/site-packages/IPython/core/pylabtools.py\", line 119, in print_figure\n",
      "    fig.canvas.print_figure(bytes_io, **kw)\n",
      "  File \"/home/parietal/amensch/opt/miniconda3/lib/python3.6/site-packages/matplotlib/backend_bases.py\", line 2244, in print_figure\n",
      "    **kwargs)\n",
      "  File \"/home/parietal/amensch/opt/miniconda3/lib/python3.6/site-packages/matplotlib/backends/backend_agg.py\", line 545, in print_png\n",
      "    FigureCanvasAgg.draw(self)\n",
      "  File \"/home/parietal/amensch/opt/miniconda3/lib/python3.6/site-packages/matplotlib/backends/backend_agg.py\", line 464, in draw\n",
      "    self.figure.draw(self.renderer)\n",
      "  File \"/home/parietal/amensch/opt/miniconda3/lib/python3.6/site-packages/matplotlib/artist.py\", line 63, in draw_wrapper\n",
      "    draw(artist, renderer, *args, **kwargs)\n",
      "  File \"/home/parietal/amensch/opt/miniconda3/lib/python3.6/site-packages/matplotlib/figure.py\", line 1143, in draw\n",
      "    renderer, self, dsu, self.suppressComposite)\n",
      "  File \"/home/parietal/amensch/opt/miniconda3/lib/python3.6/site-packages/matplotlib/image.py\", line 139, in _draw_list_compositing_images\n",
      "    a.draw(renderer)\n",
      "  File \"/home/parietal/amensch/opt/miniconda3/lib/python3.6/site-packages/matplotlib/artist.py\", line 63, in draw_wrapper\n",
      "    draw(artist, renderer, *args, **kwargs)\n",
      "  File \"/home/parietal/amensch/opt/miniconda3/lib/python3.6/site-packages/matplotlib/axes/_base.py\", line 2409, in draw\n",
      "    mimage._draw_list_compositing_images(renderer, self, dsu)\n",
      "  File \"/home/parietal/amensch/opt/miniconda3/lib/python3.6/site-packages/matplotlib/image.py\", line 139, in _draw_list_compositing_images\n",
      "    a.draw(renderer)\n",
      "  File \"/home/parietal/amensch/opt/miniconda3/lib/python3.6/site-packages/matplotlib/artist.py\", line 63, in draw_wrapper\n",
      "    draw(artist, renderer, *args, **kwargs)\n",
      "  File \"/home/parietal/amensch/opt/miniconda3/lib/python3.6/site-packages/matplotlib/image.py\", line 495, in draw\n",
      "    renderer, renderer.get_image_magnification())\n",
      "  File \"/home/parietal/amensch/opt/miniconda3/lib/python3.6/site-packages/matplotlib/image.py\", line 719, in make_image\n",
      "    unsampled=unsampled)\n",
      "  File \"/home/parietal/amensch/opt/miniconda3/lib/python3.6/site-packages/matplotlib/image.py\", line 376, in _make_image\n",
      "    rgba[..., 3] = ~A.mask  # bad data\n",
      "KeyboardInterrupt\n",
      "ERROR:tornado.general:Uncaught exception, closing connection.\n",
      "Traceback (most recent call last):\n",
      "  File \"/home/parietal/amensch/opt/miniconda3/lib/python3.6/site-packages/zmq/eventloop/zmqstream.py\", line 440, in _handle_events\n",
      "    self._handle_recv()\n",
      "  File \"/home/parietal/amensch/opt/miniconda3/lib/python3.6/site-packages/zmq/eventloop/zmqstream.py\", line 472, in _handle_recv\n",
      "    self._run_callback(callback, msg)\n",
      "  File \"/home/parietal/amensch/opt/miniconda3/lib/python3.6/site-packages/zmq/eventloop/zmqstream.py\", line 414, in _run_callback\n",
      "    callback(*args, **kwargs)\n",
      "  File \"/home/parietal/amensch/opt/miniconda3/lib/python3.6/site-packages/tornado/stack_context.py\", line 275, in null_wrapper\n",
      "    return fn(*args, **kwargs)\n",
      "  File \"/home/parietal/amensch/opt/miniconda3/lib/python3.6/site-packages/ipykernel/kernelbase.py\", line 276, in dispatcher\n",
      "    return self.dispatch_shell(stream, msg)\n",
      "  File \"/home/parietal/amensch/opt/miniconda3/lib/python3.6/site-packages/ipykernel/kernelbase.py\", line 228, in dispatch_shell\n",
      "    handler(stream, idents, msg)\n",
      "  File \"/home/parietal/amensch/opt/miniconda3/lib/python3.6/site-packages/ipykernel/kernelbase.py\", line 390, in execute_request\n",
      "    user_expressions, allow_stdin)\n",
      "  File \"/home/parietal/amensch/opt/miniconda3/lib/python3.6/site-packages/ipykernel/ipkernel.py\", line 196, in do_execute\n",
      "    res = shell.run_cell(code, store_history=store_history, silent=silent)\n",
      "  File \"/home/parietal/amensch/opt/miniconda3/lib/python3.6/site-packages/ipykernel/zmqshell.py\", line 501, in run_cell\n",
      "    return super(ZMQInteractiveShell, self).run_cell(*args, **kwargs)\n",
      "  File \"/home/parietal/amensch/opt/miniconda3/lib/python3.6/site-packages/IPython/core/interactiveshell.py\", line 2725, in run_cell\n",
      "    self.events.trigger('post_execute')\n",
      "  File \"/home/parietal/amensch/opt/miniconda3/lib/python3.6/site-packages/IPython/core/events.py\", line 74, in trigger\n",
      "    func(*args, **kwargs)\n",
      "  File \"/home/parietal/amensch/opt/miniconda3/lib/python3.6/site-packages/ipykernel/pylab/backend_inline.py\", line 113, in flush_figures\n",
      "    return show(True)\n",
      "  File \"/home/parietal/amensch/opt/miniconda3/lib/python3.6/site-packages/ipykernel/pylab/backend_inline.py\", line 36, in show\n",
      "    display(figure_manager.canvas.figure)\n",
      "  File \"/home/parietal/amensch/opt/miniconda3/lib/python3.6/site-packages/IPython/core/display.py\", line 164, in display\n",
      "    format_dict, md_dict = format(obj, include=include, exclude=exclude)\n",
      "  File \"/home/parietal/amensch/opt/miniconda3/lib/python3.6/site-packages/IPython/core/formatters.py\", line 145, in format\n",
      "    data = formatter(obj)\n",
      "  File \"<decorator-gen-9>\", line 2, in __call__\n",
      "  File \"/home/parietal/amensch/opt/miniconda3/lib/python3.6/site-packages/IPython/core/formatters.py\", line 190, in catch_format_error\n",
      "    r = method(self, *args, **kwargs)\n",
      "  File \"/home/parietal/amensch/opt/miniconda3/lib/python3.6/site-packages/IPython/core/formatters.py\", line 307, in __call__\n",
      "    return printer(obj)\n",
      "  File \"/home/parietal/amensch/opt/miniconda3/lib/python3.6/site-packages/IPython/core/pylabtools.py\", line 227, in <lambda>\n",
      "    png_formatter.for_type(Figure, lambda fig: print_figure(fig, 'png', **kwargs))\n",
      "  File \"/home/parietal/amensch/opt/miniconda3/lib/python3.6/site-packages/IPython/core/pylabtools.py\", line 119, in print_figure\n",
      "    fig.canvas.print_figure(bytes_io, **kw)\n",
      "  File \"/home/parietal/amensch/opt/miniconda3/lib/python3.6/site-packages/matplotlib/backend_bases.py\", line 2244, in print_figure\n",
      "    **kwargs)\n",
      "  File \"/home/parietal/amensch/opt/miniconda3/lib/python3.6/site-packages/matplotlib/backends/backend_agg.py\", line 545, in print_png\n",
      "    FigureCanvasAgg.draw(self)\n",
      "  File \"/home/parietal/amensch/opt/miniconda3/lib/python3.6/site-packages/matplotlib/backends/backend_agg.py\", line 464, in draw\n",
      "    self.figure.draw(self.renderer)\n",
      "  File \"/home/parietal/amensch/opt/miniconda3/lib/python3.6/site-packages/matplotlib/artist.py\", line 63, in draw_wrapper\n",
      "    draw(artist, renderer, *args, **kwargs)\n",
      "  File \"/home/parietal/amensch/opt/miniconda3/lib/python3.6/site-packages/matplotlib/figure.py\", line 1143, in draw\n",
      "    renderer, self, dsu, self.suppressComposite)\n",
      "  File \"/home/parietal/amensch/opt/miniconda3/lib/python3.6/site-packages/matplotlib/image.py\", line 139, in _draw_list_compositing_images\n",
      "    a.draw(renderer)\n",
      "  File \"/home/parietal/amensch/opt/miniconda3/lib/python3.6/site-packages/matplotlib/artist.py\", line 63, in draw_wrapper\n",
      "    draw(artist, renderer, *args, **kwargs)\n",
      "  File \"/home/parietal/amensch/opt/miniconda3/lib/python3.6/site-packages/matplotlib/axes/_base.py\", line 2409, in draw\n",
      "    mimage._draw_list_compositing_images(renderer, self, dsu)\n",
      "  File \"/home/parietal/amensch/opt/miniconda3/lib/python3.6/site-packages/matplotlib/image.py\", line 139, in _draw_list_compositing_images\n",
      "    a.draw(renderer)\n",
      "  File \"/home/parietal/amensch/opt/miniconda3/lib/python3.6/site-packages/matplotlib/artist.py\", line 63, in draw_wrapper\n",
      "    draw(artist, renderer, *args, **kwargs)\n",
      "  File \"/home/parietal/amensch/opt/miniconda3/lib/python3.6/site-packages/matplotlib/image.py\", line 495, in draw\n",
      "    renderer, renderer.get_image_magnification())\n",
      "  File \"/home/parietal/amensch/opt/miniconda3/lib/python3.6/site-packages/matplotlib/image.py\", line 719, in make_image\n",
      "    unsampled=unsampled)\n",
      "  File \"/home/parietal/amensch/opt/miniconda3/lib/python3.6/site-packages/matplotlib/image.py\", line 376, in _make_image\n",
      "    rgba[..., 3] = ~A.mask  # bad data\n",
      "KeyboardInterrupt\n"
     ]
    }
   ],
   "source": [
    "%matplotlib inline\n",
    "from nilearn.plotting import plot_stat_map\n",
    "from nilearn.image import index_img\n",
    "from nilearn._utils import check_niimg\n",
    "\n",
    "indices = label_encoder.transform(labels)\n",
    "\n",
    "imgs = check_niimg(imgs)\n",
    "imgs.get_data()\n",
    "\n",
    "plt.close('all')\n",
    "\n",
    "for i, title in zip(indices, titles):\n",
    "    plot_stat_map(index_img(imgs, i), title=title, threshold=0)"
   ]
  },
  {
   "cell_type": "code",
   "execution_count": null,
   "metadata": {
    "collapsed": false
   },
   "outputs": [],
   "source": [
    "indices = label_encoder.transform(labels)\n",
    "ncoef = coef[indices]\n",
    "S = np.sqrt((ncoef ** 2).sum(axis=1))\n",
    "ncoef = ncoef / S[:, np.newaxis]"
   ]
  },
  {
   "cell_type": "code",
   "execution_count": null,
   "metadata": {
    "collapsed": false,
    "scrolled": true
   },
   "outputs": [],
   "source": [
    "G = ncoef.dot(ncoef.T)\n",
    "plot_gram_matrix(G, labels)"
   ]
  },
  {
   "cell_type": "code",
   "execution_count": 619,
   "metadata": {
    "collapsed": false
   },
   "outputs": [
    {
     "data": {
      "text/plain": [
       "(0.0, 0.0)"
      ]
     },
     "execution_count": 619,
     "metadata": {},
     "output_type": "execute_result"
    }
   ],
   "source": [
    "np.mean(w0 == 0),np.mean(w1 == 0)"
   ]
  },
  {
   "cell_type": "code",
   "execution_count": 620,
   "metadata": {
    "collapsed": false
   },
   "outputs": [
    {
     "data": {
      "text/plain": [
       "(array([   34,   223,  1099,  4358,  8492, 10087,  6574,  2116,   493,   124]),\n",
       " array([ -5.41468558e-04,  -4.37985052e-04,  -3.34501546e-04,\n",
       "         -2.31018040e-04,  -1.27534533e-04,  -2.40510271e-05,\n",
       "          7.94324791e-05,   1.82915985e-04,   2.86399492e-04,\n",
       "          3.89882998e-04,   4.93366504e-04]))"
      ]
     },
     "execution_count": 620,
     "metadata": {},
     "output_type": "execute_result"
    }
   ],
   "source": [
    "np.histogram(w1)"
   ]
  },
  {
   "cell_type": "code",
   "execution_count": 623,
   "metadata": {
    "collapsed": false,
    "scrolled": false
   },
   "outputs": [
    {
     "data": {
      "image/png": "[encoded data removed]",
      "text/plain": [
       "<matplotlib.figure.Figure at 0x7fbf68debd30>"
      ]
     },
     "metadata": {},
     "output_type": "display_data"
    }
   ],
   "source": [
    "%matplotlib inline\n",
    "n, bins, patches = plt.hist(w1.ravel(), bins=100, log=True)\n",
    "plt.xscale('log')"
   ]
  },
  {
   "cell_type": "code",
   "execution_count": null,
   "metadata": {
    "collapsed": false
   },
   "outputs": [],
   "source": [
    "w1.ravel()[:300]"
   ]
  },
  {
   "cell_type": "code",
   "execution_count": null,
   "metadata": {
    "collapsed": false
   },
   "outputs": [],
   "source": [
    "(np.abs(coef[indices,:16]).sum())"
   ]
  },
  {
   "cell_type": "code",
   "execution_count": null,
   "metadata": {
    "collapsed": false
   },
   "outputs": [],
   "source": [
    "(np.abs(coef[indices,16:80])).sum()"
   ]
  },
  {
   "cell_type": "code",
   "execution_count": null,
   "metadata": {
    "collapsed": false
   },
   "outputs": [],
   "source": [
    "np.abs(coef[indices,80:80 + 256]).sum()"
   ]
  },
  {
   "cell_type": "code",
   "execution_count": null,
   "metadata": {
    "collapsed": false
   },
   "outputs": [],
   "source": [
    "np.mean(coef[indices, :16] == 0)"
   ]
  },
  {
   "cell_type": "code",
   "execution_count": null,
   "metadata": {
    "collapsed": false
   },
   "outputs": [],
   "source": [
    "np.mean(coef[indices, 16:80] == 0)"
   ]
  },
  {
   "cell_type": "code",
   "execution_count": null,
   "metadata": {
    "collapsed": false
   },
   "outputs": [],
   "source": [
    "np.mean(coef[indices, 80:256] == 0)"
   ]
  },
  {
   "cell_type": "code",
   "execution_count": null,
   "metadata": {
    "collapsed": true
   },
   "outputs": [],
   "source": []
  },
  {
   "cell_type": "code",
   "execution_count": null,
   "metadata": {
    "collapsed": true
   },
   "outputs": [],
   "source": []
  },
  {
   "cell_type": "code",
   "execution_count": null,
   "metadata": {
    "collapsed": true
   },
   "outputs": [],
   "source": []
  },
  {
   "cell_type": "code",
   "execution_count": null,
   "metadata": {
    "collapsed": true
   },
   "outputs": [],
   "source": []
  }
 ],
 "metadata": {
  "kernelspec": {
   "display_name": "Python 3",
   "language": "python",
   "name": "python3"
  },
  "language_info": {
   "codemirror_mode": {
    "name": "ipython",
    "version": 3
   },
   "file_extension": ".py",
   "mimetype": "text/x-python",
   "name": "python",
   "nbconvert_exporter": "python",
   "pygments_lexer": "ipython3",
   "version": "3.6.0"
  }
 },
 "nbformat": 4,
 "nbformat_minor": 0
}
