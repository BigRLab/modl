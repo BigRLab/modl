{
 "cells": [
  {
   "cell_type": "code",
   "execution_count": 89,
   "metadata": {
    "collapsed": false
   },
   "outputs": [
    {
     "name": "stdout",
     "output_type": "stream",
     "text": [
      "/storage/store/work/amensch/data/modl_data/pipeline/contrast/prediction/4\n"
     ]
    }
   ],
   "source": [
    "cd ~/data/modl_data/pipeline/contrast/prediction/4/"
   ]
  },
  {
   "cell_type": "code",
   "execution_count": 90,
   "metadata": {
    "collapsed": true
   },
   "outputs": [],
   "source": [
    "from sklearn.externals.joblib import load\n",
    "from sklearn.pipeline import Pipeline\n",
    "import pandas as pd\n",
    "\n",
    "from nilearn.input_data import MultiNiftiMasker\n",
    "from nilearn.datasets import load_mni152_brain_mask\n",
    "from modl.datasets.hcp import fetch_hcp"
   ]
  },
  {
   "cell_type": "code",
   "execution_count": 91,
   "metadata": {
    "collapsed": true
   },
   "outputs": [],
   "source": [
    "def plot_confusion_matrix(conf_arr, labels):\n",
    "\n",
    "    fig = plt.figure(figsize=(8, 8))\n",
    "    plt.clf()\n",
    "    ax = fig.add_subplot(111)\n",
    "    ax.set_aspect(1)\n",
    "    \n",
    "    S = conf_arr.sum(axis=0)\n",
    "    S[S == 0] = 1\n",
    "    conf_arr = conf_arr / S\n",
    "    \n",
    "    res = ax.imshow(conf_arr,\n",
    "                interpolation='nearest')\n",
    "\n",
    "    width, height = conf_arr.shape\n",
    "\n",
    "    plt.xticks(range(width))\n",
    "    plt.yticks(range(height))\n",
    "    ax.set_yticklabels(labels)\n",
    "    ax.set_xticklabels(labels, rotation=90)\n",
    "    fig.colorbar(res)\n",
    "    \n",
    "def plot_gram_matrix(G, labels):\n",
    "    fig = plt.figure(figsize=(8, 8))\n",
    "    plt.clf()\n",
    "    ax = fig.add_subplot(111)\n",
    "    ax.set_aspect(1)\n",
    "    res = ax.imshow(G,\n",
    "                interpolation='nearest')\n",
    "\n",
    "    width, height = G.shape\n",
    "\n",
    "    plt.xticks(range(width))\n",
    "    plt.yticks(range(height))\n",
    "    ax.set_yticklabels(labels)\n",
    "    ax.set_xticklabels(labels, rotation=90)\n",
    "    fig.colorbar(res)"
   ]
  },
  {
   "cell_type": "code",
   "execution_count": 92,
   "metadata": {
    "collapsed": false
   },
   "outputs": [
    {
     "name": "stdout",
     "output_type": "stream",
     "text": [
      "/storage/store/work/amensch/data/modl_data/pipeline/contrast/prediction/4/_artifacts\n"
     ]
    }
   ],
   "source": [
    "cd _artifacts"
   ]
  },
  {
   "cell_type": "code",
   "execution_count": 93,
   "metadata": {
    "collapsed": false
   },
   "outputs": [],
   "source": [
    "from modl.fixes import OurModel\n",
    "estimator = load('estimator.pkl')\n",
    "label_encoder = load('label_encoder.pkl')\n",
    "prediction = pd.read_csv('prediction.csv')\n",
    "\n",
    "pipeline = Pipeline(estimator.steps[:-1])"
   ]
  },
  {
   "cell_type": "code",
   "execution_count": 94,
   "metadata": {
    "collapsed": false
   },
   "outputs": [],
   "source": [
    "model = estimator.steps[-1][1].stacked_model_\n",
    "\n",
    "supervised_layers =  model.layers_by_depth[2]\n",
    "embedding_layer =  model.layers_by_depth[3][0]\n",
    "\n",
    "w0 = []\n",
    "for layer in supervised_layers:\n",
    "    this_w0, this_b0 = layer.get_weights()\n",
    "    w0.append(this_w0)\n",
    "w0 = np.concatenate(w0, axis=1)\n",
    "w1 = embedding_layer.get_weights()[0]\n",
    "\n",
    "coef = w1.dot(w0).T"
   ]
  },
  {
   "cell_type": "code",
   "execution_count": 95,
   "metadata": {
    "collapsed": false
   },
   "outputs": [
    {
     "name": "stdout",
     "output_type": "stream",
     "text": [
      "Sparsity 0.0\n"
     ]
    }
   ],
   "source": [
    "print('Sparsity', (coef == 0).sum() / coef.size)"
   ]
  },
  {
   "cell_type": "code",
   "execution_count": 96,
   "metadata": {
    "collapsed": false
   },
   "outputs": [],
   "source": [
    "match = prediction['true_label'] == prediction['predicted_label']\n",
    "prediction = prediction.assign(match=match)\n",
    "prediction.set_index(['fold', 'dataset', 'subject', 'task', 'contrast', 'direction'], inplace=True)\n",
    "prediction.sort_index(inplace=True)\n",
    "datasets = prediction.index.get_level_values('dataset').unique().values"
   ]
  },
  {
   "cell_type": "code",
   "execution_count": 97,
   "metadata": {
    "collapsed": false,
    "scrolled": true
   },
   "outputs": [],
   "source": [
    "labels_list = []\n",
    "tasks_list = []\n",
    "for dataset in datasets:\n",
    "    first_subject = prediction.loc['test', dataset].index.get_level_values('subject')[0]\n",
    "    data = prediction.loc[('test', dataset, first_subject)]\n",
    "    labels = data.index.get_level_values('contrast').values\n",
    "    tasks = data.index.get_level_values('task').values\n",
    "    labels_list.append(labels)\n",
    "    tasks_list.append(tasks)\n",
    "labels = np.concatenate(labels_list)\n",
    "tasks = np.concatenate(tasks_list)"
   ]
  },
  {
   "cell_type": "code",
   "execution_count": 98,
   "metadata": {
    "collapsed": true
   },
   "outputs": [],
   "source": [
    "from sklearn.metrics import confusion_matrix"
   ]
  },
  {
   "cell_type": "code",
   "execution_count": 99,
   "metadata": {
    "collapsed": false
   },
   "outputs": [],
   "source": [
    "train_conf = confusion_matrix(prediction.loc['train', 'true_label'],\n",
    "                        prediction.loc['train', 'predicted_label'], labels=labels)\n",
    "test_conf = confusion_matrix(prediction.loc['test', 'true_label'],\n",
    "                        prediction.loc['test', 'predicted_label'], labels=labels)"
   ]
  },
  {
   "cell_type": "code",
   "execution_count": 100,
   "metadata": {
    "collapsed": false,
    "scrolled": false
   },
   "outputs": [],
   "source": [
    "plot_confusion_matrix(test_conf, labels)"
   ]
  },
  {
   "cell_type": "code",
   "execution_count": 101,
   "metadata": {
    "collapsed": false,
    "scrolled": false
   },
   "outputs": [
    {
     "data": {
      "text/plain": [
       "dataset  task        contrast            \n",
       "archi    emotional   expression_control      1.000000\n",
       "                     expression_intention    1.000000\n",
       "                     expression_sex          0.333333\n",
       "                     face_control            0.000000\n",
       "                     face_sex                0.333333\n",
       "                     face_trusty             1.000000\n",
       "         localizer   audio                   0.666667\n",
       "                     calculaudio             1.000000\n",
       "                     calculvideo             1.000000\n",
       "                     clicDaudio              0.666667\n",
       "                     clicDvideo              0.333333\n",
       "                     clicGaudio              0.666667\n",
       "                     clicGvideo              0.666667\n",
       "                     computation             0.333333\n",
       "                     damier_H                1.000000\n",
       "                     damier_V                0.666667\n",
       "                     motor-cognitive         1.000000\n",
       "         parietal    object_grasp            1.000000\n",
       "                     object_orientation      0.666667\n",
       "                     rotation_hand           1.000000\n",
       "                     rotation_side           1.000000\n",
       "                     saccade                 1.000000\n",
       "         social      false_belief_audio      1.000000\n",
       "                     false_belief_video      0.666667\n",
       "                     mecanistic_audio        0.666667\n",
       "                     mecanistic_video        1.000000\n",
       "                     non_speech              1.000000\n",
       "                     speech                  1.000000\n",
       "                     triangle_intention      1.000000\n",
       "                     triangle_random         1.000000\n",
       "hcp      EMOTION     FACES                   0.666667\n",
       "                     SHAPES                  0.666667\n",
       "         GAMBLING    PUNISH                  0.333333\n",
       "                     REWARD                  0.666667\n",
       "         LANGUAGE    MATH                    1.000000\n",
       "                     STORY                   1.000000\n",
       "         MOTOR       CUE                     1.000000\n",
       "                     LF                      1.000000\n",
       "                     LH                      1.000000\n",
       "                     RF                      1.000000\n",
       "                     RH                      1.000000\n",
       "         RELATIONAL  MATCH                   0.666667\n",
       "                     REL                     0.333333\n",
       "         SOCIAL      RANDOM                  1.000000\n",
       "                     TOM                     0.666667\n",
       "         WM          0BK_BODY                0.333333\n",
       "                     0BK_FACE                0.666667\n",
       "                     0BK_PLACE               0.666667\n",
       "                     0BK_TOOL                0.666667\n",
       "                     2BK_BODY                0.333333\n",
       "                     2BK_FACE                0.666667\n",
       "                     2BK_PLACE               0.666667\n",
       "                     2BK_TOOL                0.666667\n",
       "Name: match, dtype: float64"
      ]
     },
     "execution_count": 101,
     "metadata": {},
     "output_type": "execute_result"
    }
   ],
   "source": [
    "prediction['match'].groupby(level=['fold', 'dataset', 'task', 'contrast']).apply(np.mean)['test']"
   ]
  },
  {
   "cell_type": "code",
   "execution_count": 102,
   "metadata": {
    "collapsed": false,
    "scrolled": true
   },
   "outputs": [
    {
     "data": {
      "text/plain": [
       "fold   dataset\n",
       "test   archi      0.788889\n",
       "       hcp        0.724638\n",
       "train  archi      0.856790\n",
       "       hcp        0.974235\n",
       "Name: match, dtype: float64"
      ]
     },
     "execution_count": 102,
     "metadata": {},
     "output_type": "execute_result"
    }
   ],
   "source": [
    "prediction['match'].groupby(level=['fold', 'dataset']).apply(np.mean)"
   ]
  },
  {
   "cell_type": "code",
   "execution_count": 92,
   "metadata": {
    "collapsed": false
   },
   "outputs": [],
   "source": [
    "plt.show()"
   ]
  },
  {
   "cell_type": "code",
   "execution_count": 707,
   "metadata": {
    "collapsed": false
   },
   "outputs": [],
   "source": [
    "titles = [\"%s: %s\" % (task, contrast) for task, contrast in zip(tasks, labels)]"
   ]
  },
  {
   "cell_type": "code",
   "execution_count": null,
   "metadata": {
    "collapsed": false,
    "scrolled": true
   },
   "outputs": [
    {
     "ename": "KeyboardInterrupt",
     "evalue": "",
     "output_type": "error",
     "traceback": [
      "\u001b[0;31m---------------------------------------------------------------------------\u001b[0m",
      "\u001b[0;31mKeyboardInterrupt\u001b[0m                         Traceback (most recent call last)",
      "\u001b[0;32m<ipython-input-708-7f27614c5779>\u001b[0m in \u001b[0;36m<module>\u001b[0;34m()\u001b[0m\n\u001b[1;32m     12\u001b[0m \u001b[0;34m\u001b[0m\u001b[0m\n\u001b[1;32m     13\u001b[0m \u001b[0;32mfor\u001b[0m \u001b[0mi\u001b[0m\u001b[0;34m,\u001b[0m \u001b[0mtitle\u001b[0m \u001b[0;32min\u001b[0m \u001b[0mzip\u001b[0m\u001b[0;34m(\u001b[0m\u001b[0mindices\u001b[0m\u001b[0;34m,\u001b[0m \u001b[0mtitles\u001b[0m\u001b[0;34m)\u001b[0m\u001b[0;34m:\u001b[0m\u001b[0;34m\u001b[0m\u001b[0m\n\u001b[0;32m---> 14\u001b[0;31m     \u001b[0mplot_stat_map\u001b[0m\u001b[0;34m(\u001b[0m\u001b[0mindex_img\u001b[0m\u001b[0;34m(\u001b[0m\u001b[0mimgs\u001b[0m\u001b[0;34m,\u001b[0m \u001b[0mi\u001b[0m\u001b[0;34m)\u001b[0m\u001b[0;34m,\u001b[0m \u001b[0mtitle\u001b[0m\u001b[0;34m=\u001b[0m\u001b[0mtitle\u001b[0m\u001b[0;34m,\u001b[0m \u001b[0mthreshold\u001b[0m\u001b[0;34m=\u001b[0m\u001b[0;36m0\u001b[0m\u001b[0;34m)\u001b[0m\u001b[0;34m\u001b[0m\u001b[0m\n\u001b[0m",
      "\u001b[0;32m/storage/store/work/amensch/work/repos/nilearn/nilearn/plotting/img_plotting.py\u001b[0m in \u001b[0;36mplot_stat_map\u001b[0;34m(stat_map_img, bg_img, cut_coords, output_file, display_mode, colorbar, figure, axes, title, threshold, annotate, draw_cross, black_bg, cmap, symmetric_cbar, dim, vmax, **kwargs)\u001b[0m\n\u001b[1;32m    984\u001b[0m                                 \u001b[0mcbar_vmin\u001b[0m\u001b[0;34m=\u001b[0m\u001b[0mcbar_vmin\u001b[0m\u001b[0;34m,\u001b[0m \u001b[0mcbar_vmax\u001b[0m\u001b[0;34m=\u001b[0m\u001b[0mcbar_vmax\u001b[0m\u001b[0;34m,\u001b[0m\u001b[0;34m\u001b[0m\u001b[0m\n\u001b[1;32m    985\u001b[0m                                 \u001b[0mresampling_interpolation\u001b[0m\u001b[0;34m=\u001b[0m\u001b[0;34m'continuous'\u001b[0m\u001b[0;34m,\u001b[0m\u001b[0;34m\u001b[0m\u001b[0m\n\u001b[0;32m--> 986\u001b[0;31m                                 **kwargs)\n\u001b[0m\u001b[1;32m    987\u001b[0m \u001b[0;34m\u001b[0m\u001b[0m\n\u001b[1;32m    988\u001b[0m     \u001b[0;32mreturn\u001b[0m \u001b[0mdisplay\u001b[0m\u001b[0;34m\u001b[0m\u001b[0m\n",
      "\u001b[0;32m/storage/store/work/amensch/work/repos/nilearn/nilearn/plotting/img_plotting.py\u001b[0m in \u001b[0;36m_plot_img_with_bg\u001b[0;34m(img, bg_img, cut_coords, output_file, display_mode, colorbar, figure, axes, title, threshold, annotate, draw_cross, black_bg, vmin, vmax, bg_vmin, bg_vmax, interpolation, display_factory, cbar_vmin, cbar_vmax, **kwargs)\u001b[0m\n\u001b[1;32m    182\u001b[0m                             \u001b[0mthreshold\u001b[0m\u001b[0;34m=\u001b[0m\u001b[0mthreshold\u001b[0m\u001b[0;34m,\u001b[0m \u001b[0minterpolation\u001b[0m\u001b[0;34m=\u001b[0m\u001b[0minterpolation\u001b[0m\u001b[0;34m,\u001b[0m\u001b[0;34m\u001b[0m\u001b[0m\n\u001b[1;32m    183\u001b[0m                             \u001b[0mcolorbar\u001b[0m\u001b[0;34m=\u001b[0m\u001b[0mcolorbar\u001b[0m\u001b[0;34m,\u001b[0m \u001b[0mvmin\u001b[0m\u001b[0;34m=\u001b[0m\u001b[0mvmin\u001b[0m\u001b[0;34m,\u001b[0m \u001b[0mvmax\u001b[0m\u001b[0;34m=\u001b[0m\u001b[0mvmax\u001b[0m\u001b[0;34m,\u001b[0m\u001b[0;34m\u001b[0m\u001b[0m\n\u001b[0;32m--> 184\u001b[0;31m                             **kwargs)\n\u001b[0m\u001b[1;32m    185\u001b[0m \u001b[0;34m\u001b[0m\u001b[0m\n\u001b[1;32m    186\u001b[0m     \u001b[0;32mif\u001b[0m \u001b[0mannotate\u001b[0m\u001b[0;34m:\u001b[0m\u001b[0;34m\u001b[0m\u001b[0m\n",
      "\u001b[0;32m/storage/store/work/amensch/work/repos/nilearn/nilearn/plotting/displays.py\u001b[0m in \u001b[0;36madd_overlay\u001b[0;34m(self, img, threshold, colorbar, **kwargs)\u001b[0m\n\u001b[1;32m    588\u001b[0m         \u001b[0;31m# with plot_stat_map\u001b[0m\u001b[0;34m\u001b[0m\u001b[0;34m\u001b[0m\u001b[0m\n\u001b[1;32m    589\u001b[0m         \u001b[0mkwargs\u001b[0m\u001b[0;34m.\u001b[0m\u001b[0msetdefault\u001b[0m\u001b[0;34m(\u001b[0m\u001b[0;34m'interpolation'\u001b[0m\u001b[0;34m,\u001b[0m \u001b[0;34m'nearest'\u001b[0m\u001b[0;34m)\u001b[0m\u001b[0;34m\u001b[0m\u001b[0m\n\u001b[0;32m--> 590\u001b[0;31m         \u001b[0mims\u001b[0m \u001b[0;34m=\u001b[0m \u001b[0mself\u001b[0m\u001b[0;34m.\u001b[0m\u001b[0m_map_show\u001b[0m\u001b[0;34m(\u001b[0m\u001b[0mimg\u001b[0m\u001b[0;34m,\u001b[0m \u001b[0mtype\u001b[0m\u001b[0;34m=\u001b[0m\u001b[0;34m'imshow'\u001b[0m\u001b[0;34m,\u001b[0m \u001b[0mthreshold\u001b[0m\u001b[0;34m=\u001b[0m\u001b[0mthreshold\u001b[0m\u001b[0;34m,\u001b[0m \u001b[0;34m**\u001b[0m\u001b[0mkwargs\u001b[0m\u001b[0;34m)\u001b[0m\u001b[0;34m\u001b[0m\u001b[0m\n\u001b[0m\u001b[1;32m    591\u001b[0m \u001b[0;34m\u001b[0m\u001b[0m\n\u001b[1;32m    592\u001b[0m         \u001b[0;31m# `ims` can be empty in some corner cases, look at test_img_plotting.test_outlier_cut_coords.\u001b[0m\u001b[0;34m\u001b[0m\u001b[0;34m\u001b[0m\u001b[0m\n",
      "\u001b[0;32m/storage/store/work/amensch/work/repos/nilearn/nilearn/plotting/displays.py\u001b[0m in \u001b[0;36m_map_show\u001b[0;34m(self, img, type, resampling_interpolation, threshold, **kwargs)\u001b[0m\n\u001b[1;32m    652\u001b[0m \u001b[0;34m\u001b[0m\u001b[0m\n\u001b[1;32m    653\u001b[0m         \u001b[0maffine\u001b[0m \u001b[0;34m=\u001b[0m \u001b[0m_utils\u001b[0m\u001b[0;34m.\u001b[0m\u001b[0mcompat\u001b[0m\u001b[0;34m.\u001b[0m\u001b[0mget_affine\u001b[0m\u001b[0;34m(\u001b[0m\u001b[0mimg\u001b[0m\u001b[0;34m)\u001b[0m\u001b[0;34m\u001b[0m\u001b[0m\n\u001b[0;32m--> 654\u001b[0;31m         \u001b[0mdata\u001b[0m \u001b[0;34m=\u001b[0m \u001b[0m_utils\u001b[0m\u001b[0;34m.\u001b[0m\u001b[0mniimg\u001b[0m\u001b[0;34m.\u001b[0m\u001b[0m_safe_get_data\u001b[0m\u001b[0;34m(\u001b[0m\u001b[0mimg\u001b[0m\u001b[0;34m,\u001b[0m \u001b[0mensure_finite\u001b[0m\u001b[0;34m=\u001b[0m\u001b[0;32mTrue\u001b[0m\u001b[0;34m)\u001b[0m\u001b[0;34m\u001b[0m\u001b[0m\n\u001b[0m\u001b[1;32m    655\u001b[0m         \u001b[0mdata_bounds\u001b[0m \u001b[0;34m=\u001b[0m \u001b[0mget_bounds\u001b[0m\u001b[0;34m(\u001b[0m\u001b[0mdata\u001b[0m\u001b[0;34m.\u001b[0m\u001b[0mshape\u001b[0m\u001b[0;34m,\u001b[0m \u001b[0maffine\u001b[0m\u001b[0;34m)\u001b[0m\u001b[0;34m\u001b[0m\u001b[0m\n\u001b[1;32m    656\u001b[0m         \u001b[0;34m(\u001b[0m\u001b[0mxmin\u001b[0m\u001b[0;34m,\u001b[0m \u001b[0mxmax\u001b[0m\u001b[0;34m)\u001b[0m\u001b[0;34m,\u001b[0m \u001b[0;34m(\u001b[0m\u001b[0mymin\u001b[0m\u001b[0;34m,\u001b[0m \u001b[0mymax\u001b[0m\u001b[0;34m)\u001b[0m\u001b[0;34m,\u001b[0m \u001b[0;34m(\u001b[0m\u001b[0mzmin\u001b[0m\u001b[0;34m,\u001b[0m \u001b[0mzmax\u001b[0m\u001b[0;34m)\u001b[0m \u001b[0;34m=\u001b[0m \u001b[0mdata_bounds\u001b[0m\u001b[0;34m\u001b[0m\u001b[0m\n",
      "\u001b[0;32m/storage/store/work/amensch/work/repos/nilearn/nilearn/_utils/niimg.py\u001b[0m in \u001b[0;36m_safe_get_data\u001b[0;34m(img, ensure_finite)\u001b[0m\n\u001b[1;32m     39\u001b[0m     \u001b[0;31m# typically the line below can double memory usage\u001b[0m\u001b[0;34m\u001b[0m\u001b[0;34m\u001b[0m\u001b[0m\n\u001b[1;32m     40\u001b[0m     \u001b[0;31m# that's why we invoke a forced call to the garbage collector\u001b[0m\u001b[0;34m\u001b[0m\u001b[0;34m\u001b[0m\u001b[0m\n\u001b[0;32m---> 41\u001b[0;31m     \u001b[0mgc\u001b[0m\u001b[0;34m.\u001b[0m\u001b[0mcollect\u001b[0m\u001b[0;34m(\u001b[0m\u001b[0;34m)\u001b[0m\u001b[0;34m\u001b[0m\u001b[0m\n\u001b[0m\u001b[1;32m     42\u001b[0m \u001b[0;34m\u001b[0m\u001b[0m\n\u001b[1;32m     43\u001b[0m     \u001b[0mdata\u001b[0m \u001b[0;34m=\u001b[0m \u001b[0mimg\u001b[0m\u001b[0;34m.\u001b[0m\u001b[0mget_data\u001b[0m\u001b[0;34m(\u001b[0m\u001b[0;34m)\u001b[0m\u001b[0;34m\u001b[0m\u001b[0m\n",
      "\u001b[0;31mKeyboardInterrupt\u001b[0m: "
     ]
    },
    {
     "name": "stderr",
     "output_type": "stream",
     "text": [
      "ERROR:tornado.general:Uncaught exception, closing connection.\n",
      "Traceback (most recent call last):\n",
      "  File \"/home/parietal/amensch/opt/miniconda3/lib/python3.6/site-packages/zmq/eventloop/zmqstream.py\", line 414, in _run_callback\n",
      "    callback(*args, **kwargs)\n",
      "  File \"/home/parietal/amensch/opt/miniconda3/lib/python3.6/site-packages/tornado/stack_context.py\", line 275, in null_wrapper\n",
      "    return fn(*args, **kwargs)\n",
      "  File \"/home/parietal/amensch/opt/miniconda3/lib/python3.6/site-packages/ipykernel/kernelbase.py\", line 276, in dispatcher\n",
      "    return self.dispatch_shell(stream, msg)\n",
      "  File \"/home/parietal/amensch/opt/miniconda3/lib/python3.6/site-packages/ipykernel/kernelbase.py\", line 228, in dispatch_shell\n",
      "    handler(stream, idents, msg)\n",
      "  File \"/home/parietal/amensch/opt/miniconda3/lib/python3.6/site-packages/ipykernel/kernelbase.py\", line 390, in execute_request\n",
      "    user_expressions, allow_stdin)\n",
      "  File \"/home/parietal/amensch/opt/miniconda3/lib/python3.6/site-packages/ipykernel/ipkernel.py\", line 196, in do_execute\n",
      "    res = shell.run_cell(code, store_history=store_history, silent=silent)\n",
      "  File \"/home/parietal/amensch/opt/miniconda3/lib/python3.6/site-packages/ipykernel/zmqshell.py\", line 501, in run_cell\n",
      "    return super(ZMQInteractiveShell, self).run_cell(*args, **kwargs)\n",
      "  File \"/home/parietal/amensch/opt/miniconda3/lib/python3.6/site-packages/IPython/core/interactiveshell.py\", line 2725, in run_cell\n",
      "    self.events.trigger('post_execute')\n",
      "  File \"/home/parietal/amensch/opt/miniconda3/lib/python3.6/site-packages/IPython/core/events.py\", line 74, in trigger\n",
      "    func(*args, **kwargs)\n",
      "  File \"/home/parietal/amensch/opt/miniconda3/lib/python3.6/site-packages/ipykernel/pylab/backend_inline.py\", line 113, in flush_figures\n",
      "    return show(True)\n",
      "  File \"/home/parietal/amensch/opt/miniconda3/lib/python3.6/site-packages/ipykernel/pylab/backend_inline.py\", line 36, in show\n",
      "    display(figure_manager.canvas.figure)\n",
      "  File \"/home/parietal/amensch/opt/miniconda3/lib/python3.6/site-packages/IPython/core/display.py\", line 164, in display\n",
      "    format_dict, md_dict = format(obj, include=include, exclude=exclude)\n",
      "  File \"/home/parietal/amensch/opt/miniconda3/lib/python3.6/site-packages/IPython/core/formatters.py\", line 145, in format\n",
      "    data = formatter(obj)\n",
      "  File \"<decorator-gen-9>\", line 2, in __call__\n",
      "  File \"/home/parietal/amensch/opt/miniconda3/lib/python3.6/site-packages/IPython/core/formatters.py\", line 190, in catch_format_error\n",
      "    r = method(self, *args, **kwargs)\n",
      "  File \"/home/parietal/amensch/opt/miniconda3/lib/python3.6/site-packages/IPython/core/formatters.py\", line 307, in __call__\n",
      "    return printer(obj)\n",
      "  File \"/home/parietal/amensch/opt/miniconda3/lib/python3.6/site-packages/IPython/core/pylabtools.py\", line 227, in <lambda>\n",
      "    png_formatter.for_type(Figure, lambda fig: print_figure(fig, 'png', **kwargs))\n",
      "  File \"/home/parietal/amensch/opt/miniconda3/lib/python3.6/site-packages/IPython/core/pylabtools.py\", line 119, in print_figure\n",
      "    fig.canvas.print_figure(bytes_io, **kw)\n",
      "  File \"/home/parietal/amensch/opt/miniconda3/lib/python3.6/site-packages/matplotlib/backend_bases.py\", line 2244, in print_figure\n",
      "    **kwargs)\n",
      "  File \"/home/parietal/amensch/opt/miniconda3/lib/python3.6/site-packages/matplotlib/backends/backend_agg.py\", line 545, in print_png\n",
      "    FigureCanvasAgg.draw(self)\n",
      "  File \"/home/parietal/amensch/opt/miniconda3/lib/python3.6/site-packages/matplotlib/backends/backend_agg.py\", line 464, in draw\n",
      "    self.figure.draw(self.renderer)\n",
      "  File \"/home/parietal/amensch/opt/miniconda3/lib/python3.6/site-packages/matplotlib/artist.py\", line 63, in draw_wrapper\n",
      "    draw(artist, renderer, *args, **kwargs)\n",
      "  File \"/home/parietal/amensch/opt/miniconda3/lib/python3.6/site-packages/matplotlib/figure.py\", line 1143, in draw\n",
      "    renderer, self, dsu, self.suppressComposite)\n",
      "  File \"/home/parietal/amensch/opt/miniconda3/lib/python3.6/site-packages/matplotlib/image.py\", line 139, in _draw_list_compositing_images\n",
      "    a.draw(renderer)\n",
      "  File \"/home/parietal/amensch/opt/miniconda3/lib/python3.6/site-packages/matplotlib/artist.py\", line 63, in draw_wrapper\n",
      "    draw(artist, renderer, *args, **kwargs)\n",
      "  File \"/home/parietal/amensch/opt/miniconda3/lib/python3.6/site-packages/matplotlib/axes/_base.py\", line 2409, in draw\n",
      "    mimage._draw_list_compositing_images(renderer, self, dsu)\n",
      "  File \"/home/parietal/amensch/opt/miniconda3/lib/python3.6/site-packages/matplotlib/image.py\", line 139, in _draw_list_compositing_images\n",
      "    a.draw(renderer)\n",
      "  File \"/home/parietal/amensch/opt/miniconda3/lib/python3.6/site-packages/matplotlib/artist.py\", line 63, in draw_wrapper\n",
      "    draw(artist, renderer, *args, **kwargs)\n",
      "  File \"/home/parietal/amensch/opt/miniconda3/lib/python3.6/site-packages/matplotlib/image.py\", line 495, in draw\n",
      "    renderer, renderer.get_image_magnification())\n",
      "  File \"/home/parietal/amensch/opt/miniconda3/lib/python3.6/site-packages/matplotlib/image.py\", line 719, in make_image\n",
      "    unsampled=unsampled)\n",
      "  File \"/home/parietal/amensch/opt/miniconda3/lib/python3.6/site-packages/matplotlib/image.py\", line 376, in _make_image\n",
      "    rgba[..., 3] = ~A.mask  # bad data\n",
      "KeyboardInterrupt\n",
      "ERROR:tornado.general:Uncaught exception, closing connection.\n",
      "Traceback (most recent call last):\n",
      "  File \"/home/parietal/amensch/opt/miniconda3/lib/python3.6/site-packages/zmq/eventloop/zmqstream.py\", line 440, in _handle_events\n",
      "    self._handle_recv()\n",
      "  File \"/home/parietal/amensch/opt/miniconda3/lib/python3.6/site-packages/zmq/eventloop/zmqstream.py\", line 472, in _handle_recv\n",
      "    self._run_callback(callback, msg)\n",
      "  File \"/home/parietal/amensch/opt/miniconda3/lib/python3.6/site-packages/zmq/eventloop/zmqstream.py\", line 414, in _run_callback\n",
      "    callback(*args, **kwargs)\n",
      "  File \"/home/parietal/amensch/opt/miniconda3/lib/python3.6/site-packages/tornado/stack_context.py\", line 275, in null_wrapper\n",
      "    return fn(*args, **kwargs)\n",
      "  File \"/home/parietal/amensch/opt/miniconda3/lib/python3.6/site-packages/ipykernel/kernelbase.py\", line 276, in dispatcher\n",
      "    return self.dispatch_shell(stream, msg)\n",
      "  File \"/home/parietal/amensch/opt/miniconda3/lib/python3.6/site-packages/ipykernel/kernelbase.py\", line 228, in dispatch_shell\n",
      "    handler(stream, idents, msg)\n",
      "  File \"/home/parietal/amensch/opt/miniconda3/lib/python3.6/site-packages/ipykernel/kernelbase.py\", line 390, in execute_request\n",
      "    user_expressions, allow_stdin)\n",
      "  File \"/home/parietal/amensch/opt/miniconda3/lib/python3.6/site-packages/ipykernel/ipkernel.py\", line 196, in do_execute\n",
      "    res = shell.run_cell(code, store_history=store_history, silent=silent)\n",
      "  File \"/home/parietal/amensch/opt/miniconda3/lib/python3.6/site-packages/ipykernel/zmqshell.py\", line 501, in run_cell\n",
      "    return super(ZMQInteractiveShell, self).run_cell(*args, **kwargs)\n",
      "  File \"/home/parietal/amensch/opt/miniconda3/lib/python3.6/site-packages/IPython/core/interactiveshell.py\", line 2725, in run_cell\n",
      "    self.events.trigger('post_execute')\n",
      "  File \"/home/parietal/amensch/opt/miniconda3/lib/python3.6/site-packages/IPython/core/events.py\", line 74, in trigger\n",
      "    func(*args, **kwargs)\n",
      "  File \"/home/parietal/amensch/opt/miniconda3/lib/python3.6/site-packages/ipykernel/pylab/backend_inline.py\", line 113, in flush_figures\n",
      "    return show(True)\n",
      "  File \"/home/parietal/amensch/opt/miniconda3/lib/python3.6/site-packages/ipykernel/pylab/backend_inline.py\", line 36, in show\n",
      "    display(figure_manager.canvas.figure)\n",
      "  File \"/home/parietal/amensch/opt/miniconda3/lib/python3.6/site-packages/IPython/core/display.py\", line 164, in display\n",
      "    format_dict, md_dict = format(obj, include=include, exclude=exclude)\n",
      "  File \"/home/parietal/amensch/opt/miniconda3/lib/python3.6/site-packages/IPython/core/formatters.py\", line 145, in format\n",
      "    data = formatter(obj)\n",
      "  File \"<decorator-gen-9>\", line 2, in __call__\n",
      "  File \"/home/parietal/amensch/opt/miniconda3/lib/python3.6/site-packages/IPython/core/formatters.py\", line 190, in catch_format_error\n",
      "    r = method(self, *args, **kwargs)\n",
      "  File \"/home/parietal/amensch/opt/miniconda3/lib/python3.6/site-packages/IPython/core/formatters.py\", line 307, in __call__\n",
      "    return printer(obj)\n",
      "  File \"/home/parietal/amensch/opt/miniconda3/lib/python3.6/site-packages/IPython/core/pylabtools.py\", line 227, in <lambda>\n",
      "    png_formatter.for_type(Figure, lambda fig: print_figure(fig, 'png', **kwargs))\n",
      "  File \"/home/parietal/amensch/opt/miniconda3/lib/python3.6/site-packages/IPython/core/pylabtools.py\", line 119, in print_figure\n",
      "    fig.canvas.print_figure(bytes_io, **kw)\n",
      "  File \"/home/parietal/amensch/opt/miniconda3/lib/python3.6/site-packages/matplotlib/backend_bases.py\", line 2244, in print_figure\n",
      "    **kwargs)\n",
      "  File \"/home/parietal/amensch/opt/miniconda3/lib/python3.6/site-packages/matplotlib/backends/backend_agg.py\", line 545, in print_png\n",
      "    FigureCanvasAgg.draw(self)\n",
      "  File \"/home/parietal/amensch/opt/miniconda3/lib/python3.6/site-packages/matplotlib/backends/backend_agg.py\", line 464, in draw\n",
      "    self.figure.draw(self.renderer)\n",
      "  File \"/home/parietal/amensch/opt/miniconda3/lib/python3.6/site-packages/matplotlib/artist.py\", line 63, in draw_wrapper\n",
      "    draw(artist, renderer, *args, **kwargs)\n",
      "  File \"/home/parietal/amensch/opt/miniconda3/lib/python3.6/site-packages/matplotlib/figure.py\", line 1143, in draw\n",
      "    renderer, self, dsu, self.suppressComposite)\n",
      "  File \"/home/parietal/amensch/opt/miniconda3/lib/python3.6/site-packages/matplotlib/image.py\", line 139, in _draw_list_compositing_images\n",
      "    a.draw(renderer)\n",
      "  File \"/home/parietal/amensch/opt/miniconda3/lib/python3.6/site-packages/matplotlib/artist.py\", line 63, in draw_wrapper\n",
      "    draw(artist, renderer, *args, **kwargs)\n",
      "  File \"/home/parietal/amensch/opt/miniconda3/lib/python3.6/site-packages/matplotlib/axes/_base.py\", line 2409, in draw\n",
      "    mimage._draw_list_compositing_images(renderer, self, dsu)\n",
      "  File \"/home/parietal/amensch/opt/miniconda3/lib/python3.6/site-packages/matplotlib/image.py\", line 139, in _draw_list_compositing_images\n",
      "    a.draw(renderer)\n",
      "  File \"/home/parietal/amensch/opt/miniconda3/lib/python3.6/site-packages/matplotlib/artist.py\", line 63, in draw_wrapper\n",
      "    draw(artist, renderer, *args, **kwargs)\n",
      "  File \"/home/parietal/amensch/opt/miniconda3/lib/python3.6/site-packages/matplotlib/image.py\", line 495, in draw\n",
      "    renderer, renderer.get_image_magnification())\n",
      "  File \"/home/parietal/amensch/opt/miniconda3/lib/python3.6/site-packages/matplotlib/image.py\", line 719, in make_image\n",
      "    unsampled=unsampled)\n",
      "  File \"/home/parietal/amensch/opt/miniconda3/lib/python3.6/site-packages/matplotlib/image.py\", line 376, in _make_image\n",
      "    rgba[..., 3] = ~A.mask  # bad data\n",
      "KeyboardInterrupt\n"
     ]
    }
   ],
   "source": [
    "%matplotlib inline\n",
    "from nilearn.plotting import plot_stat_map\n",
    "from nilearn.image import index_img\n",
    "from nilearn._utils import check_niimg\n",
    "\n",
    "indices = label_encoder.transform(labels)\n",
    "\n",
    "imgs = check_niimg(imgs)\n",
    "imgs.get_data()\n",
    "\n",
    "plt.close('all')\n",
    "\n",
    "for i, title in zip(indices, titles):\n",
    "    plot_stat_map(index_img(imgs, i), title=title, threshold=0)"
   ]
  },
  {
   "cell_type": "code",
   "execution_count": null,
   "metadata": {
    "collapsed": false
   },
   "outputs": [],
   "source": [
    "indices = label_encoder.transform(labels)\n",
    "ncoef = coef[indices]\n",
    "S = np.sqrt((ncoef ** 2).sum(axis=1))\n",
    "ncoef = ncoef / S[:, np.newaxis]"
   ]
  },
  {
   "cell_type": "code",
   "execution_count": null,
   "metadata": {
    "collapsed": false,
    "scrolled": true
   },
   "outputs": [],
   "source": [
    "G = ncoef.dot(ncoef.T)\n",
    "plot_gram_matrix(G, labels)"
   ]
  },
  {
   "cell_type": "code",
   "execution_count": 619,
   "metadata": {
    "collapsed": false
   },
   "outputs": [
    {
     "data": {
      "text/plain": [
       "(0.0, 0.0)"
      ]
     },
     "execution_count": 619,
     "metadata": {},
     "output_type": "execute_result"
    }
   ],
   "source": [
    "np.mean(w0 == 0),np.mean(w1 == 0)"
   ]
  },
  {
   "cell_type": "code",
   "execution_count": 620,
   "metadata": {
    "collapsed": false
   },
   "outputs": [
    {
     "data": {
      "text/plain": [
       "(array([   34,   223,  1099,  4358,  8492, 10087,  6574,  2116,   493,   124]),\n",
       " array([ -5.41468558e-04,  -4.37985052e-04,  -3.34501546e-04,\n",
       "         -2.31018040e-04,  -1.27534533e-04,  -2.40510271e-05,\n",
       "          7.94324791e-05,   1.82915985e-04,   2.86399492e-04,\n",
       "          3.89882998e-04,   4.93366504e-04]))"
      ]
     },
     "execution_count": 620,
     "metadata": {},
     "output_type": "execute_result"
    }
   ],
   "source": [
    "np.histogram(w1)"
   ]
  },
  {
   "cell_type": "code",
   "execution_count": 623,
   "metadata": {
    "collapsed": false,
    "scrolled": false
   },
   "outputs": [
    {
     "data": {
      "image/png": "[encoded data removed]",
      "text/plain": [
       "<matplotlib.figure.Figure at 0x7fbf68debd30>"
      ]
     },
     "metadata": {},
     "output_type": "display_data"
    }
   ],
   "source": [
    "%matplotlib inline\n",
    "n, bins, patches = plt.hist(w1.ravel(), bins=100, log=True)\n",
    "plt.xscale('log')"
   ]
  },
  {
   "cell_type": "code",
   "execution_count": null,
   "metadata": {
    "collapsed": false
   },
   "outputs": [],
   "source": [
    "w1.ravel()[:300]"
   ]
  },
  {
   "cell_type": "code",
   "execution_count": null,
   "metadata": {
    "collapsed": false
   },
   "outputs": [],
   "source": [
    "(np.abs(coef[indices,:16]).sum())"
   ]
  },
  {
   "cell_type": "code",
   "execution_count": null,
   "metadata": {
    "collapsed": false
   },
   "outputs": [],
   "source": [
    "(np.abs(coef[indices,16:80])).sum()"
   ]
  },
  {
   "cell_type": "code",
   "execution_count": null,
   "metadata": {
    "collapsed": false
   },
   "outputs": [],
   "source": [
    "np.abs(coef[indices,80:80 + 256]).sum()"
   ]
  },
  {
   "cell_type": "code",
   "execution_count": null,
   "metadata": {
    "collapsed": false
   },
   "outputs": [],
   "source": [
    "np.mean(coef[indices, :16] == 0)"
   ]
  },
  {
   "cell_type": "code",
   "execution_count": null,
   "metadata": {
    "collapsed": false
   },
   "outputs": [],
   "source": [
    "np.mean(coef[indices, 16:80] == 0)"
   ]
  },
  {
   "cell_type": "code",
   "execution_count": null,
   "metadata": {
    "collapsed": false
   },
   "outputs": [],
   "source": [
    "np.mean(coef[indices, 80:256] == 0)"
   ]
  },
  {
   "cell_type": "code",
   "execution_count": null,
   "metadata": {
    "collapsed": true
   },
   "outputs": [],
   "source": []
  },
  {
   "cell_type": "code",
   "execution_count": null,
   "metadata": {
    "collapsed": true
   },
   "outputs": [],
   "source": []
  },
  {
   "cell_type": "code",
   "execution_count": null,
   "metadata": {
    "collapsed": true
   },
   "outputs": [],
   "source": []
  },
  {
   "cell_type": "code",
   "execution_count": null,
   "metadata": {
    "collapsed": true
   },
   "outputs": [],
   "source": []
  }
 ],
 "metadata": {
  "kernelspec": {
   "display_name": "Python 3",
   "language": "python",
   "name": "python3"
  },
  "language_info": {
   "codemirror_mode": {
    "name": "ipython",
    "version": 3
   },
   "file_extension": ".py",
   "mimetype": "text/x-python",
   "name": "python",
   "nbconvert_exporter": "python",
   "pygments_lexer": "ipython3",
   "version": "3.6.0"
  }
 },
 "nbformat": 4,
 "nbformat_minor": 0
}
