{
 "cells": [
  {
   "cell_type": "code",
   "execution_count": 690,
   "metadata": {
    "collapsed": false
   },
   "outputs": [
    {
     "name": "stdout",
     "output_type": "stream",
     "text": [
      "/storage/store/work/amensch/data/modl_data/pipeline/contrast/prediction/719\n"
     ]
    }
   ],
   "source": [
    "cd ~/data/modl_data/pipeline/contrast/prediction/719/"
   ]
  },
  {
   "cell_type": "code",
   "execution_count": 691,
   "metadata": {
    "collapsed": true
   },
   "outputs": [],
   "source": [
    "from sklearn.externals.joblib import load\n",
    "from sklearn.pipeline import Pipeline\n",
    "import pandas as pd\n",
    "\n",
    "from nilearn.input_data import MultiNiftiMasker\n",
    "from nilearn.datasets import load_mni152_brain_mask\n",
    "from modl.datasets.hcp import fetch_hcp"
   ]
  },
  {
   "cell_type": "code",
   "execution_count": 692,
   "metadata": {
    "collapsed": true
   },
   "outputs": [],
   "source": [
    "def plot_confusion_matrix(conf_arr, labels):\n",
    "\n",
    "    fig = plt.figure(figsize=(8, 8))\n",
    "    plt.clf()\n",
    "    ax = fig.add_subplot(111)\n",
    "    ax.set_aspect(1)\n",
    "    \n",
    "    S = conf_arr.sum(axis=0)\n",
    "    S[S == 0] = 1\n",
    "    conf_arr = conf_arr / S\n",
    "    \n",
    "    res = ax.imshow(conf_arr,\n",
    "                interpolation='nearest')\n",
    "\n",
    "    width, height = conf_arr.shape\n",
    "\n",
    "    plt.xticks(range(width))\n",
    "    plt.yticks(range(height))\n",
    "    ax.set_yticklabels(labels)\n",
    "    ax.set_xticklabels(labels, rotation=90)\n",
    "    fig.colorbar(res)\n",
    "    \n",
    "def plot_gram_matrix(G, labels):\n",
    "    fig = plt.figure(figsize=(8, 8))\n",
    "    plt.clf()\n",
    "    ax = fig.add_subplot(111)\n",
    "    ax.set_aspect(1)\n",
    "    res = ax.imshow(G,\n",
    "                interpolation='nearest')\n",
    "\n",
    "    width, height = G.shape\n",
    "\n",
    "    plt.xticks(range(width))\n",
    "    plt.yticks(range(height))\n",
    "    ax.set_yticklabels(labels)\n",
    "    ax.set_xticklabels(labels, rotation=90)\n",
    "    fig.colorbar(res)"
   ]
  },
  {
   "cell_type": "code",
   "execution_count": 693,
   "metadata": {
    "collapsed": false
   },
   "outputs": [
    {
     "name": "stderr",
     "output_type": "stream",
     "text": [
      "/home/parietal/amensch/opt/miniconda3/lib/python3.6/site-packages/keras/models.py:150: UserWarning: No training configuration found in save file: the model was *not* compiled. Compile it manually.\n",
      "  warnings.warn('No training configuration found in save file: '\n"
     ]
    }
   ],
   "source": [
    "estimator = load('estimator.pkl')\n",
    "label_encoder = load('label_encoder.pkl')\n",
    "prediction = pd.read_csv('prediction.csv')\n",
    "\n",
    "pipeline = Pipeline(estimator.steps[:-1])"
   ]
  },
  {
   "cell_type": "code",
   "execution_count": 694,
   "metadata": {
    "collapsed": false
   },
   "outputs": [],
   "source": [
    "model = estimator.steps[-1][1].stacked_model_\n",
    "\n",
    "supervised_layers =  model.layers_by_depth[2]\n",
    "embedding_layer =  model.layers_by_depth[3][0]\n",
    "\n",
    "w0 = []\n",
    "for layer in supervised_layers:\n",
    "    this_w0, this_b0 = layer.get_weights()\n",
    "    w0.append(this_w0)\n",
    "w0 = np.concatenate(w0, axis=1)\n",
    "w1 = embedding_layer.get_weights()[0]\n",
    "\n",
    "coef = w1.dot(w0).T\n",
    "intercept = b0"
   ]
  },
  {
   "cell_type": "code",
   "execution_count": 695,
   "metadata": {
    "collapsed": false
   },
   "outputs": [
    {
     "name": "stdout",
     "output_type": "stream",
     "text": [
      "Sparsity 0.0\n"
     ]
    }
   ],
   "source": [
    "print('Sparsity', (coef == 0).sum() / coef.size)"
   ]
  },
  {
   "cell_type": "code",
   "execution_count": 696,
   "metadata": {
    "collapsed": false
   },
   "outputs": [
    {
     "name": "stdout",
     "output_type": "stream",
     "text": [
      "Shape (91, 109, 91, 53)\n"
     ]
    }
   ],
   "source": [
    "pipeline.named_steps['feature_importance'].feature_importance[:] = 1\n",
    "maps = pipeline.inverse_transform(coef)\n",
    "\n",
    "mask = fetch_hcp(n_subjects=1).mask\n",
    "masker = MultiNiftiMasker(mask_img=mask).fit()\n",
    "imgs = masker.inverse_transform(maps)\n",
    "\n",
    "print('Shape', imgs.shape)"
   ]
  },
  {
   "cell_type": "code",
   "execution_count": 697,
   "metadata": {
    "collapsed": false
   },
   "outputs": [],
   "source": [
    "match = prediction['true_label'] == prediction['predicted_label']\n",
    "prediction = prediction.assign(match=match)\n",
    "prediction.set_index(['fold', 'dataset', 'subject', 'task', 'contrast', 'direction'], inplace=True)\n",
    "prediction.sort_index(inplace=True)\n",
    "datasets = prediction.index.get_level_values('dataset').unique().values"
   ]
  },
  {
   "cell_type": "code",
   "execution_count": 698,
   "metadata": {
    "collapsed": false
   },
   "outputs": [
    {
     "data": {
      "text/plain": [
       "array(['archi', 'hcp'], dtype=object)"
      ]
     },
     "execution_count": 698,
     "metadata": {},
     "output_type": "execute_result"
    }
   ],
   "source": [
    "datasets"
   ]
  },
  {
   "cell_type": "code",
   "execution_count": 699,
   "metadata": {
    "collapsed": false,
    "scrolled": true
   },
   "outputs": [],
   "source": [
    "labels_list = []\n",
    "tasks_list = []\n",
    "for dataset in datasets:\n",
    "    first_subject = prediction.loc['test', dataset].index.get_level_values('subject')[0]\n",
    "    data = prediction.loc[('test', dataset, first_subject)]\n",
    "    labels = data.index.get_level_values('contrast').values\n",
    "    tasks = data.index.get_level_values('task').values\n",
    "    labels_list.append(labels)\n",
    "    tasks_list.append(tasks)\n",
    "labels = np.concatenate(labels_list)\n",
    "tasks = np.concatenate(tasks_list)"
   ]
  },
  {
   "cell_type": "code",
   "execution_count": 700,
   "metadata": {
    "collapsed": true
   },
   "outputs": [],
   "source": [
    "from sklearn.metrics import confusion_matrix"
   ]
  },
  {
   "cell_type": "code",
   "execution_count": 704,
   "metadata": {
    "collapsed": false
   },
   "outputs": [
    {
     "data": {
      "text/html": [
       "<div>\n",
       "<table border=\"1\" class=\"dataframe\">\n",
       "  <thead>\n",
       "    <tr style=\"text-align: right;\">\n",
       "      <th></th>\n",
       "      <th></th>\n",
       "      <th></th>\n",
       "      <th></th>\n",
       "      <th></th>\n",
       "      <th>predicted_label</th>\n",
       "      <th>true_label</th>\n",
       "      <th>match</th>\n",
       "    </tr>\n",
       "    <tr>\n",
       "      <th>dataset</th>\n",
       "      <th>subject</th>\n",
       "      <th>task</th>\n",
       "      <th>contrast</th>\n",
       "      <th>direction</th>\n",
       "      <th></th>\n",
       "      <th></th>\n",
       "      <th></th>\n",
       "    </tr>\n",
       "  </thead>\n",
       "  <tbody>\n",
       "    <tr>\n",
       "      <th rowspan=\"30\" valign=\"top\">archi</th>\n",
       "      <th rowspan=\"30\" valign=\"top\">1</th>\n",
       "      <th rowspan=\"6\" valign=\"top\">emotional</th>\n",
       "      <th>expression_control</th>\n",
       "      <th>level1</th>\n",
       "      <td>triangle_random</td>\n",
       "      <td>expression_control</td>\n",
       "      <td>False</td>\n",
       "    </tr>\n",
       "    <tr>\n",
       "      <th>expression_intention</th>\n",
       "      <th>level1</th>\n",
       "      <td>triangle_intention</td>\n",
       "      <td>expression_intention</td>\n",
       "      <td>False</td>\n",
       "    </tr>\n",
       "    <tr>\n",
       "      <th>expression_sex</th>\n",
       "      <th>level1</th>\n",
       "      <td>false_belief_video</td>\n",
       "      <td>expression_sex</td>\n",
       "      <td>False</td>\n",
       "    </tr>\n",
       "    <tr>\n",
       "      <th>face_control</th>\n",
       "      <th>level1</th>\n",
       "      <td>triangle_random</td>\n",
       "      <td>face_control</td>\n",
       "      <td>False</td>\n",
       "    </tr>\n",
       "    <tr>\n",
       "      <th>face_sex</th>\n",
       "      <th>level1</th>\n",
       "      <td>triangle_random</td>\n",
       "      <td>face_sex</td>\n",
       "      <td>False</td>\n",
       "    </tr>\n",
       "    <tr>\n",
       "      <th>face_trusty</th>\n",
       "      <th>level1</th>\n",
       "      <td>triangle_intention</td>\n",
       "      <td>face_trusty</td>\n",
       "      <td>False</td>\n",
       "    </tr>\n",
       "    <tr>\n",
       "      <th rowspan=\"11\" valign=\"top\">localizer</th>\n",
       "      <th>audio</th>\n",
       "      <th>level1</th>\n",
       "      <td>non_speech</td>\n",
       "      <td>audio</td>\n",
       "      <td>False</td>\n",
       "    </tr>\n",
       "    <tr>\n",
       "      <th>calculaudio</th>\n",
       "      <th>level1</th>\n",
       "      <td>triangle_random</td>\n",
       "      <td>calculaudio</td>\n",
       "      <td>False</td>\n",
       "    </tr>\n",
       "    <tr>\n",
       "      <th>calculvideo</th>\n",
       "      <th>level1</th>\n",
       "      <td>triangle_random</td>\n",
       "      <td>calculvideo</td>\n",
       "      <td>False</td>\n",
       "    </tr>\n",
       "    <tr>\n",
       "      <th>clicDaudio</th>\n",
       "      <th>level1</th>\n",
       "      <td>non_speech</td>\n",
       "      <td>clicDaudio</td>\n",
       "      <td>False</td>\n",
       "    </tr>\n",
       "    <tr>\n",
       "      <th>clicDvideo</th>\n",
       "      <th>level1</th>\n",
       "      <td>non_speech</td>\n",
       "      <td>clicDvideo</td>\n",
       "      <td>False</td>\n",
       "    </tr>\n",
       "    <tr>\n",
       "      <th>clicGaudio</th>\n",
       "      <th>level1</th>\n",
       "      <td>non_speech</td>\n",
       "      <td>clicGaudio</td>\n",
       "      <td>False</td>\n",
       "    </tr>\n",
       "    <tr>\n",
       "      <th>clicGvideo</th>\n",
       "      <th>level1</th>\n",
       "      <td>non_speech</td>\n",
       "      <td>clicGvideo</td>\n",
       "      <td>False</td>\n",
       "    </tr>\n",
       "    <tr>\n",
       "      <th>computation</th>\n",
       "      <th>level1</th>\n",
       "      <td>triangle_random</td>\n",
       "      <td>computation</td>\n",
       "      <td>False</td>\n",
       "    </tr>\n",
       "    <tr>\n",
       "      <th>damier_H</th>\n",
       "      <th>level1</th>\n",
       "      <td>false_belief_video</td>\n",
       "      <td>damier_H</td>\n",
       "      <td>False</td>\n",
       "    </tr>\n",
       "    <tr>\n",
       "      <th>damier_V</th>\n",
       "      <th>level1</th>\n",
       "      <td>false_belief_video</td>\n",
       "      <td>damier_V</td>\n",
       "      <td>False</td>\n",
       "    </tr>\n",
       "    <tr>\n",
       "      <th>motor-cognitive</th>\n",
       "      <th>level1</th>\n",
       "      <td>mecanistic_audio</td>\n",
       "      <td>motor-cognitive</td>\n",
       "      <td>False</td>\n",
       "    </tr>\n",
       "    <tr>\n",
       "      <th rowspan=\"5\" valign=\"top\">parietal</th>\n",
       "      <th>object_grasp</th>\n",
       "      <th>level1</th>\n",
       "      <td>triangle_random</td>\n",
       "      <td>object_grasp</td>\n",
       "      <td>False</td>\n",
       "    </tr>\n",
       "    <tr>\n",
       "      <th>object_orientation</th>\n",
       "      <th>level1</th>\n",
       "      <td>false_belief_audio</td>\n",
       "      <td>object_orientation</td>\n",
       "      <td>False</td>\n",
       "    </tr>\n",
       "    <tr>\n",
       "      <th>rotation_hand</th>\n",
       "      <th>level1</th>\n",
       "      <td>false_belief_audio</td>\n",
       "      <td>rotation_hand</td>\n",
       "      <td>False</td>\n",
       "    </tr>\n",
       "    <tr>\n",
       "      <th>rotation_side</th>\n",
       "      <th>level1</th>\n",
       "      <td>false_belief_audio</td>\n",
       "      <td>rotation_side</td>\n",
       "      <td>False</td>\n",
       "    </tr>\n",
       "    <tr>\n",
       "      <th>saccade</th>\n",
       "      <th>level1</th>\n",
       "      <td>mecanistic_audio</td>\n",
       "      <td>saccade</td>\n",
       "      <td>False</td>\n",
       "    </tr>\n",
       "    <tr>\n",
       "      <th rowspan=\"8\" valign=\"top\">social</th>\n",
       "      <th>false_belief_audio</th>\n",
       "      <th>level1</th>\n",
       "      <td>non_speech</td>\n",
       "      <td>false_belief_audio</td>\n",
       "      <td>False</td>\n",
       "    </tr>\n",
       "    <tr>\n",
       "      <th>false_belief_video</th>\n",
       "      <th>level1</th>\n",
       "      <td>triangle_random</td>\n",
       "      <td>false_belief_video</td>\n",
       "      <td>False</td>\n",
       "    </tr>\n",
       "    <tr>\n",
       "      <th>mecanistic_audio</th>\n",
       "      <th>level1</th>\n",
       "      <td>mecanistic_audio</td>\n",
       "      <td>mecanistic_audio</td>\n",
       "      <td>True</td>\n",
       "    </tr>\n",
       "    <tr>\n",
       "      <th>mecanistic_video</th>\n",
       "      <th>level1</th>\n",
       "      <td>mecanistic_audio</td>\n",
       "      <td>mecanistic_video</td>\n",
       "      <td>False</td>\n",
       "    </tr>\n",
       "    <tr>\n",
       "      <th>non_speech</th>\n",
       "      <th>level1</th>\n",
       "      <td>speech</td>\n",
       "      <td>non_speech</td>\n",
       "      <td>False</td>\n",
       "    </tr>\n",
       "    <tr>\n",
       "      <th>speech</th>\n",
       "      <th>level1</th>\n",
       "      <td>mecanistic_audio</td>\n",
       "      <td>speech</td>\n",
       "      <td>False</td>\n",
       "    </tr>\n",
       "    <tr>\n",
       "      <th>triangle_intention</th>\n",
       "      <th>level1</th>\n",
       "      <td>mecanistic_audio</td>\n",
       "      <td>triangle_intention</td>\n",
       "      <td>False</td>\n",
       "    </tr>\n",
       "    <tr>\n",
       "      <th>triangle_random</th>\n",
       "      <th>level1</th>\n",
       "      <td>mecanistic_audio</td>\n",
       "      <td>triangle_random</td>\n",
       "      <td>False</td>\n",
       "    </tr>\n",
       "    <tr>\n",
       "      <th>...</th>\n",
       "      <th>...</th>\n",
       "      <th>...</th>\n",
       "      <th>...</th>\n",
       "      <th>...</th>\n",
       "      <td>...</td>\n",
       "      <td>...</td>\n",
       "      <td>...</td>\n",
       "    </tr>\n",
       "    <tr>\n",
       "      <th rowspan=\"30\" valign=\"top\">hcp</th>\n",
       "      <th rowspan=\"7\" valign=\"top\">107018</th>\n",
       "      <th rowspan=\"7\" valign=\"top\">WM</th>\n",
       "      <th>0BK_FACE</th>\n",
       "      <th>level2</th>\n",
       "      <td>0BK_FACE</td>\n",
       "      <td>0BK_FACE</td>\n",
       "      <td>True</td>\n",
       "    </tr>\n",
       "    <tr>\n",
       "      <th>0BK_PLACE</th>\n",
       "      <th>level2</th>\n",
       "      <td>2BK_BODY</td>\n",
       "      <td>0BK_PLACE</td>\n",
       "      <td>False</td>\n",
       "    </tr>\n",
       "    <tr>\n",
       "      <th>0BK_TOOL</th>\n",
       "      <th>level2</th>\n",
       "      <td>0BK_FACE</td>\n",
       "      <td>0BK_TOOL</td>\n",
       "      <td>False</td>\n",
       "    </tr>\n",
       "    <tr>\n",
       "      <th>2BK_BODY</th>\n",
       "      <th>level2</th>\n",
       "      <td>0BK_FACE</td>\n",
       "      <td>2BK_BODY</td>\n",
       "      <td>False</td>\n",
       "    </tr>\n",
       "    <tr>\n",
       "      <th>2BK_FACE</th>\n",
       "      <th>level2</th>\n",
       "      <td>0BK_FACE</td>\n",
       "      <td>2BK_FACE</td>\n",
       "      <td>False</td>\n",
       "    </tr>\n",
       "    <tr>\n",
       "      <th>2BK_PLACE</th>\n",
       "      <th>level2</th>\n",
       "      <td>2BK_BODY</td>\n",
       "      <td>2BK_PLACE</td>\n",
       "      <td>False</td>\n",
       "    </tr>\n",
       "    <tr>\n",
       "      <th>2BK_TOOL</th>\n",
       "      <th>level2</th>\n",
       "      <td>0BK_FACE</td>\n",
       "      <td>2BK_TOOL</td>\n",
       "      <td>False</td>\n",
       "    </tr>\n",
       "    <tr>\n",
       "      <th rowspan=\"23\" valign=\"top\">107321</th>\n",
       "      <th rowspan=\"2\" valign=\"top\">EMOTION</th>\n",
       "      <th>FACES</th>\n",
       "      <th>level2</th>\n",
       "      <td>MATCH</td>\n",
       "      <td>FACES</td>\n",
       "      <td>False</td>\n",
       "    </tr>\n",
       "    <tr>\n",
       "      <th>SHAPES</th>\n",
       "      <th>level2</th>\n",
       "      <td>STORY</td>\n",
       "      <td>SHAPES</td>\n",
       "      <td>False</td>\n",
       "    </tr>\n",
       "    <tr>\n",
       "      <th rowspan=\"2\" valign=\"top\">GAMBLING</th>\n",
       "      <th>PUNISH</th>\n",
       "      <th>level2</th>\n",
       "      <td>0BK_FACE</td>\n",
       "      <td>PUNISH</td>\n",
       "      <td>False</td>\n",
       "    </tr>\n",
       "    <tr>\n",
       "      <th>REWARD</th>\n",
       "      <th>level2</th>\n",
       "      <td>0BK_FACE</td>\n",
       "      <td>REWARD</td>\n",
       "      <td>False</td>\n",
       "    </tr>\n",
       "    <tr>\n",
       "      <th rowspan=\"2\" valign=\"top\">LANGUAGE</th>\n",
       "      <th>MATH</th>\n",
       "      <th>level2</th>\n",
       "      <td>0BK_BODY</td>\n",
       "      <td>MATH</td>\n",
       "      <td>False</td>\n",
       "    </tr>\n",
       "    <tr>\n",
       "      <th>STORY</th>\n",
       "      <th>level2</th>\n",
       "      <td>0BK_TOOL</td>\n",
       "      <td>STORY</td>\n",
       "      <td>False</td>\n",
       "    </tr>\n",
       "    <tr>\n",
       "      <th rowspan=\"5\" valign=\"top\">MOTOR</th>\n",
       "      <th>CUE</th>\n",
       "      <th>level2</th>\n",
       "      <td>0BK_BODY</td>\n",
       "      <td>CUE</td>\n",
       "      <td>False</td>\n",
       "    </tr>\n",
       "    <tr>\n",
       "      <th>LF</th>\n",
       "      <th>level2</th>\n",
       "      <td>STORY</td>\n",
       "      <td>LF</td>\n",
       "      <td>False</td>\n",
       "    </tr>\n",
       "    <tr>\n",
       "      <th>LH</th>\n",
       "      <th>level2</th>\n",
       "      <td>REWARD</td>\n",
       "      <td>LH</td>\n",
       "      <td>False</td>\n",
       "    </tr>\n",
       "    <tr>\n",
       "      <th>RF</th>\n",
       "      <th>level2</th>\n",
       "      <td>REL</td>\n",
       "      <td>RF</td>\n",
       "      <td>False</td>\n",
       "    </tr>\n",
       "    <tr>\n",
       "      <th>RH</th>\n",
       "      <th>level2</th>\n",
       "      <td>STORY</td>\n",
       "      <td>RH</td>\n",
       "      <td>False</td>\n",
       "    </tr>\n",
       "    <tr>\n",
       "      <th rowspan=\"2\" valign=\"top\">RELATIONAL</th>\n",
       "      <th>MATCH</th>\n",
       "      <th>level2</th>\n",
       "      <td>RANDOM</td>\n",
       "      <td>MATCH</td>\n",
       "      <td>False</td>\n",
       "    </tr>\n",
       "    <tr>\n",
       "      <th>REL</th>\n",
       "      <th>level2</th>\n",
       "      <td>0BK_FACE</td>\n",
       "      <td>REL</td>\n",
       "      <td>False</td>\n",
       "    </tr>\n",
       "    <tr>\n",
       "      <th rowspan=\"2\" valign=\"top\">SOCIAL</th>\n",
       "      <th>RANDOM</th>\n",
       "      <th>level2</th>\n",
       "      <td>MATCH</td>\n",
       "      <td>RANDOM</td>\n",
       "      <td>False</td>\n",
       "    </tr>\n",
       "    <tr>\n",
       "      <th>TOM</th>\n",
       "      <th>level2</th>\n",
       "      <td>MATCH</td>\n",
       "      <td>TOM</td>\n",
       "      <td>False</td>\n",
       "    </tr>\n",
       "    <tr>\n",
       "      <th rowspan=\"8\" valign=\"top\">WM</th>\n",
       "      <th>0BK_BODY</th>\n",
       "      <th>level2</th>\n",
       "      <td>STORY</td>\n",
       "      <td>0BK_BODY</td>\n",
       "      <td>False</td>\n",
       "    </tr>\n",
       "    <tr>\n",
       "      <th>0BK_FACE</th>\n",
       "      <th>level2</th>\n",
       "      <td>0BK_FACE</td>\n",
       "      <td>0BK_FACE</td>\n",
       "      <td>True</td>\n",
       "    </tr>\n",
       "    <tr>\n",
       "      <th>0BK_PLACE</th>\n",
       "      <th>level2</th>\n",
       "      <td>2BK_PLACE</td>\n",
       "      <td>0BK_PLACE</td>\n",
       "      <td>False</td>\n",
       "    </tr>\n",
       "    <tr>\n",
       "      <th>0BK_TOOL</th>\n",
       "      <th>level2</th>\n",
       "      <td>0BK_BODY</td>\n",
       "      <td>0BK_TOOL</td>\n",
       "      <td>False</td>\n",
       "    </tr>\n",
       "    <tr>\n",
       "      <th>2BK_BODY</th>\n",
       "      <th>level2</th>\n",
       "      <td>MATH</td>\n",
       "      <td>2BK_BODY</td>\n",
       "      <td>False</td>\n",
       "    </tr>\n",
       "    <tr>\n",
       "      <th>2BK_FACE</th>\n",
       "      <th>level2</th>\n",
       "      <td>REWARD</td>\n",
       "      <td>2BK_FACE</td>\n",
       "      <td>False</td>\n",
       "    </tr>\n",
       "    <tr>\n",
       "      <th>2BK_PLACE</th>\n",
       "      <th>level2</th>\n",
       "      <td>2BK_PLACE</td>\n",
       "      <td>2BK_PLACE</td>\n",
       "      <td>True</td>\n",
       "    </tr>\n",
       "    <tr>\n",
       "      <th>2BK_TOOL</th>\n",
       "      <th>level2</th>\n",
       "      <td>RANDOM</td>\n",
       "      <td>2BK_TOOL</td>\n",
       "      <td>False</td>\n",
       "    </tr>\n",
       "  </tbody>\n",
       "</table>\n",
       "<p>1431 rows × 3 columns</p>\n",
       "</div>"
      ],
      "text/plain": [
       "                                                              predicted_label  \\\n",
       "dataset subject task       contrast             direction                       \n",
       "archi   1       emotional  expression_control   level1        triangle_random   \n",
       "                           expression_intention level1     triangle_intention   \n",
       "                           expression_sex       level1     false_belief_video   \n",
       "                           face_control         level1        triangle_random   \n",
       "                           face_sex             level1        triangle_random   \n",
       "                           face_trusty          level1     triangle_intention   \n",
       "                localizer  audio                level1             non_speech   \n",
       "                           calculaudio          level1        triangle_random   \n",
       "                           calculvideo          level1        triangle_random   \n",
       "                           clicDaudio           level1             non_speech   \n",
       "                           clicDvideo           level1             non_speech   \n",
       "                           clicGaudio           level1             non_speech   \n",
       "                           clicGvideo           level1             non_speech   \n",
       "                           computation          level1        triangle_random   \n",
       "                           damier_H             level1     false_belief_video   \n",
       "                           damier_V             level1     false_belief_video   \n",
       "                           motor-cognitive      level1       mecanistic_audio   \n",
       "                parietal   object_grasp         level1        triangle_random   \n",
       "                           object_orientation   level1     false_belief_audio   \n",
       "                           rotation_hand        level1     false_belief_audio   \n",
       "                           rotation_side        level1     false_belief_audio   \n",
       "                           saccade              level1       mecanistic_audio   \n",
       "                social     false_belief_audio   level1             non_speech   \n",
       "                           false_belief_video   level1        triangle_random   \n",
       "                           mecanistic_audio     level1       mecanistic_audio   \n",
       "                           mecanistic_video     level1       mecanistic_audio   \n",
       "                           non_speech           level1                 speech   \n",
       "                           speech               level1       mecanistic_audio   \n",
       "                           triangle_intention   level1       mecanistic_audio   \n",
       "                           triangle_random      level1       mecanistic_audio   \n",
       "...                                                                       ...   \n",
       "hcp     107018  WM         0BK_FACE             level2               0BK_FACE   \n",
       "                           0BK_PLACE            level2               2BK_BODY   \n",
       "                           0BK_TOOL             level2               0BK_FACE   \n",
       "                           2BK_BODY             level2               0BK_FACE   \n",
       "                           2BK_FACE             level2               0BK_FACE   \n",
       "                           2BK_PLACE            level2               2BK_BODY   \n",
       "                           2BK_TOOL             level2               0BK_FACE   \n",
       "        107321  EMOTION    FACES                level2                  MATCH   \n",
       "                           SHAPES               level2                  STORY   \n",
       "                GAMBLING   PUNISH               level2               0BK_FACE   \n",
       "                           REWARD               level2               0BK_FACE   \n",
       "                LANGUAGE   MATH                 level2               0BK_BODY   \n",
       "                           STORY                level2               0BK_TOOL   \n",
       "                MOTOR      CUE                  level2               0BK_BODY   \n",
       "                           LF                   level2                  STORY   \n",
       "                           LH                   level2                 REWARD   \n",
       "                           RF                   level2                    REL   \n",
       "                           RH                   level2                  STORY   \n",
       "                RELATIONAL MATCH                level2                 RANDOM   \n",
       "                           REL                  level2               0BK_FACE   \n",
       "                SOCIAL     RANDOM               level2                  MATCH   \n",
       "                           TOM                  level2                  MATCH   \n",
       "                WM         0BK_BODY             level2                  STORY   \n",
       "                           0BK_FACE             level2               0BK_FACE   \n",
       "                           0BK_PLACE            level2              2BK_PLACE   \n",
       "                           0BK_TOOL             level2               0BK_BODY   \n",
       "                           2BK_BODY             level2                   MATH   \n",
       "                           2BK_FACE             level2                 REWARD   \n",
       "                           2BK_PLACE            level2              2BK_PLACE   \n",
       "                           2BK_TOOL             level2                 RANDOM   \n",
       "\n",
       "                                                                     true_label  \\\n",
       "dataset subject task       contrast             direction                         \n",
       "archi   1       emotional  expression_control   level1       expression_control   \n",
       "                           expression_intention level1     expression_intention   \n",
       "                           expression_sex       level1           expression_sex   \n",
       "                           face_control         level1             face_control   \n",
       "                           face_sex             level1                 face_sex   \n",
       "                           face_trusty          level1              face_trusty   \n",
       "                localizer  audio                level1                    audio   \n",
       "                           calculaudio          level1              calculaudio   \n",
       "                           calculvideo          level1              calculvideo   \n",
       "                           clicDaudio           level1               clicDaudio   \n",
       "                           clicDvideo           level1               clicDvideo   \n",
       "                           clicGaudio           level1               clicGaudio   \n",
       "                           clicGvideo           level1               clicGvideo   \n",
       "                           computation          level1              computation   \n",
       "                           damier_H             level1                 damier_H   \n",
       "                           damier_V             level1                 damier_V   \n",
       "                           motor-cognitive      level1          motor-cognitive   \n",
       "                parietal   object_grasp         level1             object_grasp   \n",
       "                           object_orientation   level1       object_orientation   \n",
       "                           rotation_hand        level1            rotation_hand   \n",
       "                           rotation_side        level1            rotation_side   \n",
       "                           saccade              level1                  saccade   \n",
       "                social     false_belief_audio   level1       false_belief_audio   \n",
       "                           false_belief_video   level1       false_belief_video   \n",
       "                           mecanistic_audio     level1         mecanistic_audio   \n",
       "                           mecanistic_video     level1         mecanistic_video   \n",
       "                           non_speech           level1               non_speech   \n",
       "                           speech               level1                   speech   \n",
       "                           triangle_intention   level1       triangle_intention   \n",
       "                           triangle_random      level1          triangle_random   \n",
       "...                                                                         ...   \n",
       "hcp     107018  WM         0BK_FACE             level2                 0BK_FACE   \n",
       "                           0BK_PLACE            level2                0BK_PLACE   \n",
       "                           0BK_TOOL             level2                 0BK_TOOL   \n",
       "                           2BK_BODY             level2                 2BK_BODY   \n",
       "                           2BK_FACE             level2                 2BK_FACE   \n",
       "                           2BK_PLACE            level2                2BK_PLACE   \n",
       "                           2BK_TOOL             level2                 2BK_TOOL   \n",
       "        107321  EMOTION    FACES                level2                    FACES   \n",
       "                           SHAPES               level2                   SHAPES   \n",
       "                GAMBLING   PUNISH               level2                   PUNISH   \n",
       "                           REWARD               level2                   REWARD   \n",
       "                LANGUAGE   MATH                 level2                     MATH   \n",
       "                           STORY                level2                    STORY   \n",
       "                MOTOR      CUE                  level2                      CUE   \n",
       "                           LF                   level2                       LF   \n",
       "                           LH                   level2                       LH   \n",
       "                           RF                   level2                       RF   \n",
       "                           RH                   level2                       RH   \n",
       "                RELATIONAL MATCH                level2                    MATCH   \n",
       "                           REL                  level2                      REL   \n",
       "                SOCIAL     RANDOM               level2                   RANDOM   \n",
       "                           TOM                  level2                      TOM   \n",
       "                WM         0BK_BODY             level2                 0BK_BODY   \n",
       "                           0BK_FACE             level2                 0BK_FACE   \n",
       "                           0BK_PLACE            level2                0BK_PLACE   \n",
       "                           0BK_TOOL             level2                 0BK_TOOL   \n",
       "                           2BK_BODY             level2                 2BK_BODY   \n",
       "                           2BK_FACE             level2                 2BK_FACE   \n",
       "                           2BK_PLACE            level2                2BK_PLACE   \n",
       "                           2BK_TOOL             level2                 2BK_TOOL   \n",
       "\n",
       "                                                           match  \n",
       "dataset subject task       contrast             direction         \n",
       "archi   1       emotional  expression_control   level1     False  \n",
       "                           expression_intention level1     False  \n",
       "                           expression_sex       level1     False  \n",
       "                           face_control         level1     False  \n",
       "                           face_sex             level1     False  \n",
       "                           face_trusty          level1     False  \n",
       "                localizer  audio                level1     False  \n",
       "                           calculaudio          level1     False  \n",
       "                           calculvideo          level1     False  \n",
       "                           clicDaudio           level1     False  \n",
       "                           clicDvideo           level1     False  \n",
       "                           clicGaudio           level1     False  \n",
       "                           clicGvideo           level1     False  \n",
       "                           computation          level1     False  \n",
       "                           damier_H             level1     False  \n",
       "                           damier_V             level1     False  \n",
       "                           motor-cognitive      level1     False  \n",
       "                parietal   object_grasp         level1     False  \n",
       "                           object_orientation   level1     False  \n",
       "                           rotation_hand        level1     False  \n",
       "                           rotation_side        level1     False  \n",
       "                           saccade              level1     False  \n",
       "                social     false_belief_audio   level1     False  \n",
       "                           false_belief_video   level1     False  \n",
       "                           mecanistic_audio     level1      True  \n",
       "                           mecanistic_video     level1     False  \n",
       "                           non_speech           level1     False  \n",
       "                           speech               level1     False  \n",
       "                           triangle_intention   level1     False  \n",
       "                           triangle_random      level1     False  \n",
       "...                                                          ...  \n",
       "hcp     107018  WM         0BK_FACE             level2      True  \n",
       "                           0BK_PLACE            level2     False  \n",
       "                           0BK_TOOL             level2     False  \n",
       "                           2BK_BODY             level2     False  \n",
       "                           2BK_FACE             level2     False  \n",
       "                           2BK_PLACE            level2     False  \n",
       "                           2BK_TOOL             level2     False  \n",
       "        107321  EMOTION    FACES                level2     False  \n",
       "                           SHAPES               level2     False  \n",
       "                GAMBLING   PUNISH               level2     False  \n",
       "                           REWARD               level2     False  \n",
       "                LANGUAGE   MATH                 level2     False  \n",
       "                           STORY                level2     False  \n",
       "                MOTOR      CUE                  level2     False  \n",
       "                           LF                   level2     False  \n",
       "                           LH                   level2     False  \n",
       "                           RF                   level2     False  \n",
       "                           RH                   level2     False  \n",
       "                RELATIONAL MATCH                level2     False  \n",
       "                           REL                  level2     False  \n",
       "                SOCIAL     RANDOM               level2     False  \n",
       "                           TOM                  level2     False  \n",
       "                WM         0BK_BODY             level2     False  \n",
       "                           0BK_FACE             level2      True  \n",
       "                           0BK_PLACE            level2     False  \n",
       "                           0BK_TOOL             level2     False  \n",
       "                           2BK_BODY             level2     False  \n",
       "                           2BK_FACE             level2     False  \n",
       "                           2BK_PLACE            level2      True  \n",
       "                           2BK_TOOL             level2     False  \n",
       "\n",
       "[1431 rows x 3 columns]"
      ]
     },
     "execution_count": 704,
     "metadata": {},
     "output_type": "execute_result"
    }
   ],
   "source": [
    "prediction.loc['train']"
   ]
  },
  {
   "cell_type": "code",
   "execution_count": 702,
   "metadata": {
    "collapsed": false
   },
   "outputs": [],
   "source": [
    "train_conf = confusion_matrix(prediction.loc['train', 'true_label'],\n",
    "                        prediction.loc['train', 'predicted_label'], labels=labels)\n",
    "test_conf = confusion_matrix(prediction.loc['test', 'true_label'],\n",
    "                        prediction.loc['test', 'predicted_label'], labels=labels)"
   ]
  },
  {
   "cell_type": "code",
   "execution_count": 703,
   "metadata": {
    "collapsed": false,
    "scrolled": false
   },
   "outputs": [
    {
     "data": {
      "image/png": "[encoded data removed]",
      "text/plain": [
       "<matplotlib.figure.Figure at 0x7fbf64bd1358>"
      ]
     },
     "metadata": {},
     "output_type": "display_data"
    }
   ],
   "source": [
    "plot_confusion_matrix(train_conf, labels)"
   ]
  },
  {
   "cell_type": "code",
   "execution_count": 705,
   "metadata": {
    "collapsed": false,
    "scrolled": true
   },
   "outputs": [
    {
     "data": {
      "text/plain": [
       "dataset  task        contrast            \n",
       "archi    emotional   expression_control      0.000000\n",
       "                     expression_intention    0.000000\n",
       "                     expression_sex          0.000000\n",
       "                     face_control            0.000000\n",
       "                     face_sex                0.000000\n",
       "                     face_trusty             0.000000\n",
       "         localizer   audio                   0.000000\n",
       "                     calculaudio             0.000000\n",
       "                     calculvideo             0.000000\n",
       "                     clicDaudio              0.000000\n",
       "                     clicDvideo              0.000000\n",
       "                     clicGaudio              0.000000\n",
       "                     clicGvideo              0.000000\n",
       "                     computation             0.000000\n",
       "                     damier_H                0.000000\n",
       "                     damier_V                0.000000\n",
       "                     motor-cognitive         0.000000\n",
       "         parietal    object_grasp            0.000000\n",
       "                     object_orientation      0.000000\n",
       "                     rotation_hand           0.000000\n",
       "                     rotation_side           0.000000\n",
       "                     saccade                 0.000000\n",
       "         social      false_belief_audio      0.000000\n",
       "                     false_belief_video      0.666667\n",
       "                     mecanistic_audio        0.000000\n",
       "                     mecanistic_video        0.000000\n",
       "                     non_speech              0.000000\n",
       "                     speech                  0.333333\n",
       "                     triangle_intention      0.333333\n",
       "                     triangle_random         0.000000\n",
       "hcp      EMOTION     FACES                   0.000000\n",
       "                     SHAPES                  0.000000\n",
       "         GAMBLING    PUNISH                  0.000000\n",
       "                     REWARD                  0.000000\n",
       "         LANGUAGE    MATH                    0.000000\n",
       "                     STORY                   0.666667\n",
       "         MOTOR       CUE                     0.000000\n",
       "                     LF                      0.000000\n",
       "                     LH                      0.000000\n",
       "                     RF                      0.000000\n",
       "                     RH                      0.000000\n",
       "         RELATIONAL  MATCH                   0.333333\n",
       "                     REL                     0.000000\n",
       "         SOCIAL      RANDOM                  0.000000\n",
       "                     TOM                     0.666667\n",
       "         WM          0BK_BODY                0.000000\n",
       "                     0BK_FACE                0.333333\n",
       "                     0BK_PLACE               0.000000\n",
       "                     0BK_TOOL                0.000000\n",
       "                     2BK_BODY                0.000000\n",
       "                     2BK_FACE                0.000000\n",
       "                     2BK_PLACE               0.000000\n",
       "                     2BK_TOOL                0.000000\n",
       "Name: match, dtype: float64"
      ]
     },
     "execution_count": 705,
     "metadata": {},
     "output_type": "execute_result"
    }
   ],
   "source": [
    "prediction['match'].groupby(level=['fold', 'dataset', 'task', 'contrast']).apply(np.mean)['test']"
   ]
  },
  {
   "cell_type": "code",
   "execution_count": 706,
   "metadata": {
    "collapsed": false,
    "scrolled": true
   },
   "outputs": [
    {
     "data": {
      "text/plain": [
       "fold   dataset\n",
       "test   archi      0.044444\n",
       "       hcp        0.086957\n",
       "train  archi      0.050617\n",
       "       hcp        0.067633\n",
       "Name: match, dtype: float64"
      ]
     },
     "execution_count": 706,
     "metadata": {},
     "output_type": "execute_result"
    }
   ],
   "source": [
    "prediction['match'].groupby(level=['fold', 'dataset']).apply(np.mean)"
   ]
  },
  {
   "cell_type": "code",
   "execution_count": 617,
   "metadata": {
    "collapsed": false
   },
   "outputs": [],
   "source": [
    "titles = [\"%s: %s\" % (task, contrast) for task, contrast in zip(tasks, labels)]"
   ]
  },
  {
   "cell_type": "code",
   "execution_count": 618,
   "metadata": {
    "collapsed": false,
    "scrolled": true
   },
   "outputs": [
    {
     "ename": "KeyboardInterrupt",
     "evalue": "",
     "output_type": "error",
     "traceback": [
      "\u001b[0;31m---------------------------------------------------------------------------\u001b[0m",
      "\u001b[0;31mKeyboardInterrupt\u001b[0m                         Traceback (most recent call last)",
      "\u001b[0;32m<ipython-input-618-7f27614c5779>\u001b[0m in \u001b[0;36m<module>\u001b[0;34m()\u001b[0m\n\u001b[1;32m     12\u001b[0m \u001b[0;34m\u001b[0m\u001b[0m\n\u001b[1;32m     13\u001b[0m \u001b[0;32mfor\u001b[0m \u001b[0mi\u001b[0m\u001b[0;34m,\u001b[0m \u001b[0mtitle\u001b[0m \u001b[0;32min\u001b[0m \u001b[0mzip\u001b[0m\u001b[0;34m(\u001b[0m\u001b[0mindices\u001b[0m\u001b[0;34m,\u001b[0m \u001b[0mtitles\u001b[0m\u001b[0;34m)\u001b[0m\u001b[0;34m:\u001b[0m\u001b[0;34m\u001b[0m\u001b[0m\n\u001b[0;32m---> 14\u001b[0;31m     \u001b[0mplot_stat_map\u001b[0m\u001b[0;34m(\u001b[0m\u001b[0mindex_img\u001b[0m\u001b[0;34m(\u001b[0m\u001b[0mimgs\u001b[0m\u001b[0;34m,\u001b[0m \u001b[0mi\u001b[0m\u001b[0;34m)\u001b[0m\u001b[0;34m,\u001b[0m \u001b[0mtitle\u001b[0m\u001b[0;34m=\u001b[0m\u001b[0mtitle\u001b[0m\u001b[0;34m,\u001b[0m \u001b[0mthreshold\u001b[0m\u001b[0;34m=\u001b[0m\u001b[0;36m0\u001b[0m\u001b[0;34m)\u001b[0m\u001b[0;34m\u001b[0m\u001b[0m\n\u001b[0m",
      "\u001b[0;32m/storage/store/work/amensch/work/repos/nilearn/nilearn/plotting/img_plotting.py\u001b[0m in \u001b[0;36mplot_stat_map\u001b[0;34m(stat_map_img, bg_img, cut_coords, output_file, display_mode, colorbar, figure, axes, title, threshold, annotate, draw_cross, black_bg, cmap, symmetric_cbar, dim, vmax, **kwargs)\u001b[0m\n\u001b[1;32m    984\u001b[0m                                 \u001b[0mcbar_vmin\u001b[0m\u001b[0;34m=\u001b[0m\u001b[0mcbar_vmin\u001b[0m\u001b[0;34m,\u001b[0m \u001b[0mcbar_vmax\u001b[0m\u001b[0;34m=\u001b[0m\u001b[0mcbar_vmax\u001b[0m\u001b[0;34m,\u001b[0m\u001b[0;34m\u001b[0m\u001b[0m\n\u001b[1;32m    985\u001b[0m                                 \u001b[0mresampling_interpolation\u001b[0m\u001b[0;34m=\u001b[0m\u001b[0;34m'continuous'\u001b[0m\u001b[0;34m,\u001b[0m\u001b[0;34m\u001b[0m\u001b[0m\n\u001b[0;32m--> 986\u001b[0;31m                                 **kwargs)\n\u001b[0m\u001b[1;32m    987\u001b[0m \u001b[0;34m\u001b[0m\u001b[0m\n\u001b[1;32m    988\u001b[0m     \u001b[0;32mreturn\u001b[0m \u001b[0mdisplay\u001b[0m\u001b[0;34m\u001b[0m\u001b[0m\n",
      "\u001b[0;32m/storage/store/work/amensch/work/repos/nilearn/nilearn/plotting/img_plotting.py\u001b[0m in \u001b[0;36m_plot_img_with_bg\u001b[0;34m(img, bg_img, cut_coords, output_file, display_mode, colorbar, figure, axes, title, threshold, annotate, draw_cross, black_bg, vmin, vmax, bg_vmin, bg_vmax, interpolation, display_factory, cbar_vmin, cbar_vmax, **kwargs)\u001b[0m\n\u001b[1;32m    182\u001b[0m                             \u001b[0mthreshold\u001b[0m\u001b[0;34m=\u001b[0m\u001b[0mthreshold\u001b[0m\u001b[0;34m,\u001b[0m \u001b[0minterpolation\u001b[0m\u001b[0;34m=\u001b[0m\u001b[0minterpolation\u001b[0m\u001b[0;34m,\u001b[0m\u001b[0;34m\u001b[0m\u001b[0m\n\u001b[1;32m    183\u001b[0m                             \u001b[0mcolorbar\u001b[0m\u001b[0;34m=\u001b[0m\u001b[0mcolorbar\u001b[0m\u001b[0;34m,\u001b[0m \u001b[0mvmin\u001b[0m\u001b[0;34m=\u001b[0m\u001b[0mvmin\u001b[0m\u001b[0;34m,\u001b[0m \u001b[0mvmax\u001b[0m\u001b[0;34m=\u001b[0m\u001b[0mvmax\u001b[0m\u001b[0;34m,\u001b[0m\u001b[0;34m\u001b[0m\u001b[0m\n\u001b[0;32m--> 184\u001b[0;31m                             **kwargs)\n\u001b[0m\u001b[1;32m    185\u001b[0m \u001b[0;34m\u001b[0m\u001b[0m\n\u001b[1;32m    186\u001b[0m     \u001b[0;32mif\u001b[0m \u001b[0mannotate\u001b[0m\u001b[0;34m:\u001b[0m\u001b[0;34m\u001b[0m\u001b[0m\n",
      "\u001b[0;32m/storage/store/work/amensch/work/repos/nilearn/nilearn/plotting/displays.py\u001b[0m in \u001b[0;36madd_overlay\u001b[0;34m(self, img, threshold, colorbar, **kwargs)\u001b[0m\n\u001b[1;32m    588\u001b[0m         \u001b[0;31m# with plot_stat_map\u001b[0m\u001b[0;34m\u001b[0m\u001b[0;34m\u001b[0m\u001b[0m\n\u001b[1;32m    589\u001b[0m         \u001b[0mkwargs\u001b[0m\u001b[0;34m.\u001b[0m\u001b[0msetdefault\u001b[0m\u001b[0;34m(\u001b[0m\u001b[0;34m'interpolation'\u001b[0m\u001b[0;34m,\u001b[0m \u001b[0;34m'nearest'\u001b[0m\u001b[0;34m)\u001b[0m\u001b[0;34m\u001b[0m\u001b[0m\n\u001b[0;32m--> 590\u001b[0;31m         \u001b[0mims\u001b[0m \u001b[0;34m=\u001b[0m \u001b[0mself\u001b[0m\u001b[0;34m.\u001b[0m\u001b[0m_map_show\u001b[0m\u001b[0;34m(\u001b[0m\u001b[0mimg\u001b[0m\u001b[0;34m,\u001b[0m \u001b[0mtype\u001b[0m\u001b[0;34m=\u001b[0m\u001b[0;34m'imshow'\u001b[0m\u001b[0;34m,\u001b[0m \u001b[0mthreshold\u001b[0m\u001b[0;34m=\u001b[0m\u001b[0mthreshold\u001b[0m\u001b[0;34m,\u001b[0m \u001b[0;34m**\u001b[0m\u001b[0mkwargs\u001b[0m\u001b[0;34m)\u001b[0m\u001b[0;34m\u001b[0m\u001b[0m\n\u001b[0m\u001b[1;32m    591\u001b[0m \u001b[0;34m\u001b[0m\u001b[0m\n\u001b[1;32m    592\u001b[0m         \u001b[0;31m# `ims` can be empty in some corner cases, look at test_img_plotting.test_outlier_cut_coords.\u001b[0m\u001b[0;34m\u001b[0m\u001b[0;34m\u001b[0m\u001b[0m\n",
      "\u001b[0;32m/storage/store/work/amensch/work/repos/nilearn/nilearn/plotting/displays.py\u001b[0m in \u001b[0;36m_map_show\u001b[0;34m(self, img, type, resampling_interpolation, threshold, **kwargs)\u001b[0m\n\u001b[1;32m    643\u001b[0m \u001b[0;34m\u001b[0m\u001b[0m\n\u001b[1;32m    644\u001b[0m         \u001b[0;32mif\u001b[0m \u001b[0mthreshold\u001b[0m \u001b[0;32mis\u001b[0m \u001b[0;32mnot\u001b[0m \u001b[0;32mNone\u001b[0m\u001b[0;34m:\u001b[0m\u001b[0;34m\u001b[0m\u001b[0m\n\u001b[0;32m--> 645\u001b[0;31m             \u001b[0mdata\u001b[0m \u001b[0;34m=\u001b[0m \u001b[0m_utils\u001b[0m\u001b[0;34m.\u001b[0m\u001b[0mniimg\u001b[0m\u001b[0;34m.\u001b[0m\u001b[0m_safe_get_data\u001b[0m\u001b[0;34m(\u001b[0m\u001b[0mimg\u001b[0m\u001b[0;34m,\u001b[0m \u001b[0mensure_finite\u001b[0m\u001b[0;34m=\u001b[0m\u001b[0;32mTrue\u001b[0m\u001b[0;34m)\u001b[0m\u001b[0;34m\u001b[0m\u001b[0m\n\u001b[0m\u001b[1;32m    646\u001b[0m             \u001b[0;32mif\u001b[0m \u001b[0mthreshold\u001b[0m \u001b[0;34m==\u001b[0m \u001b[0;36m0\u001b[0m\u001b[0;34m:\u001b[0m\u001b[0;34m\u001b[0m\u001b[0m\n\u001b[1;32m    647\u001b[0m                 \u001b[0mdata\u001b[0m \u001b[0;34m=\u001b[0m \u001b[0mnp\u001b[0m\u001b[0;34m.\u001b[0m\u001b[0mma\u001b[0m\u001b[0;34m.\u001b[0m\u001b[0mmasked_equal\u001b[0m\u001b[0;34m(\u001b[0m\u001b[0mdata\u001b[0m\u001b[0;34m,\u001b[0m \u001b[0;36m0\u001b[0m\u001b[0;34m,\u001b[0m \u001b[0mcopy\u001b[0m\u001b[0;34m=\u001b[0m\u001b[0;32mFalse\u001b[0m\u001b[0;34m)\u001b[0m\u001b[0;34m\u001b[0m\u001b[0m\n",
      "\u001b[0;32m/storage/store/work/amensch/work/repos/nilearn/nilearn/_utils/niimg.py\u001b[0m in \u001b[0;36m_safe_get_data\u001b[0;34m(img, ensure_finite)\u001b[0m\n\u001b[1;32m     39\u001b[0m     \u001b[0;31m# typically the line below can double memory usage\u001b[0m\u001b[0;34m\u001b[0m\u001b[0;34m\u001b[0m\u001b[0m\n\u001b[1;32m     40\u001b[0m     \u001b[0;31m# that's why we invoke a forced call to the garbage collector\u001b[0m\u001b[0;34m\u001b[0m\u001b[0;34m\u001b[0m\u001b[0m\n\u001b[0;32m---> 41\u001b[0;31m     \u001b[0mgc\u001b[0m\u001b[0;34m.\u001b[0m\u001b[0mcollect\u001b[0m\u001b[0;34m(\u001b[0m\u001b[0;34m)\u001b[0m\u001b[0;34m\u001b[0m\u001b[0m\n\u001b[0m\u001b[1;32m     42\u001b[0m \u001b[0;34m\u001b[0m\u001b[0m\n\u001b[1;32m     43\u001b[0m     \u001b[0mdata\u001b[0m \u001b[0;34m=\u001b[0m \u001b[0mimg\u001b[0m\u001b[0;34m.\u001b[0m\u001b[0mget_data\u001b[0m\u001b[0;34m(\u001b[0m\u001b[0;34m)\u001b[0m\u001b[0;34m\u001b[0m\u001b[0m\n",
      "\u001b[0;31mKeyboardInterrupt\u001b[0m: "
     ]
    },
    {
     "data": {
      "image/png": "[encoded data removed]",
      "text/plain": [
       "<matplotlib.figure.Figure at 0x7fbf620cf160>"
      ]
     },
     "metadata": {},
     "output_type": "display_data"
    },
    {
     "data": {
      "image/png": "[encoded data removed]",
      "text/plain": [
       "<matplotlib.figure.Figure at 0x7fbf643c7ba8>"
      ]
     },
     "metadata": {},
     "output_type": "display_data"
    }
   ],
   "source": [
    "%matplotlib inline\n",
    "from nilearn.plotting import plot_stat_map\n",
    "from nilearn.image import index_img\n",
    "from nilearn._utils import check_niimg\n",
    "\n",
    "indices = label_encoder.transform(labels)\n",
    "\n",
    "imgs = check_niimg(imgs)\n",
    "imgs.get_data()\n",
    "\n",
    "plt.close('all')\n",
    "\n",
    "for i, title in zip(indices, titles):\n",
    "    plot_stat_map(index_img(imgs, i), title=title, threshold=0)"
   ]
  },
  {
   "cell_type": "code",
   "execution_count": null,
   "metadata": {
    "collapsed": false
   },
   "outputs": [],
   "source": [
    "indices = label_encoder.transform(labels)\n",
    "ncoef = coef[indices]\n",
    "S = np.sqrt((ncoef ** 2).sum(axis=1))\n",
    "ncoef = ncoef / S[:, np.newaxis]"
   ]
  },
  {
   "cell_type": "code",
   "execution_count": null,
   "metadata": {
    "collapsed": false,
    "scrolled": true
   },
   "outputs": [],
   "source": [
    "G = ncoef.dot(ncoef.T)\n",
    "plot_gram_matrix(G, labels)"
   ]
  },
  {
   "cell_type": "code",
   "execution_count": 619,
   "metadata": {
    "collapsed": false
   },
   "outputs": [
    {
     "data": {
      "text/plain": [
       "(0.0, 0.0)"
      ]
     },
     "execution_count": 619,
     "metadata": {},
     "output_type": "execute_result"
    }
   ],
   "source": [
    "np.mean(w0 == 0),np.mean(w1 == 0)"
   ]
  },
  {
   "cell_type": "code",
   "execution_count": 620,
   "metadata": {
    "collapsed": false
   },
   "outputs": [
    {
     "data": {
      "text/plain": [
       "(array([   34,   223,  1099,  4358,  8492, 10087,  6574,  2116,   493,   124]),\n",
       " array([ -5.41468558e-04,  -4.37985052e-04,  -3.34501546e-04,\n",
       "         -2.31018040e-04,  -1.27534533e-04,  -2.40510271e-05,\n",
       "          7.94324791e-05,   1.82915985e-04,   2.86399492e-04,\n",
       "          3.89882998e-04,   4.93366504e-04]))"
      ]
     },
     "execution_count": 620,
     "metadata": {},
     "output_type": "execute_result"
    }
   ],
   "source": [
    "np.histogram(w1)"
   ]
  },
  {
   "cell_type": "code",
   "execution_count": 623,
   "metadata": {
    "collapsed": false,
    "scrolled": false
   },
   "outputs": [
    {
     "data": {
      "image/png": "[encoded data removed]",
      "text/plain": [
       "<matplotlib.figure.Figure at 0x7fbf68debd30>"
      ]
     },
     "metadata": {},
     "output_type": "display_data"
    }
   ],
   "source": [
    "%matplotlib inline\n",
    "n, bins, patches = plt.hist(w1.ravel(), bins=100, log=True)\n",
    "plt.xscale('log')"
   ]
  },
  {
   "cell_type": "code",
   "execution_count": null,
   "metadata": {
    "collapsed": false
   },
   "outputs": [],
   "source": [
    "w1.ravel()[:300]"
   ]
  },
  {
   "cell_type": "code",
   "execution_count": null,
   "metadata": {
    "collapsed": false
   },
   "outputs": [],
   "source": [
    "(np.abs(coef[indices,:16]).sum())"
   ]
  },
  {
   "cell_type": "code",
   "execution_count": null,
   "metadata": {
    "collapsed": false
   },
   "outputs": [],
   "source": [
    "(np.abs(coef[indices,16:80])).sum()"
   ]
  },
  {
   "cell_type": "code",
   "execution_count": null,
   "metadata": {
    "collapsed": false
   },
   "outputs": [],
   "source": [
    "np.abs(coef[indices,80:80 + 256]).sum()"
   ]
  },
  {
   "cell_type": "code",
   "execution_count": null,
   "metadata": {
    "collapsed": false
   },
   "outputs": [],
   "source": [
    "np.mean(coef[indices, :16] == 0)"
   ]
  },
  {
   "cell_type": "code",
   "execution_count": null,
   "metadata": {
    "collapsed": false
   },
   "outputs": [],
   "source": [
    "np.mean(coef[indices, 16:80] == 0)"
   ]
  },
  {
   "cell_type": "code",
   "execution_count": null,
   "metadata": {
    "collapsed": false
   },
   "outputs": [],
   "source": [
    "np.mean(coef[indices, 80:256] == 0)"
   ]
  },
  {
   "cell_type": "code",
   "execution_count": null,
   "metadata": {
    "collapsed": true
   },
   "outputs": [],
   "source": []
  },
  {
   "cell_type": "code",
   "execution_count": null,
   "metadata": {
    "collapsed": true
   },
   "outputs": [],
   "source": []
  },
  {
   "cell_type": "code",
   "execution_count": null,
   "metadata": {
    "collapsed": true
   },
   "outputs": [],
   "source": []
  },
  {
   "cell_type": "code",
   "execution_count": null,
   "metadata": {
    "collapsed": true
   },
   "outputs": [],
   "source": []
  }
 ],
 "metadata": {
  "kernelspec": {
   "display_name": "Python 3",
   "language": "python",
   "name": "python3"
  },
  "language_info": {
   "codemirror_mode": {
    "name": "ipython",
    "version": 3
   },
   "file_extension": ".py",
   "mimetype": "text/x-python",
   "name": "python",
   "nbconvert_exporter": "python",
   "pygments_lexer": "ipython3",
   "version": "3.6.0"
  }
 },
 "nbformat": 4,
 "nbformat_minor": 0
}
