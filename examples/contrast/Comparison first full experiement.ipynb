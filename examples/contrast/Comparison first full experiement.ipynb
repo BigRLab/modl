{
 "cells": [
  {
   "cell_type": "code",
   "execution_count": 549,
   "metadata": {
    "collapsed": false,
    "deletable": true,
    "editable": true
   },
   "outputs": [],
   "source": [
    "from pymongo import MongoClient\n",
    "import pandas as pd\n",
    "import seaborn as sns"
   ]
  },
  {
   "cell_type": "code",
   "execution_count": 550,
   "metadata": {
    "collapsed": true,
    "deletable": true,
    "editable": true
   },
   "outputs": [],
   "source": [
    "client = MongoClient()\n",
    "db = client.amensch"
   ]
  },
  {
   "cell_type": "code",
   "execution_count": 551,
   "metadata": {
    "collapsed": true,
    "deletable": true,
    "editable": true
   },
   "outputs": [],
   "source": [
    "# Normal model"
   ]
  },
  {
   "cell_type": "code",
   "execution_count": 552,
   "metadata": {
    "collapsed": false,
    "deletable": true,
    "editable": true
   },
   "outputs": [],
   "source": [
    "runs = db.multi_predict_contrast_trace\n",
    "\n",
    "multi_dataset_res = runs.aggregate([{\"$match\": {\"info.multi_predict_contrast_id\": {\"$in\": [363]}\n",
    "                                               }},\n",
    "                                    {'$project': {'penalty': '$config.penalty',\n",
    "                                                  'alpha': '$config.alpha',\n",
    "                                                  'seed': '$config.seed',\n",
    "                                                  'multi_class': '$config.multi_class',\n",
    "                                                  'test_score': '$info.test_archi_score',\n",
    "                                                  'train_score': '$info.train_archi_score',\n",
    "                                                  \"datasets\": \"$config.datasets\"}}])\n",
    "\n",
    "multi_dataset_res = list(multi_dataset_res)\n",
    "df = pd.DataFrame(multi_dataset_res)\n",
    "# df = df.loc[df['penalty'] == 'trace']\n",
    "df['datasets'] = df['datasets'].map(lambda x: '_'.join(x) if isinstance(x, list) else x)\n",
    "df = df.set_index(['datasets', 'alpha', 'penalty', 'multi_class', 'seed'])\n",
    "df.sort_index(inplace=True)\n",
    "\n",
    "df_agg = df.groupby(level=['datasets', 'alpha', 'penalty', 'multi_class']).aggregate(['mean', 'std'])['test_score']\n",
    "\n",
    "nf_score_without_transfer =  df_agg.loc[df_agg.loc[idx['archi', :, :, :], 'mean'].argmax()]\n",
    "nf_score_with_transfer =  df_agg.loc[df_agg.loc[idx['archi_hcp', :, :, :], 'mean'].argmax()]\n",
    "\n",
    "idx = pd.IndexSlice\n",
    "nf_trace_score_without_transfer =  df_agg.loc[df_agg.loc[idx['archi', :, 'trace', :], 'mean'].argmax()]\n",
    "nf_trace_score_with_transfer =  df_agg.loc[df_agg.loc[idx['archi_hcp', :, 'trace', :], 'mean'].argmax()]"
   ]
  },
  {
   "cell_type": "code",
   "execution_count": 553,
   "metadata": {
    "collapsed": false,
    "deletable": true,
    "editable": true
   },
   "outputs": [],
   "source": [
    "arg_sum_df = df_agg['mean'].groupby(level=['penalty', 'datasets']).agg('idxmax')\n",
    "nf_sum_df = pd.DataFrame(index=arg_sum_df.index, data=df_agg.loc[arg_sum_df].values, columns=['mean', 'std'])"
   ]
  },
  {
   "cell_type": "code",
   "execution_count": 554,
   "metadata": {
    "collapsed": true,
    "deletable": true,
    "editable": true
   },
   "outputs": [],
   "source": [
    "# Per fold gain"
   ]
  },
  {
   "cell_type": "code",
   "execution_count": 555,
   "metadata": {
    "collapsed": false,
    "deletable": true,
    "editable": true
   },
   "outputs": [
    {
     "data": {
      "text/plain": [
       "count    10.000000\n",
       "mean      0.006923\n",
       "std       0.002187\n",
       "min       0.003419\n",
       "25%       0.005983\n",
       "50%       0.006838\n",
       "75%       0.008333\n",
       "max       0.010256\n",
       "Name: test_score, dtype: float64"
      ]
     },
     "execution_count": 555,
     "metadata": {},
     "output_type": "execute_result"
    }
   ],
   "source": [
    "per_fold = (df.loc[arg_sum_df.loc[('l2', 'archi_hcp')]] - df.loc[arg_sum_df.loc[('l2', 'archi')]])['test_score']\n",
    "per_fold.describe()"
   ]
  },
  {
   "cell_type": "code",
   "execution_count": 556,
   "metadata": {
    "collapsed": false,
    "deletable": true,
    "editable": true
   },
   "outputs": [
    {
     "name": "stdout",
     "output_type": "stream",
     "text": [
      "Average per fold improvement: 0.007 +- 0.002\n"
     ]
    }
   ],
   "source": [
    "print('Average per fold improvement: %.3f +- %.3f' % (per_fold_gain, per_fold_std))"
   ]
  },
  {
   "cell_type": "code",
   "execution_count": 557,
   "metadata": {
    "collapsed": true,
    "deletable": true,
    "editable": true
   },
   "outputs": [],
   "source": [
    "# Factored model"
   ]
  },
  {
   "cell_type": "code",
   "execution_count": 558,
   "metadata": {
    "collapsed": false,
    "deletable": true,
    "editable": true
   },
   "outputs": [],
   "source": [
    "runs = db.multi_predict_contrast\n",
    "multi_dataset_res = runs.aggregate([{\"$match\": {\"info.multi_predict_contrast_id\": 2265\n",
    "                                               }},\n",
    "                                    {'$project': {'beta': '$config.beta',\n",
    "                                                  'dropout': '$config.dropout',\n",
    "                                                  'latent_dim': '$config.latent_dim',\n",
    "                                                  'activation': '$config.activation',\n",
    "                                                  'alpha': '$config.alpha',\n",
    "                                                  'seed': '$config.seed',\n",
    "                                                  'test_score': '$info.test_archi_score',\n",
    "                                                  'train_score': '$info.train_archi_score',\n",
    "                                                  'test_hcp_score': '$info.test_hcp_score',\n",
    "                                                  'train_hcp_score': '$info.train_hcp_score',\n",
    "                                                  \"datasets\": \"$config.datasets\"}}])\n",
    "\n",
    "multi_dataset_res = list(multi_dataset_res)\n",
    "df = pd.DataFrame(multi_dataset_res)\n",
    "df['datasets'] = df['datasets'].map(lambda x: '_'.join(x) if isinstance(x, list) else x)\n",
    "# df = df.loc[np.logical_not(df['dropout'])]\n",
    "df = df.set_index(['datasets', 'alpha', 'beta', 'dropout', 'activation', 'latent_dim', 'seed'])\n",
    "df.sort_index(inplace=True)\n",
    "\n",
    "\n",
    "df_agg = df.groupby(level=['datasets', 'alpha', 'beta', 'dropout', 'activation', 'latent_dim']).aggregate(['mean', 'std'])['test_score']\n",
    "\n",
    "f_score_without_transfer = {}\n",
    "f_score_with_transfer = {}\n",
    "for (dropout, latent_dim), this_df in df_agg.groupby(level=['dropout', 'latent_dim']):\n",
    "    f_score_without_transfer[dropout, latent_dim] =  df_agg.loc[this_df.loc[idx['archi', :, :, :], 'mean'].argmax()]\n",
    "    f_score_with_transfer[dropout, latent_dim] =  df_agg.loc[this_df.loc[idx['archi_hcp', :, :, :], 'mean'].argmax()]"
   ]
  },
  {
   "cell_type": "code",
   "execution_count": 559,
   "metadata": {
    "collapsed": false,
    "deletable": true,
    "editable": true
   },
   "outputs": [],
   "source": [
    "arg_sum_df = df_agg['mean'].groupby(level=['latent_dim', 'dropout', 'datasets']).agg('idxmax')\n",
    "\n",
    "f_sum_df = pd.DataFrame(index=arg_sum_df.index, data=df_agg.loc[arg_sum_df].values, columns=['mean', 'std'])"
   ]
  },
  {
   "cell_type": "code",
   "execution_count": 560,
   "metadata": {
    "collapsed": true,
    "deletable": true,
    "editable": true
   },
   "outputs": [],
   "source": [
    "import seaborn as sns"
   ]
  },
  {
   "cell_type": "code",
   "execution_count": 561,
   "metadata": {
    "collapsed": false,
    "deletable": true,
    "editable": true
   },
   "outputs": [],
   "source": [
    "def errorbar(x, y, std, **kws):\n",
    "    plt.errorbar((np.arange(len(y)) - .5) / 2, y, std, color='black', elinewidth=2, linewidth=0)"
   ]
  },
  {
   "cell_type": "code",
   "execution_count": 562,
   "metadata": {
    "collapsed": false,
    "deletable": true,
    "editable": true
   },
   "outputs": [],
   "source": [
    "data = f_sum_df.reset_index()\n",
    "g = sns.factorplot(x=\"dropout\", y=\"mean\", hue=\"datasets\", data=data,\n",
    "                   col='latent_dim',\n",
    "                   size=3, kind=\"bar\", palette=\"muted\")\n",
    "g.map(errorbar, 'latent_dim', 'mean', 'std')\n",
    "for ax in np.ravel(g.axes):\n",
    "    ax.set_ylim([0.7, 0.9])"
   ]
  },
  {
   "cell_type": "code",
   "execution_count": 563,
   "metadata": {
    "collapsed": false,
    "deletable": true,
    "editable": true
   },
   "outputs": [],
   "source": [
    "data = nf_sum_df.reset_index()\n",
    "g = sns.factorplot(x=\"penalty\", y=\"mean\", hue=\"datasets\", data=data,\n",
    "                   size=3, kind=\"bar\", palette=\"muted\")\n",
    "g.map(errorbar, 'penalty', 'mean', 'std')\n",
    "for ax in np.ravel(g.axes):\n",
    "    ax.set_ylim([0.7, 0.9])"
   ]
  },
  {
   "cell_type": "code",
   "execution_count": 564,
   "metadata": {
    "collapsed": false,
    "deletable": true,
    "editable": true
   },
   "outputs": [
    {
     "data": {
      "image/png": "[encoded data removed]",
      "text/plain": [
       "<matplotlib.figure.Figure at 0x7fa0fc609400>"
      ]
     },
     "metadata": {},
     "output_type": "display_data"
    },
    {
     "data": {
      "image/png": "[encoded data removed]",
      "text/plain": [
       "<matplotlib.figure.Figure at 0x7fa0e32dce80>"
      ]
     },
     "metadata": {},
     "output_type": "display_data"
    }
   ],
   "source": [
    "plt.show()"
   ]
  },
  {
   "cell_type": "code",
   "execution_count": 516,
   "metadata": {
    "collapsed": false,
    "deletable": true,
    "editable": true
   },
   "outputs": [
    {
     "data": {
      "text/plain": [
       "latent_dim  dropout  datasets \n",
       "30          0.0      archi              (archi, 1e-05, 0.0001, 0.0, linear, 30)\n",
       "                     archi_hcp         (archi_hcp, 0.001, 0.0, 0.0, linear, 30)\n",
       "            0.3      archi                 (archi, 1e-06, 0.0, 0.3, linear, 30)\n",
       "                     archi_hcp     (archi_hcp, 0.0001, 0.0001, 0.3, linear, 30)\n",
       "            0.6      archi               (archi, 1e-06, 1e-05, 0.6, linear, 30)\n",
       "                     archi_hcp     (archi_hcp, 0.0001, 0.0001, 0.6, linear, 30)\n",
       "            0.9      archi               (archi, 1e-06, 1e-06, 0.9, linear, 30)\n",
       "                     archi_hcp     (archi_hcp, 0.0001, 0.0001, 0.9, linear, 30)\n",
       "100         0.0      archi             (archi, 1e-05, 0.0001, 0.0, linear, 100)\n",
       "                     archi_hcp     (archi_hcp, 0.001, 0.0001, 0.0, linear, 100)\n",
       "            0.3      archi              (archi, 1e-06, 1e-05, 0.3, linear, 100)\n",
       "                     archi_hcp    (archi_hcp, 0.0001, 0.0001, 0.3, linear, 100)\n",
       "            0.6      archi              (archi, 1e-06, 1e-05, 0.6, linear, 100)\n",
       "                     archi_hcp     (archi_hcp, 1e-05, 0.0001, 0.6, linear, 100)\n",
       "            0.9      archi              (archi, 1e-06, 1e-06, 0.9, linear, 100)\n",
       "                     archi_hcp     (archi_hcp, 0.0001, 1e-06, 0.9, linear, 100)\n",
       "200         0.0      archi             (archi, 1e-06, 0.0001, 0.0, linear, 200)\n",
       "                     archi_hcp     (archi_hcp, 0.001, 0.0001, 0.0, linear, 200)\n",
       "            0.3      archi            (archi, 0.0001, 0.0001, 0.3, linear, 200)\n",
       "                     archi_hcp    (archi_hcp, 0.0001, 0.0001, 0.3, linear, 200)\n",
       "            0.6      archi              (archi, 1e-06, 1e-05, 0.6, linear, 200)\n",
       "                     archi_hcp     (archi_hcp, 1e-05, 0.0001, 0.6, linear, 200)\n",
       "            0.9      archi              (archi, 1e-06, 1e-06, 0.9, linear, 200)\n",
       "                     archi_hcp     (archi_hcp, 1e-05, 0.0001, 0.9, linear, 200)\n",
       "Name: mean, dtype: object"
      ]
     },
     "execution_count": 516,
     "metadata": {},
     "output_type": "execute_result"
    }
   ],
   "source": [
    "arg_sum_df"
   ]
  },
  {
   "cell_type": "code",
   "execution_count": 539,
   "metadata": {
    "collapsed": false,
    "deletable": true,
    "editable": true
   },
   "outputs": [
    {
     "data": {
      "text/plain": [
       "latent_dim  dropout\n",
       "30          0.0             (archi_hcp, 0.001, 0.0, 0.0, linear, 30)\n",
       "            0.3         (archi_hcp, 0.0001, 0.0001, 0.3, linear, 30)\n",
       "            0.6         (archi_hcp, 0.0001, 0.0001, 0.6, linear, 30)\n",
       "            0.9         (archi_hcp, 0.0001, 0.0001, 0.9, linear, 30)\n",
       "100         0.0         (archi_hcp, 0.001, 0.0001, 0.0, linear, 100)\n",
       "            0.3        (archi_hcp, 0.0001, 0.0001, 0.3, linear, 100)\n",
       "            0.6         (archi_hcp, 1e-05, 0.0001, 0.6, linear, 100)\n",
       "            0.9         (archi_hcp, 0.0001, 1e-06, 0.9, linear, 100)\n",
       "200         0.0         (archi_hcp, 0.001, 0.0001, 0.0, linear, 200)\n",
       "            0.3        (archi_hcp, 0.0001, 0.0001, 0.3, linear, 200)\n",
       "            0.6         (archi_hcp, 1e-05, 0.0001, 0.6, linear, 200)\n",
       "            0.9         (archi_hcp, 1e-05, 0.0001, 0.9, linear, 200)\n",
       "Name: mean, dtype: object"
      ]
     },
     "execution_count": 539,
     "metadata": {},
     "output_type": "execute_result"
    }
   ],
   "source": [
    "arg_sum_df.loc[idx[:, :, 'archi_hcp']]"
   ]
  },
  {
   "cell_type": "code",
   "execution_count": 548,
   "metadata": {
    "collapsed": false,
    "deletable": true,
    "editable": true
   },
   "outputs": [
    {
     "name": "stdout",
     "output_type": "stream",
     "text": [
      "(30, 0.0) 0.0401709401709\n",
      "(30, 0.3) 0.0663247863248\n",
      "(30, 0.6) 0.082735042735\n",
      "(30, 0.9) 0.0799145299145\n",
      "(100, 0.0) 0.00435897435897\n",
      "(100, 0.3) 0.0153846153846\n",
      "(100, 0.6) 0.0345299145299\n",
      "(100, 0.9) 0.0623931623932\n",
      "(200, 0.0) 0.00128205128205\n",
      "(200, 0.3) 0.00897435897436\n",
      "(200, 0.6) 0.0199145299145\n",
      "(200, 0.9) 0.0479487179487\n"
     ]
    }
   ],
   "source": [
    "for indices in arg_sum_df.index.values[::2]:\n",
    "    diff = df.loc[arg_sum_df.loc[idx[:, :, 'archi_hcp']].loc[indices[:2]]] - df.loc[arg_sum_df.loc[idx[:, :, 'archi']].loc[indices[:2]]]\n",
    "    mean = diff['test_score'].mean()\n",
    "    print(indices[:2], mean)"
   ]
  },
  {
   "cell_type": "code",
   "execution_count": 541,
   "metadata": {
    "collapsed": false,
    "deletable": true,
    "editable": true
   },
   "outputs": [
    {
     "data": {
      "text/plain": [
       "array([(30, 0.0, 'archi'), (30, 0.0, 'archi_hcp'), (30, 0.3, 'archi'),\n",
       "       (30, 0.3, 'archi_hcp'), (30, 0.6, 'archi'), (30, 0.6, 'archi_hcp'),\n",
       "       (30, 0.9, 'archi'), (30, 0.9, 'archi_hcp'), (100, 0.0, 'archi'),\n",
       "       (100, 0.0, 'archi_hcp'), (100, 0.3, 'archi'),\n",
       "       (100, 0.3, 'archi_hcp'), (100, 0.6, 'archi'),\n",
       "       (100, 0.6, 'archi_hcp'), (100, 0.9, 'archi'),\n",
       "       (100, 0.9, 'archi_hcp'), (200, 0.0, 'archi'),\n",
       "       (200, 0.0, 'archi_hcp'), (200, 0.3, 'archi'),\n",
       "       (200, 0.3, 'archi_hcp'), (200, 0.6, 'archi'),\n",
       "       (200, 0.6, 'archi_hcp'), (200, 0.9, 'archi'),\n",
       "       (200, 0.9, 'archi_hcp')], dtype=object)"
      ]
     },
     "execution_count": 541,
     "metadata": {},
     "output_type": "execute_result"
    }
   ],
   "source": [
    "arg_sum_df.index.values"
   ]
  },
  {
   "cell_type": "code",
   "execution_count": null,
   "metadata": {
    "collapsed": true,
    "deletable": true,
    "editable": true
   },
   "outputs": [],
   "source": []
  }
 ],
 "metadata": {
  "kernelspec": {
   "display_name": "Python 3",
   "language": "python",
   "name": "python3"
  },
  "language_info": {
   "codemirror_mode": {
    "name": "ipython",
    "version": 3
   },
   "file_extension": ".py",
   "mimetype": "text/x-python",
   "name": "python",
   "nbconvert_exporter": "python",
   "pygments_lexer": "ipython3",
   "version": "3.6.0"
  }
 },
 "nbformat": 4,
 "nbformat_minor": 2
}
