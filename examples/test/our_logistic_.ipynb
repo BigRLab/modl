{
 "cells": [
  {
   "cell_type": "code",
   "execution_count": 47,
   "metadata": {
    "collapsed": true
   },
   "outputs": [],
   "source": [
    "from modl.classification import OurLogisticRegressionCV"
   ]
  },
  {
   "cell_type": "code",
   "execution_count": 48,
   "metadata": {},
   "outputs": [],
   "source": [
    "from sklearn import datasets\n",
    "digits = datasets.load_digits()"
   ]
  },
  {
   "cell_type": "code",
   "execution_count": 49,
   "metadata": {},
   "outputs": [],
   "source": [
    "from sklearn.model_selection import train_test_split\n",
    "\n",
    "X, y = digits.data, digits.target\n",
    "X = X[::5]\n",
    "y = y[::5]\n",
    "X_train, X_test, y_train, y_test = train_test_split(X, y, random_state=0, test_size=.1)"
   ]
  },
  {
   "cell_type": "code",
   "execution_count": 52,
   "metadata": {},
   "outputs": [
    {
     "name": "stdout",
     "output_type": "stream",
     "text": [
      "0.944444444444\n0.944444444444\n0.944444444444\n0.944444444444\n0.944444444444\n0.944444444444\n0.944444444444\n0.944444444444\n"
     ]
    }
   ],
   "source": [
    "from modl.utils.system import get_cache_dirs\n",
    "from sklearn.externals.joblib import Memory\n",
    "\n",
    "for loss in ['l1', 'l2']:\n",
    "    for standardize in [True, False]:\n",
    "        for refit in [True, False]:\n",
    "            classifier = OurLogisticRegressionCV(\n",
    "                Cs=[.1, 1, 10], memory=Memory(cachedir=get_cache_dirs()[0]),\n",
    "                                              refit=True,\n",
    "                max_iter=10, cv=2, loss='l2')\n",
    "            classifier.fit(X_train, y_train)\n",
    "            score = classifier.score(X_test, y_test)\n",
    "            print(score)"
   ]
  },
  {
   "cell_type": "code",
   "execution_count": 45,
   "metadata": {},
   "outputs": [
    {
     "name": "stderr",
     "output_type": "stream",
     "text": [
      "/opt/miniconda3/lib/python3.6/site-packages/sklearn/externals/joblib/logger.py:77: DeprecationWarning: The 'warn' function is deprecated, use 'warning' instead\n  logging.warn(\"[%s]: %s\" % (self, msg))\nWARNING:root:[MemorizedFunc(func=<function _logistic_regression at 0x7f1d1bdda730>, cachedir='/home/arthur/cache/joblib')]: Clearing cache /home/arthur/cache/joblib/modl/classification/_logistic_regression\n"
     ]
    },
    {
     "name": "stdout",
     "output_type": "stream",
     "text": [
      "________________________________________________________________________________\n[Memory] Calling modl.classification._logistic_regression...\n_logistic_regression(array([[ 0., ...,  0.],\n       ..., \n       [ 0., ...,  0.]]), array([4, ..., 8]), standardize=False, Cs=[0.1, 1, 10], tol=0.0001, max_iter=100, refit=True, loss='l2', cv=10, n_jobs=1, random_state=None, verbose=0)\n"
     ]
    },
    {
     "name": "stderr",
     "output_type": "stream",
     "text": [
      "/opt/miniconda3/lib/python3.6/site-packages/sklearn/linear_model/sag.py:286: ConvergenceWarning: The max_iter was reached which means the coef_ did not converge\n  \"the coef_ did not converge\", ConvergenceWarning)\n"
     ]
    },
    {
     "name": "stderr",
     "output_type": "stream",
     "text": [
      "/opt/miniconda3/lib/python3.6/site-packages/sklearn/linear_model/sag.py:286: ConvergenceWarning: The max_iter was reached which means the coef_ did not converge\n  \"the coef_ did not converge\", ConvergenceWarning)\n"
     ]
    },
    {
     "name": "stdout",
     "output_type": "stream",
     "text": [
      "_____________________________________________logistic_regression - 27.2s, 0.5min\n"
     ]
    },
    {
     "data": {
      "text/plain": [
       "OurLogisticRegressionCV(Cs=[0.1, 1, 10], cv=10, loss='l2', max_iter=100,\n            memory=Memory(cachedir='/home/arthur/cache/joblib'),\n            memory_level=1, n_jobs=1, random_state=None, refit=True,\n            standardize=False, tol=0.0001, verbose=0)"
      ]
     },
     "execution_count": 45,
     "metadata": {},
     "output_type": "execute_result"
    }
   ],
   "source": [
    "classifier.fit(X_train, y_train)"
   ]
  },
  {
   "cell_type": "code",
   "execution_count": 46,
   "metadata": {},
   "outputs": [
    {
     "data": {
      "text/plain": [
       "0.96111111111111114"
      ]
     },
     "execution_count": 46,
     "metadata": {},
     "output_type": "execute_result"
    }
   ],
   "source": [
    "classifier.score(X_test, y_test)"
   ]
  },
  {
   "cell_type": "code",
   "execution_count": null,
   "metadata": {},
   "outputs": [],
   "source": [
    ""
   ]
  }
 ],
 "metadata": {
  "kernelspec": {
   "display_name": "Python 2",
   "language": "python",
   "name": "python2"
  },
  "language_info": {
   "codemirror_mode": {
    "name": "ipython",
    "version": 2.0
   },
   "file_extension": ".py",
   "mimetype": "text/x-python",
   "name": "python",
   "nbconvert_exporter": "python",
   "pygments_lexer": "ipython2",
   "version": "2.7.6"
  }
 },
 "nbformat": 4,
 "nbformat_minor": 0
}