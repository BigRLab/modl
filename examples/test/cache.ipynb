{
 "cells": [
  {
   "cell_type": "code",
   "execution_count": 1,
   "metadata": {
    "collapsed": true
   },
   "outputs": [],
   "source": [
    "from sklearn import datasets\n",
    "digits = datasets.load_digits()"
   ]
  },
  {
   "cell_type": "code",
   "execution_count": 2,
   "metadata": {},
   "outputs": [],
   "source": [
    "from lightning.impl.primal_cd import CDClassifier\n",
    "\n",
    "classifier = CDClassifier(loss='log', penalty='l1',\n",
    "                          random_state=0)\n",
    "X, y = digits.data, digits.target"
   ]
  },
  {
   "cell_type": "code",
   "execution_count": 3,
   "metadata": {},
   "outputs": [],
   "source": [
    "from modl.utils.cache import CachedEstimator"
   ]
  },
  {
   "cell_type": "code",
   "execution_count": 4,
   "metadata": {
    "collapsed": true
   },
   "outputs": [],
   "source": [
    "from modl.utils.system import get_cache_dirs\n",
    "from sklearn.externals.joblib import Memory\n",
    "\n",
    "classifier = CachedEstimator(classifier, memory=Memory(cachedir=get_cache_dirs()[0], verbose=10))"
   ]
  },
  {
   "cell_type": "code",
   "execution_count": 7,
   "metadata": {
    "collapsed": true
   },
   "outputs": [
    {
     "name": "stdout",
     "output_type": "stream",
     "text": [
      "Monkey patch\n[Memory]    9.3s, 0.2min: Loading _cached_call from /home/arthur/cache/joblib/modl/utils/cache/_cached_call/e2206ce8d4b002f2374624075ea79284\n_________________________________________cached_call cache loaded - 0.0s, 0.0min\n"
     ]
    },
    {
     "data": {
      "text/plain": [
       "CachedEstimator(estimator=CDClassifier(C=1.0, Cd=1.0, alpha=1.0, beta=0.5, callback=None,\n       debiasing=False, loss='log', max_iter=50, max_steps='auto',\n       multiclass=False, n_calls=100, n_jobs=1, penalty='l1', permute=True,\n       random_state=0, selection='cyclic', shrinking=True, sigma=0.01,\n       termination='violation_sum', tol=0.001, verbose=0,\n       warm_debiasing=False, warm_start=False),\n        ignore=None, ignored_attributes=None,\n        memory=Memory(cachedir='/home/arthur/cache/joblib'),\n        memory_level=1)"
      ]
     },
     "execution_count": 7,
     "metadata": {},
     "output_type": "execute_result"
    }
   ],
   "source": [
    "classifier.fit(X[::2], y[::2])"
   ]
  },
  {
   "cell_type": "code",
   "execution_count": 8,
   "metadata": {},
   "outputs": [
    {
     "name": "stdout",
     "output_type": "stream",
     "text": [
      "Monkey patch\nMonkey patch\n________________________________________________________________________________\n[Memory] Calling modl.utils.cache._cached_call...\n_cached_call(CDClassifier(C=1.0, Cd=1.0, alpha=1.0, beta=0.5, callback=None,\n       debiasing=False, loss='log', max_iter=50, max_steps='auto',\n       multiclass=False, n_calls=100, n_jobs=1, penalty='l1', permute=True,\n       random_state=0, selection='cyclic', shrinking=True, sigma=0.01,\n       termination='violation_sum', tol=0.001, verbose=0,\n       warm_debiasing=False, warm_start=False), \n'fit', array([[ 0., ...,  0.],\n       ..., \n       [ 0., ...,  0.]]), array([0, ..., 8]))\n"
     ]
    },
    {
     "name": "stdout",
     "output_type": "stream",
     "text": [
      "Monkey patch\n______________________________________________________cached_call - 2.2s, 0.0min\n"
     ]
    },
    {
     "data": {
      "text/plain": [
       "CachedEstimator(estimator=CDClassifier(C=1.0, Cd=1.0, alpha=1.0, beta=0.5, callback=None,\n       debiasing=False, loss='log', max_iter=50, max_steps='auto',\n       multiclass=False, n_calls=100, n_jobs=1, penalty='l1', permute=True,\n       random_state=0, selection='cyclic', shrinking=True, sigma=0.01,\n       termination='violation_sum', tol=0.001, verbose=0,\n       warm_debiasing=False, warm_start=False),\n        ignore=None, ignored_attributes=None,\n        memory=Memory(cachedir='/home/arthur/cache/joblib'),\n        memory_level=1)"
      ]
     },
     "execution_count": 8,
     "metadata": {},
     "output_type": "execute_result"
    }
   ],
   "source": [
    "classifier.fit(X, y)"
   ]
  },
  {
   "cell_type": "code",
   "execution_count": 14,
   "metadata": {},
   "outputs": [
    {
     "name": "stdout",
     "output_type": "stream",
     "text": [
      "Monkey patch\n"
     ]
    },
    {
     "ename": "AttributeError",
     "evalue": "'CDClassifier' object has no attribute '_old_getstate'",
     "traceback": [
      "\u001b[0;31m---------------------------------------------------------------------------\u001b[0m",
      "\u001b[0;31mAttributeError\u001b[0m                            Traceback (most recent call last)",
      "\u001b[0;32m<ipython-input-14-c8e414d3b453>\u001b[0m in \u001b[0;36m<module>\u001b[0;34m()\u001b[0m\n\u001b[0;32m----> 1\u001b[0;31m \u001b[0mclassifier\u001b[0m\u001b[0;34m.\u001b[0m\u001b[0m_getstate\u001b[0m\u001b[0;34m(\u001b[0m\u001b[0;34m)\u001b[0m\u001b[0;34m\u001b[0m\u001b[0m\n\u001b[0m",
      "\u001b[0;32m/home/arthur/work/repos/modl/modl/utils/cache.py\u001b[0m in \u001b[0;36m_getstate\u001b[0;34m(self)\u001b[0m\n\u001b[1;32m    178\u001b[0m     \u001b[0;32mdef\u001b[0m \u001b[0m_getstate\u001b[0m\u001b[0;34m(\u001b[0m\u001b[0mself\u001b[0m\u001b[0;34m)\u001b[0m\u001b[0;34m:\u001b[0m\u001b[0;34m\u001b[0m\u001b[0m\n\u001b[1;32m    179\u001b[0m         \u001b[0mprint\u001b[0m\u001b[0;34m(\u001b[0m\u001b[0;34m'Monkey patch'\u001b[0m\u001b[0;34m)\u001b[0m\u001b[0;34m\u001b[0m\u001b[0m\n\u001b[0;32m--> 180\u001b[0;31m         \u001b[0mstate\u001b[0m \u001b[0;34m=\u001b[0m \u001b[0mself\u001b[0m\u001b[0;34m.\u001b[0m\u001b[0mestimator_\u001b[0m\u001b[0;34m.\u001b[0m\u001b[0m_old_getstate\u001b[0m\u001b[0;34m(\u001b[0m\u001b[0;34m)\u001b[0m\u001b[0;34m\u001b[0m\u001b[0m\n\u001b[0m\u001b[1;32m    181\u001b[0m         \u001b[0;32mif\u001b[0m \u001b[0mself\u001b[0m\u001b[0;34m.\u001b[0m\u001b[0mignored_attributes\u001b[0m\u001b[0;34m:\u001b[0m\u001b[0;34m\u001b[0m\u001b[0m\n\u001b[1;32m    182\u001b[0m             \u001b[0;32mfor\u001b[0m \u001b[0mattribute\u001b[0m \u001b[0;32min\u001b[0m \u001b[0mself\u001b[0m\u001b[0;34m.\u001b[0m\u001b[0mignored_attributes\u001b[0m\u001b[0;34m:\u001b[0m\u001b[0;34m\u001b[0m\u001b[0m\n",
      "\u001b[0;31mAttributeError\u001b[0m: 'CDClassifier' object has no attribute '_old_getstate'"
     ],
     "output_type": "error"
    }
   ],
   "source": [
    "classifier._getstate()"
   ]
  },
  {
   "cell_type": "code",
   "execution_count": 28,
   "metadata": {},
   "outputs": [
    {
     "data": {
      "text/plain": [
       "CachedEstimator(estimator=CachedEstimator(estimator=CDClassifier(C=1.0, Cd=1.0, alpha=1.0, beta=0.5, callback=None,\n       debiasing=False, loss='log', max_iter=50, max_steps='auto',\n       multiclass=False, n_calls=100, n_jobs=1, penalty='l1', permute=True,\n       random_state=0, selection='cyclic', shrinking=True...m_start=False),\n        memory=Memory(cachedir='/home/arthur/cache/joblib'),\n        memory_level=1),\n        memory=Memory(cachedir='/home/arthur/cache/joblib'),\n        memory_level=1)"
      ]
     },
     "execution_count": 28,
     "metadata": {},
     "output_type": "execute_result"
    }
   ],
   "source": [
    "classifier.set_params(memory_level=1)"
   ]
  },
  {
   "cell_type": "code",
   "execution_count": 29,
   "metadata": {},
   "outputs": [
    {
     "data": {
      "text/plain": [
       "0.85754034501947696"
      ]
     },
     "execution_count": 29,
     "metadata": {},
     "output_type": "execute_result"
    }
   ],
   "source": [
    "classifier.score(X, y)"
   ]
  },
  {
   "cell_type": "code",
   "execution_count": 9,
   "metadata": {},
   "outputs": [
    {
     "name": "stdout",
     "output_type": "stream",
     "text": [
      "1.0\n"
     ]
    }
   ],
   "source": [
    "print(classifier.C)"
   ]
  },
  {
   "cell_type": "code",
   "execution_count": null,
   "metadata": {},
   "outputs": [],
   "source": [
    ""
   ]
  }
 ],
 "metadata": {
  "kernelspec": {
   "display_name": "Python 2",
   "language": "python",
   "name": "python2"
  },
  "language_info": {
   "codemirror_mode": {
    "name": "ipython",
    "version": 2.0
   },
   "file_extension": ".py",
   "mimetype": "text/x-python",
   "name": "python",
   "nbconvert_exporter": "python",
   "pygments_lexer": "ipython2",
   "version": "2.7.6"
  }
 },
 "nbformat": 4,
 "nbformat_minor": 0
}