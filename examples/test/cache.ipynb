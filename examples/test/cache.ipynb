{
 "cells": [
  {
   "cell_type": "code",
   "execution_count": 1,
   "metadata": {
    "collapsed": true
   },
   "outputs": [],
   "source": [
    "from sklearn import datasets\n",
    "digits = datasets.load_digits()"
   ]
  },
  {
   "cell_type": "code",
   "execution_count": 2,
   "metadata": {},
   "outputs": [],
   "source": [
    "from lightning.impl.primal_cd import CDClassifier\n",
    "\n",
    "classifier = CDClassifier(loss='log', penalty='l1',\n",
    "                          random_state=0)\n",
    "X, y = digits.data, digits.target"
   ]
  },
  {
   "cell_type": "code",
   "execution_count": 3,
   "metadata": {},
   "outputs": [],
   "source": [
    "from modl.utils.cache import CachedEstimator"
   ]
  },
  {
   "cell_type": "code",
   "execution_count": 17,
   "metadata": {
    "collapsed": true
   },
   "outputs": [],
   "source": [
    "from modl.utils.system import get_cache_dirs\n",
    "from sklearn.externals.joblib import Memory\n",
    "\n",
    "classifier = CachedEstimator(classifier, memory=Memory(cachedir=get_cache_dirs()[0], verbose=10))"
   ]
  },
  {
   "cell_type": "code",
   "execution_count": 18,
   "metadata": {
    "collapsed": true
   },
   "outputs": [
    {
     "name": "stdout",
     "output_type": "stream",
     "text": [
      "________________________________________________________________________________\n[Memory] Calling modl.utils.cache._cached_call...\n_cached_call(CachedEstimator(estimator=CDClassifier(C=1.0, Cd=1.0, alpha=1.0, beta=0.5, callback=None,\n       debiasing=False, loss='log', max_iter=50, max_steps='auto',\n       multiclass=False, n_calls=100, n_jobs=1, penalty='l1', permute=True,\n       random_state=0, selection='cyclic', shrinking=True, sigma=0.01,\n       termination='violation_sum', tol=0.001, verbose=0,\n       warm_debiasing=False, warm_start=False),\n        memory=Memory(cachedir='/home/arthur/cache/joblib'),\n        memory_level=1), \n'fit', array([[ 0., ...,  0.],\n       ..., \n       [ 0., ...,  0.]]), array([0, ..., 8]))\n______________________________________________________cached_call - 0.0s, 0.0min\n"
     ]
    },
    {
     "data": {
      "text/plain": [
       "CachedEstimator(estimator=CachedEstimator(estimator=CDClassifier(C=1.0, Cd=1.0, alpha=1.0, beta=0.5, callback=None,\n       debiasing=False, loss='log', max_iter=50, max_steps='auto',\n       multiclass=False, n_calls=100, n_jobs=1, penalty='l1', permute=True,\n       random_state=0, selection='cyclic', shrinking=True...m_start=False),\n        memory=Memory(cachedir='/home/arthur/cache/joblib'),\n        memory_level=1),\n        memory=Memory(cachedir='/home/arthur/cache/joblib'),\n        memory_level=1)"
      ]
     },
     "execution_count": 18,
     "metadata": {},
     "output_type": "execute_result"
    }
   ],
   "source": [
    "classifier.fit(X[::2], y[::2])"
   ]
  },
  {
   "cell_type": "code",
   "execution_count": 19,
   "metadata": {},
   "outputs": [
    {
     "name": "stdout",
     "output_type": "stream",
     "text": [
      "________________________________________________________________________________\n[Memory] Calling modl.utils.cache._cached_call...\n_cached_call(CachedEstimator(estimator=CDClassifier(C=1.0, Cd=1.0, alpha=1.0, beta=0.5, callback=None,\n       debiasing=False, loss='log', max_iter=50, max_steps='auto',\n       multiclass=False, n_calls=100, n_jobs=1, penalty='l1', permute=True,\n       random_state=0, selection='cyclic', shrinking=True, sigma=0.01,\n       termination='violation_sum', tol=0.001, verbose=0,\n       warm_debiasing=False, warm_start=False),\n        memory=Memory(cachedir='/home/arthur/cache/joblib'),\n        memory_level=1), \n'fit', array([[ 0., ...,  0.],\n       ..., \n       [ 0., ...,  0.]]), array([0, ..., 8]))\n______________________________________________________cached_call - 0.0s, 0.0min\n"
     ]
    },
    {
     "data": {
      "text/plain": [
       "CachedEstimator(estimator=CachedEstimator(estimator=CDClassifier(C=1.0, Cd=1.0, alpha=1.0, beta=0.5, callback=None,\n       debiasing=False, loss='log', max_iter=50, max_steps='auto',\n       multiclass=False, n_calls=100, n_jobs=1, penalty='l1', permute=True,\n       random_state=0, selection='cyclic', shrinking=True...m_start=False),\n        memory=Memory(cachedir='/home/arthur/cache/joblib'),\n        memory_level=1),\n        memory=Memory(cachedir='/home/arthur/cache/joblib'),\n        memory_level=1)"
      ]
     },
     "execution_count": 19,
     "metadata": {},
     "output_type": "execute_result"
    }
   ],
   "source": [
    "classifier.fit(X, y)"
   ]
  },
  {
   "cell_type": "code",
   "execution_count": 21,
   "metadata": {},
   "outputs": [
    {
     "data": {
      "text/plain": [
       "0.85754034501947696"
      ]
     },
     "execution_count": 21,
     "metadata": {},
     "output_type": "execute_result"
    }
   ],
   "source": [
    "classifier.score(X, y)"
   ]
  },
  {
   "cell_type": "code",
   "execution_count": 28,
   "metadata": {},
   "outputs": [
    {
     "data": {
      "text/plain": [
       "CachedEstimator(estimator=CachedEstimator(estimator=CDClassifier(C=1.0, Cd=1.0, alpha=1.0, beta=0.5, callback=None,\n       debiasing=False, loss='log', max_iter=50, max_steps='auto',\n       multiclass=False, n_calls=100, n_jobs=1, penalty='l1', permute=True,\n       random_state=0, selection='cyclic', shrinking=True...m_start=False),\n        memory=Memory(cachedir='/home/arthur/cache/joblib'),\n        memory_level=1),\n        memory=Memory(cachedir='/home/arthur/cache/joblib'),\n        memory_level=1)"
      ]
     },
     "execution_count": 28,
     "metadata": {},
     "output_type": "execute_result"
    }
   ],
   "source": [
    "classifier.set_params(memory_level=1)"
   ]
  },
  {
   "cell_type": "code",
   "execution_count": 29,
   "metadata": {},
   "outputs": [
    {
     "data": {
      "text/plain": [
       "0.85754034501947696"
      ]
     },
     "execution_count": 29,
     "metadata": {},
     "output_type": "execute_result"
    }
   ],
   "source": [
    "classifier.score(X, y)"
   ]
  },
  {
   "cell_type": "code",
   "execution_count": 9,
   "metadata": {},
   "outputs": [
    {
     "name": "stdout",
     "output_type": "stream",
     "text": [
      "1.0\n"
     ]
    }
   ],
   "source": [
    "print(classifier.C)"
   ]
  },
  {
   "cell_type": "code",
   "execution_count": null,
   "metadata": {},
   "outputs": [],
   "source": [
    ""
   ]
  }
 ],
 "metadata": {
  "kernelspec": {
   "display_name": "Python 2",
   "language": "python",
   "name": "python2"
  },
  "language_info": {
   "codemirror_mode": {
    "name": "ipython",
    "version": 2.0
   },
   "file_extension": ".py",
   "mimetype": "text/x-python",
   "name": "python",
   "nbconvert_exporter": "python",
   "pygments_lexer": "ipython2",
   "version": "2.7.6"
  }
 },
 "nbformat": 4,
 "nbformat_minor": 0
}