{
 "cells": [
  {
   "cell_type": "code",
   "execution_count": 1,
   "metadata": {
    "collapsed": false
   },
   "outputs": [],
   "source": [
    "import glob\n",
    "import os\n",
    "from os.path import join\n",
    "\n",
    "import pandas as pd\n",
    "\n",
    "from modl.datasets import get_data_dirs\n",
    "\n",
    "\n",
    "def fetch_archi(data_dir=None, n_subjects=None):\n",
    "    data_dir = get_data_dirs(data_dir)[0]\n",
    "    source_dir = join(data_dir, 'archi', 'unsmoothed')\n",
    "    if not os.path.exists(source_dir):\n",
    "        raise ValueError('Please ensure that archi can be found under $MODL_DATA'\n",
    "                         'repository.')\n",
    "    z_maps = glob.glob(join(source_dir, '*', '*_z_map.nii'))\n",
    "    subjects = []\n",
    "    contrasts = []\n",
    "    for z_map in z_maps:\n",
    "        dirname, filename = os.path.split(z_map)\n",
    "        _, subject = os.path.split(dirname)\n",
    "        subject = int(subject[-3:])\n",
    "        contrast = filename.replace('_z_map.nii', '')\n",
    "        subjects.append(subject)\n",
    "        contrasts.append(contrast)\n",
    "    df = pd.DataFrame(data=[pd.Series(data=subjects, name='subject'),\n",
    "                            pd.Series(data=contrasts, name='contrast'),\n",
    "                            pd.Series(data=z_maps, name='z_map')]).T\n",
    "    df.set_index(['subject', 'contrast'], inplace=True)\n",
    "    df.sort_index(inplace=True)\n",
    "    subjects = df.index.get_level_values('subject').unique().values.tolist()\n",
    "    df = df.loc[subjects[:n_subjects]]\n",
    "    return df"
   ]
  },
  {
   "cell_type": "code",
   "execution_count": 2,
   "metadata": {
    "collapsed": false
   },
   "outputs": [],
   "source": [
    "df = fetch_archi(n_subjects=10)"
   ]
  },
  {
   "cell_type": "code",
   "execution_count": 3,
   "metadata": {
    "collapsed": false
   },
   "outputs": [
    {
     "data": {
      "text/plain": [
       "Int64Index([1, 2, 3, 4, 5, 6, 7, 8, 10, 11], dtype='int64', name='subject')"
      ]
     },
     "execution_count": 3,
     "metadata": {},
     "output_type": "execute_result"
    }
   ],
   "source": [
    "df.index.get_level_values('subject').unique()"
   ]
  },
  {
   "cell_type": "code",
   "execution_count": 4,
   "metadata": {
    "collapsed": false
   },
   "outputs": [],
   "source": [
    "contrasts = df.index.get_level_values('contrast').unique().values"
   ]
  },
  {
   "cell_type": "code",
   "execution_count": 5,
   "metadata": {
    "collapsed": true
   },
   "outputs": [],
   "source": [
    "import re\n",
    "prog = re.compile(r\"^[^-]*\\Z\")"
   ]
  },
  {
   "cell_type": "code",
   "execution_count": 6,
   "metadata": {
    "collapsed": false
   },
   "outputs": [],
   "source": [
    "interesting_contrasts = []\n",
    "for contrast in contrasts:\n",
    "    if prog.match(contrast):\n",
    "        interesting_contrasts.append(contrast)"
   ]
  },
  {
   "cell_type": "code",
   "execution_count": 7,
   "metadata": {
    "collapsed": false
   },
   "outputs": [
    {
     "data": {
      "text/plain": [
       "['all_expression',\n",
       " 'all_face',\n",
       " 'effects_of_interest',\n",
       " 'expression_control',\n",
       " 'expression_intention',\n",
       " 'expression_sex',\n",
       " 'face_control',\n",
       " 'face_sex',\n",
       " 'face_trusty',\n",
       " 'false_belief_audio',\n",
       " 'false_belief_video',\n",
       " 'mecanistic_audio',\n",
       " 'mecanistic_video',\n",
       " 'non_speech',\n",
       " 'object_grasp',\n",
       " 'object_orientation',\n",
       " 'rotation_hand',\n",
       " 'rotation_side',\n",
       " 'saccade',\n",
       " 'speech',\n",
       " 'triangle_intention',\n",
       " 'triangle_random']"
      ]
     },
     "execution_count": 7,
     "metadata": {},
     "output_type": "execute_result"
    }
   ],
   "source": [
    "interesting_contrasts"
   ]
  },
  {
   "cell_type": "code",
   "execution_count": 143,
   "metadata": {
    "collapsed": false
   },
   "outputs": [
    {
     "data": {
      "text/plain": [
       "'H-V'"
      ]
     },
     "execution_count": 143,
     "metadata": {},
     "output_type": "execute_result"
    }
   ],
   "source": [
    "contrast[0]"
   ]
  },
  {
   "cell_type": "code",
   "execution_count": null,
   "metadata": {
    "collapsed": true
   },
   "outputs": [],
   "source": []
  }
 ],
 "metadata": {
  "kernelspec": {
   "display_name": "Python 3",
   "language": "python",
   "name": "python3"
  },
  "language_info": {
   "codemirror_mode": {
    "name": "ipython",
    "version": 3
   },
   "file_extension": ".py",
   "mimetype": "text/x-python",
   "name": "python",
   "nbconvert_exporter": "python",
   "pygments_lexer": "ipython3",
   "version": "3.6.0"
  }
 },
 "nbformat": 4,
 "nbformat_minor": 0
}
